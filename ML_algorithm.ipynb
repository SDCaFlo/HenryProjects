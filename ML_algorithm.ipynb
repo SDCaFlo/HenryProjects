{
 "cells": [
  {
   "cell_type": "markdown",
   "metadata": {},
   "source": [
    "# Lógica ML"
   ]
  },
  {
   "cell_type": "code",
   "execution_count": 2,
   "metadata": {},
   "outputs": [],
   "source": [
    "import pandas as pd\n",
    "import numpy as np\n",
    "from sklearn.metrics.pairwise import cosine_similarity\n",
    "import math\n",
    "import seaborn as sns"
   ]
  },
  {
   "cell_type": "code",
   "execution_count": 33,
   "metadata": {},
   "outputs": [],
   "source": [
    "# tomamos el ID como indice\n",
    "movies_ml_df = pd.read_csv(\"transformed_consultas/movies_ml_df.csv\", index_col=\"id\")"
   ]
  },
  {
   "cell_type": "code",
   "execution_count": 34,
   "metadata": {},
   "outputs": [
    {
     "data": {
      "text/html": [
       "<div>\n",
       "<style scoped>\n",
       "    .dataframe tbody tr th:only-of-type {\n",
       "        vertical-align: middle;\n",
       "    }\n",
       "\n",
       "    .dataframe tbody tr th {\n",
       "        vertical-align: top;\n",
       "    }\n",
       "\n",
       "    .dataframe thead th {\n",
       "        text-align: right;\n",
       "    }\n",
       "</style>\n",
       "<table border=\"1\" class=\"dataframe\">\n",
       "  <thead>\n",
       "    <tr style=\"text-align: right;\">\n",
       "      <th></th>\n",
       "      <th>release_year</th>\n",
       "      <th>vote_average</th>\n",
       "      <th>popularity_log</th>\n",
       "      <th>vote_count_log</th>\n",
       "      <th>title_collection</th>\n",
       "      <th>concat_country_language</th>\n",
       "      <th>genres</th>\n",
       "      <th>production_companies</th>\n",
       "      <th>Overview_pca_1</th>\n",
       "      <th>Overview_pca_2</th>\n",
       "      <th>Overview_pca_3</th>\n",
       "      <th>Overview_pca_4</th>\n",
       "      <th>Overview_pca_5</th>\n",
       "      <th>Overview_pca_6</th>\n",
       "      <th>Overview_pca_7</th>\n",
       "      <th>Overview_pca_8</th>\n",
       "      <th>Overview_pca_9</th>\n",
       "      <th>Overview_pca_10</th>\n",
       "    </tr>\n",
       "    <tr>\n",
       "      <th>id</th>\n",
       "      <th></th>\n",
       "      <th></th>\n",
       "      <th></th>\n",
       "      <th></th>\n",
       "      <th></th>\n",
       "      <th></th>\n",
       "      <th></th>\n",
       "      <th></th>\n",
       "      <th></th>\n",
       "      <th></th>\n",
       "      <th></th>\n",
       "      <th></th>\n",
       "      <th></th>\n",
       "      <th></th>\n",
       "      <th></th>\n",
       "      <th></th>\n",
       "      <th></th>\n",
       "      <th></th>\n",
       "    </tr>\n",
       "  </thead>\n",
       "  <tbody>\n",
       "    <tr>\n",
       "      <th>2</th>\n",
       "      <td>1988</td>\n",
       "      <td>7.1</td>\n",
       "      <td>1.581139</td>\n",
       "      <td>3.806662</td>\n",
       "      <td>('ariel',)</td>\n",
       "      <td>('de', 'fi')</td>\n",
       "      <td>('Drama', 'Crime')</td>\n",
       "      <td>('Finnish Film Foundation', 'Villealfa Filmpro...</td>\n",
       "      <td>-0.059245</td>\n",
       "      <td>0.287946</td>\n",
       "      <td>-0.129547</td>\n",
       "      <td>-0.008717</td>\n",
       "      <td>-0.191959</td>\n",
       "      <td>0.032205</td>\n",
       "      <td>-0.046159</td>\n",
       "      <td>0.276679</td>\n",
       "      <td>-0.021542</td>\n",
       "      <td>0.014924</td>\n",
       "    </tr>\n",
       "    <tr>\n",
       "      <th>3</th>\n",
       "      <td>1986</td>\n",
       "      <td>7.1</td>\n",
       "      <td>1.191529</td>\n",
       "      <td>3.583519</td>\n",
       "      <td>('shadow', 'paradise')</td>\n",
       "      <td>('sv', 'en', 'fi')</td>\n",
       "      <td>('Comedy', 'Drama')</td>\n",
       "      <td>('Villealfa Filmproduction Oy',)</td>\n",
       "      <td>-0.070060</td>\n",
       "      <td>0.487846</td>\n",
       "      <td>0.373337</td>\n",
       "      <td>0.431613</td>\n",
       "      <td>-0.056732</td>\n",
       "      <td>0.472987</td>\n",
       "      <td>-0.241054</td>\n",
       "      <td>0.016674</td>\n",
       "      <td>0.052932</td>\n",
       "      <td>0.038122</td>\n",
       "    </tr>\n",
       "    <tr>\n",
       "      <th>5</th>\n",
       "      <td>1995</td>\n",
       "      <td>6.5</td>\n",
       "      <td>2.305240</td>\n",
       "      <td>6.291569</td>\n",
       "      <td>('room',)</td>\n",
       "      <td>('en', 'us')</td>\n",
       "      <td>('Comedy', 'Crime')</td>\n",
       "      <td>('Miramax Films', 'A Band Apart')</td>\n",
       "      <td>-0.003963</td>\n",
       "      <td>-0.033321</td>\n",
       "      <td>-0.024928</td>\n",
       "      <td>-0.062604</td>\n",
       "      <td>-0.013472</td>\n",
       "      <td>0.006061</td>\n",
       "      <td>-0.011053</td>\n",
       "      <td>-0.040659</td>\n",
       "      <td>-0.001959</td>\n",
       "      <td>-0.041297</td>\n",
       "    </tr>\n",
       "    <tr>\n",
       "      <th>6</th>\n",
       "      <td>1993</td>\n",
       "      <td>6.4</td>\n",
       "      <td>1.877734</td>\n",
       "      <td>4.382027</td>\n",
       "      <td>('night', 'judgment')</td>\n",
       "      <td>('en', 'jp', 'us')</td>\n",
       "      <td>('Action', 'Crime', 'Thriller')</td>\n",
       "      <td>('Universal Pictures', 'Largo Entertainment', ...</td>\n",
       "      <td>-0.053165</td>\n",
       "      <td>-0.077903</td>\n",
       "      <td>-0.042561</td>\n",
       "      <td>-0.071470</td>\n",
       "      <td>-0.045343</td>\n",
       "      <td>0.025141</td>\n",
       "      <td>-0.054225</td>\n",
       "      <td>-0.101491</td>\n",
       "      <td>-0.045622</td>\n",
       "      <td>-0.188094</td>\n",
       "    </tr>\n",
       "    <tr>\n",
       "      <th>11</th>\n",
       "      <td>1977</td>\n",
       "      <td>8.1</td>\n",
       "      <td>3.764675</td>\n",
       "      <td>8.821585</td>\n",
       "      <td>('star', 'war')</td>\n",
       "      <td>('en', 'us')</td>\n",
       "      <td>('Action', 'Adventure', 'Science Fiction')</td>\n",
       "      <td>('Lucasfilm', 'Twentieth Century Fox Film Corp...</td>\n",
       "      <td>-0.026597</td>\n",
       "      <td>-0.053522</td>\n",
       "      <td>-0.041591</td>\n",
       "      <td>-0.089935</td>\n",
       "      <td>-0.019957</td>\n",
       "      <td>0.038030</td>\n",
       "      <td>0.007911</td>\n",
       "      <td>-0.063810</td>\n",
       "      <td>-0.025875</td>\n",
       "      <td>-0.053301</td>\n",
       "    </tr>\n",
       "  </tbody>\n",
       "</table>\n",
       "</div>"
      ],
      "text/plain": [
       "    release_year  vote_average  popularity_log  vote_count_log  \\\n",
       "id                                                               \n",
       "2           1988           7.1        1.581139        3.806662   \n",
       "3           1986           7.1        1.191529        3.583519   \n",
       "5           1995           6.5        2.305240        6.291569   \n",
       "6           1993           6.4        1.877734        4.382027   \n",
       "11          1977           8.1        3.764675        8.821585   \n",
       "\n",
       "          title_collection concat_country_language  \\\n",
       "id                                                   \n",
       "2               ('ariel',)            ('de', 'fi')   \n",
       "3   ('shadow', 'paradise')      ('sv', 'en', 'fi')   \n",
       "5                ('room',)            ('en', 'us')   \n",
       "6    ('night', 'judgment')      ('en', 'jp', 'us')   \n",
       "11         ('star', 'war')            ('en', 'us')   \n",
       "\n",
       "                                        genres  \\\n",
       "id                                               \n",
       "2                           ('Drama', 'Crime')   \n",
       "3                          ('Comedy', 'Drama')   \n",
       "5                          ('Comedy', 'Crime')   \n",
       "6              ('Action', 'Crime', 'Thriller')   \n",
       "11  ('Action', 'Adventure', 'Science Fiction')   \n",
       "\n",
       "                                 production_companies  Overview_pca_1  \\\n",
       "id                                                                      \n",
       "2   ('Finnish Film Foundation', 'Villealfa Filmpro...       -0.059245   \n",
       "3                    ('Villealfa Filmproduction Oy',)       -0.070060   \n",
       "5                   ('Miramax Films', 'A Band Apart')       -0.003963   \n",
       "6   ('Universal Pictures', 'Largo Entertainment', ...       -0.053165   \n",
       "11  ('Lucasfilm', 'Twentieth Century Fox Film Corp...       -0.026597   \n",
       "\n",
       "    Overview_pca_2  Overview_pca_3  Overview_pca_4  Overview_pca_5  \\\n",
       "id                                                                   \n",
       "2         0.287946       -0.129547       -0.008717       -0.191959   \n",
       "3         0.487846        0.373337        0.431613       -0.056732   \n",
       "5        -0.033321       -0.024928       -0.062604       -0.013472   \n",
       "6        -0.077903       -0.042561       -0.071470       -0.045343   \n",
       "11       -0.053522       -0.041591       -0.089935       -0.019957   \n",
       "\n",
       "    Overview_pca_6  Overview_pca_7  Overview_pca_8  Overview_pca_9  \\\n",
       "id                                                                   \n",
       "2         0.032205       -0.046159        0.276679       -0.021542   \n",
       "3         0.472987       -0.241054        0.016674        0.052932   \n",
       "5         0.006061       -0.011053       -0.040659       -0.001959   \n",
       "6         0.025141       -0.054225       -0.101491       -0.045622   \n",
       "11        0.038030        0.007911       -0.063810       -0.025875   \n",
       "\n",
       "    Overview_pca_10  \n",
       "id                   \n",
       "2          0.014924  \n",
       "3          0.038122  \n",
       "5         -0.041297  \n",
       "6         -0.188094  \n",
       "11        -0.053301  "
      ]
     },
     "execution_count": 34,
     "metadata": {},
     "output_type": "execute_result"
    }
   ],
   "source": [
    "# Revision del dataset.\n",
    "movies_ml_df.head()"
   ]
  },
  {
   "cell_type": "code",
   "execution_count": 35,
   "metadata": {},
   "outputs": [
    {
     "data": {
      "text/html": [
       "<div>\n",
       "<style scoped>\n",
       "    .dataframe tbody tr th:only-of-type {\n",
       "        vertical-align: middle;\n",
       "    }\n",
       "\n",
       "    .dataframe tbody tr th {\n",
       "        vertical-align: top;\n",
       "    }\n",
       "\n",
       "    .dataframe thead th {\n",
       "        text-align: right;\n",
       "    }\n",
       "</style>\n",
       "<table border=\"1\" class=\"dataframe\">\n",
       "  <thead>\n",
       "    <tr style=\"text-align: right;\">\n",
       "      <th></th>\n",
       "      <th>release_year</th>\n",
       "      <th>vote_average</th>\n",
       "      <th>popularity_log</th>\n",
       "      <th>vote_count_log</th>\n",
       "      <th>Overview_pca_1</th>\n",
       "      <th>Overview_pca_2</th>\n",
       "      <th>Overview_pca_3</th>\n",
       "      <th>Overview_pca_4</th>\n",
       "      <th>Overview_pca_5</th>\n",
       "      <th>Overview_pca_6</th>\n",
       "      <th>Overview_pca_7</th>\n",
       "      <th>Overview_pca_8</th>\n",
       "      <th>Overview_pca_9</th>\n",
       "      <th>Overview_pca_10</th>\n",
       "    </tr>\n",
       "  </thead>\n",
       "  <tbody>\n",
       "    <tr>\n",
       "      <th>count</th>\n",
       "      <td>44013.000000</td>\n",
       "      <td>44013.000000</td>\n",
       "      <td>44013.000000</td>\n",
       "      <td>44013.000000</td>\n",
       "      <td>4.401300e+04</td>\n",
       "      <td>4.401300e+04</td>\n",
       "      <td>4.401300e+04</td>\n",
       "      <td>4.401300e+04</td>\n",
       "      <td>4.401300e+04</td>\n",
       "      <td>4.401300e+04</td>\n",
       "      <td>4.401300e+04</td>\n",
       "      <td>4.401300e+04</td>\n",
       "      <td>4.401300e+04</td>\n",
       "      <td>4.401300e+04</td>\n",
       "    </tr>\n",
       "    <tr>\n",
       "      <th>mean</th>\n",
       "      <td>1991.741940</td>\n",
       "      <td>5.648788</td>\n",
       "      <td>0.997769</td>\n",
       "      <td>2.692927</td>\n",
       "      <td>-1.104850e-16</td>\n",
       "      <td>-1.178507e-16</td>\n",
       "      <td>-5.973254e-18</td>\n",
       "      <td>-1.306044e-16</td>\n",
       "      <td>-3.899768e-17</td>\n",
       "      <td>-4.046072e-17</td>\n",
       "      <td>-8.717722e-17</td>\n",
       "      <td>5.000582e-17</td>\n",
       "      <td>-2.984609e-17</td>\n",
       "      <td>-2.728324e-17</td>\n",
       "    </tr>\n",
       "    <tr>\n",
       "      <th>std</th>\n",
       "      <td>24.149688</td>\n",
       "      <td>1.881493</td>\n",
       "      <td>0.805783</td>\n",
       "      <td>1.727406</td>\n",
       "      <td>1.994227e-01</td>\n",
       "      <td>1.770322e-01</td>\n",
       "      <td>1.731813e-01</td>\n",
       "      <td>1.683892e-01</td>\n",
       "      <td>1.633136e-01</td>\n",
       "      <td>1.606475e-01</td>\n",
       "      <td>1.567945e-01</td>\n",
       "      <td>1.546964e-01</td>\n",
       "      <td>1.520417e-01</td>\n",
       "      <td>1.485769e-01</td>\n",
       "    </tr>\n",
       "    <tr>\n",
       "      <th>min</th>\n",
       "      <td>1874.000000</td>\n",
       "      <td>0.000000</td>\n",
       "      <td>0.000000</td>\n",
       "      <td>0.000000</td>\n",
       "      <td>-2.746980e-01</td>\n",
       "      <td>-3.429819e-01</td>\n",
       "      <td>-5.035854e-01</td>\n",
       "      <td>-3.814915e-01</td>\n",
       "      <td>-3.174422e-01</td>\n",
       "      <td>-5.229109e-01</td>\n",
       "      <td>-4.331694e-01</td>\n",
       "      <td>-2.280298e-01</td>\n",
       "      <td>-5.347171e-01</td>\n",
       "      <td>-3.594527e-01</td>\n",
       "    </tr>\n",
       "    <tr>\n",
       "      <th>25%</th>\n",
       "      <td>1978.000000</td>\n",
       "      <td>5.000000</td>\n",
       "      <td>0.343560</td>\n",
       "      <td>1.386294</td>\n",
       "      <td>-9.216321e-02</td>\n",
       "      <td>-8.886344e-02</td>\n",
       "      <td>-7.530064e-02</td>\n",
       "      <td>-1.039189e-01</td>\n",
       "      <td>-9.331958e-02</td>\n",
       "      <td>-8.018861e-02</td>\n",
       "      <td>-7.639987e-02</td>\n",
       "      <td>-8.216316e-02</td>\n",
       "      <td>-5.420767e-02</td>\n",
       "      <td>-8.848516e-02</td>\n",
       "    </tr>\n",
       "    <tr>\n",
       "      <th>50%</th>\n",
       "      <td>2001.000000</td>\n",
       "      <td>6.000000</td>\n",
       "      <td>0.775753</td>\n",
       "      <td>2.397895</td>\n",
       "      <td>-4.562647e-02</td>\n",
       "      <td>-3.565705e-02</td>\n",
       "      <td>-3.208000e-02</td>\n",
       "      <td>-6.260412e-02</td>\n",
       "      <td>-4.249156e-02</td>\n",
       "      <td>-5.484262e-04</td>\n",
       "      <td>-2.434181e-02</td>\n",
       "      <td>-4.119210e-02</td>\n",
       "      <td>-1.958798e-03</td>\n",
       "      <td>-4.129712e-02</td>\n",
       "    </tr>\n",
       "    <tr>\n",
       "      <th>75%</th>\n",
       "      <td>2010.000000</td>\n",
       "      <td>6.800000</td>\n",
       "      <td>1.580890</td>\n",
       "      <td>3.610918</td>\n",
       "      <td>-3.962765e-03</td>\n",
       "      <td>5.170910e-03</td>\n",
       "      <td>7.154312e-02</td>\n",
       "      <td>9.453286e-02</td>\n",
       "      <td>3.431535e-02</td>\n",
       "      <td>4.310934e-02</td>\n",
       "      <td>2.718028e-02</td>\n",
       "      <td>1.651053e-02</td>\n",
       "      <td>3.743927e-02</td>\n",
       "      <td>5.170588e-02</td>\n",
       "    </tr>\n",
       "    <tr>\n",
       "      <th>max</th>\n",
       "      <td>2017.000000</td>\n",
       "      <td>10.000000</td>\n",
       "      <td>6.307166</td>\n",
       "      <td>9.552226</td>\n",
       "      <td>9.206340e-01</td>\n",
       "      <td>8.693345e-01</td>\n",
       "      <td>7.375858e-01</td>\n",
       "      <td>7.493451e-01</td>\n",
       "      <td>8.652070e-01</td>\n",
       "      <td>7.484387e-01</td>\n",
       "      <td>7.826595e-01</td>\n",
       "      <td>8.756028e-01</td>\n",
       "      <td>7.501488e-01</td>\n",
       "      <td>7.903039e-01</td>\n",
       "    </tr>\n",
       "  </tbody>\n",
       "</table>\n",
       "</div>"
      ],
      "text/plain": [
       "       release_year  vote_average  popularity_log  vote_count_log  \\\n",
       "count  44013.000000  44013.000000    44013.000000    44013.000000   \n",
       "mean    1991.741940      5.648788        0.997769        2.692927   \n",
       "std       24.149688      1.881493        0.805783        1.727406   \n",
       "min     1874.000000      0.000000        0.000000        0.000000   \n",
       "25%     1978.000000      5.000000        0.343560        1.386294   \n",
       "50%     2001.000000      6.000000        0.775753        2.397895   \n",
       "75%     2010.000000      6.800000        1.580890        3.610918   \n",
       "max     2017.000000     10.000000        6.307166        9.552226   \n",
       "\n",
       "       Overview_pca_1  Overview_pca_2  Overview_pca_3  Overview_pca_4  \\\n",
       "count    4.401300e+04    4.401300e+04    4.401300e+04    4.401300e+04   \n",
       "mean    -1.104850e-16   -1.178507e-16   -5.973254e-18   -1.306044e-16   \n",
       "std      1.994227e-01    1.770322e-01    1.731813e-01    1.683892e-01   \n",
       "min     -2.746980e-01   -3.429819e-01   -5.035854e-01   -3.814915e-01   \n",
       "25%     -9.216321e-02   -8.886344e-02   -7.530064e-02   -1.039189e-01   \n",
       "50%     -4.562647e-02   -3.565705e-02   -3.208000e-02   -6.260412e-02   \n",
       "75%     -3.962765e-03    5.170910e-03    7.154312e-02    9.453286e-02   \n",
       "max      9.206340e-01    8.693345e-01    7.375858e-01    7.493451e-01   \n",
       "\n",
       "       Overview_pca_5  Overview_pca_6  Overview_pca_7  Overview_pca_8  \\\n",
       "count    4.401300e+04    4.401300e+04    4.401300e+04    4.401300e+04   \n",
       "mean    -3.899768e-17   -4.046072e-17   -8.717722e-17    5.000582e-17   \n",
       "std      1.633136e-01    1.606475e-01    1.567945e-01    1.546964e-01   \n",
       "min     -3.174422e-01   -5.229109e-01   -4.331694e-01   -2.280298e-01   \n",
       "25%     -9.331958e-02   -8.018861e-02   -7.639987e-02   -8.216316e-02   \n",
       "50%     -4.249156e-02   -5.484262e-04   -2.434181e-02   -4.119210e-02   \n",
       "75%      3.431535e-02    4.310934e-02    2.718028e-02    1.651053e-02   \n",
       "max      8.652070e-01    7.484387e-01    7.826595e-01    8.756028e-01   \n",
       "\n",
       "       Overview_pca_9  Overview_pca_10  \n",
       "count    4.401300e+04     4.401300e+04  \n",
       "mean    -2.984609e-17    -2.728324e-17  \n",
       "std      1.520417e-01     1.485769e-01  \n",
       "min     -5.347171e-01    -3.594527e-01  \n",
       "25%     -5.420767e-02    -8.848516e-02  \n",
       "50%     -1.958798e-03    -4.129712e-02  \n",
       "75%      3.743927e-02     5.170588e-02  \n",
       "max      7.501488e-01     7.903039e-01  "
      ]
     },
     "execution_count": 35,
     "metadata": {},
     "output_type": "execute_result"
    }
   ],
   "source": [
    "movies_ml_df.describe()"
   ]
  },
  {
   "cell_type": "code",
   "execution_count": null,
   "metadata": {},
   "outputs": [
    {
     "data": {
      "text/plain": [
       "<Axes: >"
      ]
     },
     "execution_count": 96,
     "metadata": {},
     "output_type": "execute_result"
    },
    {
     "data": {
      "image/png": "[encoded data removed]",
      "text/plain": [
       "<Figure size 640x480 with 2 Axes>"
      ]
     },
     "metadata": {},
     "output_type": "display_data"
    }
   ],
   "source": [
    "sns.heatmap(movies_ml_df.select_dtypes(exclude=object).corr())\n",
    "# observamos una similitud entre vote count y vote average."
   ]
  },
  {
   "cell_type": "code",
   "execution_count": 97,
   "metadata": {},
   "outputs": [],
   "source": [
    "# Vamos a juntar las variables relacionados.\n",
    "movies_ml_df[\"vote_info\"] = movies_ml_df[\"vote_average\"] * movies_ml_df[\"vote_count_log\"]"
   ]
  },
  {
   "cell_type": "code",
   "execution_count": 99,
   "metadata": {},
   "outputs": [
    {
     "data": {
      "text/plain": [
       "count    44013.000000\n",
       "mean        16.542059\n",
       "std         11.818026\n",
       "min          0.000000\n",
       "25%          8.239592\n",
       "50%         14.205144\n",
       "75%         22.382385\n",
       "max         78.143774\n",
       "Name: vote_info, dtype: float64"
      ]
     },
     "execution_count": 99,
     "metadata": {},
     "output_type": "execute_result"
    }
   ],
   "source": [
    "movies_ml_df[\"vote_info\"].describe()"
   ]
  },
  {
   "cell_type": "code",
   "execution_count": 103,
   "metadata": {},
   "outputs": [],
   "source": [
    "movies_ml_df.drop(columns=[\"vote_average\", \"vote_count_log\"], inplace=True)"
   ]
  },
  {
   "cell_type": "code",
   "execution_count": null,
   "metadata": {},
   "outputs": [],
   "source": [
    "# Guardamos\n",
    "movies_ml_df.to_csv(\"transformed_consultas/movies_ml_df_v2.csv\")"
   ]
  },
  {
   "cell_type": "code",
   "execution_count": 191,
   "metadata": {},
   "outputs": [],
   "source": [
    "movies_ml_df = pd.read_csv(\"transformed_consultas/movies_ml_df_v2.csv\", index_col=\"id\")"
   ]
  },
  {
   "cell_type": "code",
   "execution_count": 194,
   "metadata": {},
   "outputs": [],
   "source": [
    "# removemos indices duplicados, detectados durante el proceso\n",
    "movies_ml_df = movies_ml_df[~movies_ml_df.index.duplicated(keep='first')]"
   ]
  },
  {
   "cell_type": "code",
   "execution_count": 195,
   "metadata": {},
   "outputs": [],
   "source": [
    "movies_ml_df.to_csv(\"transformed_consultas/movies_ml_df_v2_1.csv\")"
   ]
  },
  {
   "cell_type": "markdown",
   "metadata": {},
   "source": [
    "Primero queremos saber como comparar 2 peliculas, por lo cual, iniciaremos con este proceso.\n",
    "\n",
    "- Tomar los datos de ambas peliculas.\n",
    "- Computar por separado: \n",
    "    - Cosine Similirity para los componentes de OVERVIEW_PCA. \n",
    "    - Diferencia entre release - year y posterior escalado. MAX-MIN: [2017-1874] = 143\n",
    "    - Diferencia entre vote_average y escalado MAX[10]-MIN[0] = 10\n",
    "    - Diferencia entre popularity_log y escalado MAX[6,3] - MIN[0] = 6,3\n",
    "    - Diferencia entre vote_count_log y escalado MAX[9,4] - MIN[0] = 9,4\n",
    "- En base a los calculos anteriores, crear un calculo final que nos de el score o aplicar KNN."
   ]
  },
  {
   "cell_type": "markdown",
   "metadata": {},
   "source": [
    "Calculo de Similaridad de Overview"
   ]
  },
  {
   "cell_type": "code",
   "execution_count": 89,
   "metadata": {},
   "outputs": [],
   "source": [
    "def calc_overview_score(movie_1: int, movie_2: int):\n",
    "    \"\"\"Calcula el score de overview entre dos peliculas, movie_1 y movie_2\n",
    "    con el algoritmo de cosine similarity. Los parámetros de entrada son los IDs.\"\"\"\n",
    "    movie_1_data = movies_ml_df.loc[movie_1]\n",
    "    movie_2_data = movies_ml_df.loc[movie_2]\n",
    "\n",
    "    pca_columns = [f\"Overview_pca_{x}\" for x in range(1,11)]\n",
    "\n",
    "    movie_1_pca = movie_1_data[pca_columns].values.reshape(1,-1)\n",
    "    movie_2_pca = movie_2_data[pca_columns].values.reshape(1,-1)\n",
    "\n",
    "    overview_similarity = cosine_similarity(movie_1_pca, movie_2_pca)[0][0]\n",
    "\n",
    "    return overview_similarity + 1\n",
    "     "
   ]
  },
  {
   "cell_type": "code",
   "execution_count": 90,
   "metadata": {},
   "outputs": [
    {
     "data": {
      "text/plain": [
       "np.float64(0.7749371598087585)"
      ]
     },
     "execution_count": 90,
     "metadata": {},
     "output_type": "execute_result"
    }
   ],
   "source": [
    "#probamos dos IDs de peliculas.\n",
    "calc_overview_score(69, 26)"
   ]
  },
  {
   "cell_type": "markdown",
   "metadata": {},
   "source": [
    "Calculo de similaridad de Genres"
   ]
  },
  {
   "cell_type": "code",
   "execution_count": 91,
   "metadata": {},
   "outputs": [],
   "source": [
    "def genre_score(movie_1: int, movie_2: int):\n",
    "    \"Calcula la semejanza entre los generos de 2 peliculas en base a la similaridad de coseno\"\n",
    "    movie_1_genres = list(eval(movies_ml_df.loc[movie_1][\"genres\"]))\n",
    "    movie_2_genres = list(eval(movies_ml_df.loc[movie_2][\"genres\"]))\n",
    "\n",
    "    unique_genres = list(set(movie_1_genres + movie_2_genres))\n",
    "\n",
    "    vectors_movie_1 = [1 if genre in movie_1_genres else 0 for genre in unique_genres]\n",
    "    vectors_movie_2 = [1 if genre in movie_2_genres else 0 for genre in unique_genres]\n",
    "\n",
    "    vector_1 = np.array(vectors_movie_1).reshape(1, -1)\n",
    "    vector_2 = np.array(vectors_movie_2).reshape(1, -1)\n",
    "\n",
    "    similarity = cosine_similarity(vector_1, vector_2)[0][0]\n",
    "\n",
    "    return similarity + 1\n",
    "\n"
   ]
  },
  {
   "cell_type": "code",
   "execution_count": 92,
   "metadata": {},
   "outputs": [
    {
     "data": {
      "text/plain": [
       "np.float64(1.4082482904638631)"
      ]
     },
     "execution_count": 92,
     "metadata": {},
     "output_type": "execute_result"
    }
   ],
   "source": [
    "#probamos la funcion.\n",
    "genre_score(6, 5)"
   ]
  },
  {
   "cell_type": "markdown",
   "metadata": {},
   "source": [
    "Calculo Similaridad de años\n",
    "\n",
    "Para este caso usaremos una formula exponencial"
   ]
  },
  {
   "cell_type": "code",
   "execution_count": 65,
   "metadata": {},
   "outputs": [],
   "source": [
    "def year_score(movie_1: int, movie_2: int):\n",
    "    year_diff = abs(movies_ml_df.loc[movie_1][\"release_year\"]-movies_ml_df.loc[movie_2][\"release_year\"])\n",
    "    score = math.exp(-1*(year_diff/10))\n",
    "    return score"
   ]
  },
  {
   "cell_type": "code",
   "execution_count": 73,
   "metadata": {},
   "outputs": [
    {
     "name": "stdout",
     "output_type": "stream",
     "text": [
      "0.8187307530779818\n",
      "0.18268352405273466\n"
     ]
    }
   ],
   "source": [
    "print(year_score(2,3)) # 2 peliculas con años cercanos\n",
    "print(year_score(2,69)) # 2 peliculas con años lejanos"
   ]
  },
  {
   "cell_type": "markdown",
   "metadata": {},
   "source": [
    "Calculo similaridad vote_average"
   ]
  },
  {
   "cell_type": "code",
   "execution_count": 115,
   "metadata": {},
   "outputs": [],
   "source": [
    "def vote_score(movie_1: int, movie_2: int):\n",
    "    year_diff = abs(movies_ml_df.loc[movie_1][\"vote_info\"]-movies_ml_df.loc[movie_2][\"vote_info\"])\n",
    "    score = math.exp(-1*(year_diff/20))\n",
    "    return score"
   ]
  },
  {
   "cell_type": "code",
   "execution_count": 116,
   "metadata": {},
   "outputs": [
    {
     "data": {
      "text/plain": [
       "0.31199014002034664"
      ]
     },
     "execution_count": 116,
     "metadata": {},
     "output_type": "execute_result"
    }
   ],
   "source": [
    "vote_score(11,69)"
   ]
  },
  {
   "cell_type": "markdown",
   "metadata": {},
   "source": [
    "Calculo similaridad title_collection"
   ]
  },
  {
   "cell_type": "code",
   "execution_count": 126,
   "metadata": {},
   "outputs": [],
   "source": [
    "def title_score(movie_1: int, movie_2: int):\n",
    "    \"Calcula la semejanza entre los generos de 2 peliculas en base a la similaridad de coseno\"\n",
    "    movie_1_genres = list(eval(movies_ml_df.loc[movie_1][\"title_collection\"]))\n",
    "    movie_2_genres = list(eval(movies_ml_df.loc[movie_2][\"title_collection\"]))\n",
    "\n",
    "    unique_genres = list(set(movie_1_genres + movie_2_genres))\n",
    "\n",
    "    vectors_movie_1 = [1 if genre in movie_1_genres else 0 for genre in unique_genres]\n",
    "    vectors_movie_2 = [1 if genre in movie_2_genres else 0 for genre in unique_genres]\n",
    "\n",
    "    vector_1 = np.array(vectors_movie_1).reshape(1, -1)\n",
    "    vector_2 = np.array(vectors_movie_2).reshape(1, -1)\n",
    "\n",
    "    similarity = cosine_similarity(vector_1, vector_2)[0][0]\n",
    "\n",
    "    return similarity + 1"
   ]
  },
  {
   "cell_type": "code",
   "execution_count": 86,
   "metadata": {},
   "outputs": [
    {
     "data": {
      "text/plain": [
       "np.float64(1.0)"
      ]
     },
     "execution_count": 86,
     "metadata": {},
     "output_type": "execute_result"
    }
   ],
   "source": [
    "title_score(69,6)"
   ]
  },
  {
   "cell_type": "code",
   "execution_count": 124,
   "metadata": {},
   "outputs": [
    {
     "name": "stdout",
     "output_type": "stream",
     "text": [
      "<class 'pandas.core.frame.DataFrame'>\n",
      "Index: 44013 entries, 2 to 469172\n",
      "Data columns (total 17 columns):\n",
      " #   Column                   Non-Null Count  Dtype  \n",
      "---  ------                   --------------  -----  \n",
      " 0   release_year             44013 non-null  int64  \n",
      " 1   popularity_log           44013 non-null  float64\n",
      " 2   title_collection         44013 non-null  object \n",
      " 3   concat_country_language  44013 non-null  object \n",
      " 4   genres                   44013 non-null  object \n",
      " 5   production_companies     44013 non-null  object \n",
      " 6   Overview_pca_1           44013 non-null  float64\n",
      " 7   Overview_pca_2           44013 non-null  float64\n",
      " 8   Overview_pca_3           44013 non-null  float64\n",
      " 9   Overview_pca_4           44013 non-null  float64\n",
      " 10  Overview_pca_5           44013 non-null  float64\n",
      " 11  Overview_pca_6           44013 non-null  float64\n",
      " 12  Overview_pca_7           44013 non-null  float64\n",
      " 13  Overview_pca_8           44013 non-null  float64\n",
      " 14  Overview_pca_9           44013 non-null  float64\n",
      " 15  Overview_pca_10          44013 non-null  float64\n",
      " 16  vote_info                44013 non-null  float64\n",
      "dtypes: float64(12), int64(1), object(4)\n",
      "memory usage: 7.1+ MB\n"
     ]
    }
   ],
   "source": [
    "movies_ml_df.info()"
   ]
  },
  {
   "cell_type": "markdown",
   "metadata": {},
   "source": [
    "Calculo similaridad popularity score"
   ]
  },
  {
   "cell_type": "code",
   "execution_count": 123,
   "metadata": {},
   "outputs": [],
   "source": [
    "def popularity_score(movie_1:int, movie_2: int):\n",
    "    score_diff = abs(movies_ml_df.loc[movie_1][\"popularity_log\"]-movies_ml_df.loc[movie_2][\"popularity_log\"])\n",
    "    score = math.exp(-1*(score_diff/3))\n",
    "    return score"
   ]
  },
  {
   "cell_type": "markdown",
   "metadata": {},
   "source": [
    "Similaridad concat_country_language"
   ]
  },
  {
   "cell_type": "code",
   "execution_count": 125,
   "metadata": {},
   "outputs": [],
   "source": [
    "def language_score(movie_1: int, movie_2: int):\n",
    "    movie_1_language = list(eval(movies_ml_df.loc[movie_1][\"concat_country_language\"]))\n",
    "    movie_2_language = list(eval(movies_ml_df.loc[movie_2][\"concat_country_language\"]))\n",
    "\n",
    "    unique_languages = list(set(movie_1_language + movie_2_language))\n",
    "\n",
    "    vectors_movie_1 = [1 if genre in movie_1_language else 0 for genre in unique_languages]\n",
    "    vectors_movie_2 = [1 if genre in movie_2_language else 0 for genre in unique_languages]\n",
    "\n",
    "    vector_1 = np.array(vectors_movie_1).reshape(1, -1)\n",
    "    vector_2 = np.array(vectors_movie_2).reshape(1, -1)\n",
    "\n",
    "    similarity = cosine_similarity(vector_1, vector_2)[0][0]\n",
    "\n",
    "    return similarity + 1"
   ]
  },
  {
   "cell_type": "markdown",
   "metadata": {},
   "source": [
    "Similaridad production_scores"
   ]
  },
  {
   "cell_type": "code",
   "execution_count": 131,
   "metadata": {},
   "outputs": [],
   "source": [
    "def production_scores(movie_1: int, movie_2: int):\n",
    "    movie_1_production = list(eval(movies_ml_df.loc[movie_1][\"production_companies\"]))\n",
    "    movie_2_production = list(eval(movies_ml_df.loc[movie_2][\"production_companies\"]))\n",
    "\n",
    "    unique_languages = list(set(movie_1_production + movie_2_production))\n",
    "\n",
    "    vectors_movie_1 = [1 if genre in movie_1_production else 0 for genre in unique_languages]\n",
    "    vectors_movie_2 = [1 if genre in movie_2_production else 0 for genre in unique_languages]\n",
    "\n",
    "    vector_1 = np.array(vectors_movie_1).reshape(1, -1)\n",
    "    vector_2 = np.array(vectors_movie_2).reshape(1, -1)\n",
    "\n",
    "    similarity = cosine_similarity(vector_1, vector_2)[0][0]\n",
    "\n",
    "    return similarity + 1"
   ]
  },
  {
   "cell_type": "markdown",
   "metadata": {},
   "source": [
    "## Agregación de funciones"
   ]
  },
  {
   "cell_type": "code",
   "execution_count": null,
   "metadata": {},
   "outputs": [],
   "source": [
    "# opcion 1\n",
    "def similarity_score(movie_1:int, movie_2:int):\n",
    "    overview = calc_overview_score(movie_1, movie_2)\n",
    "    genre = genre_score(movie_1,movie_2)\n",
    "    year = year_score(movie_1, movie_2)\n",
    "    vote_average = vote_score(movie_1, movie_2)\n",
    "    title = title_score(movie_1, movie_2)\n",
    "    popularity = popularity_score(movie_1, movie_2)\n",
    "    language = language_score(movie_1, movie_2)\n",
    "    production = production_scores(movie_1, movie_2)\n",
    "    \n",
    "    return overview*genre*year*vote_average*title*popularity*language*production"
   ]
  },
  {
   "cell_type": "code",
   "execution_count": 136,
   "metadata": {},
   "outputs": [
    {
     "data": {
      "text/plain": [
       "np.float64(1.7688943501083525)"
      ]
     },
     "execution_count": 136,
     "metadata": {},
     "output_type": "execute_result"
    }
   ],
   "source": [
    "similarity_score(5,6)"
   ]
  },
  {
   "cell_type": "markdown",
   "metadata": {},
   "source": [
    "## Calculo de array de similaridad"
   ]
  },
  {
   "cell_type": "code",
   "execution_count": 198,
   "metadata": {},
   "outputs": [],
   "source": [
    "\n",
    "eval_df = movies_ml_df.head(3000) # dataframe de pruebas\n",
    "index = eval_df.index.drop_duplicates() # indice\n",
    "score_list = [similarity_score(2, i) for i in index] #creamos una lista calculando los scores"
   ]
  },
  {
   "cell_type": "code",
   "execution_count": 199,
   "metadata": {},
   "outputs": [
    {
     "data": {
      "text/html": [
       "<div>\n",
       "<style scoped>\n",
       "    .dataframe tbody tr th:only-of-type {\n",
       "        vertical-align: middle;\n",
       "    }\n",
       "\n",
       "    .dataframe tbody tr th {\n",
       "        vertical-align: top;\n",
       "    }\n",
       "\n",
       "    .dataframe thead th {\n",
       "        text-align: right;\n",
       "    }\n",
       "</style>\n",
       "<table border=\"1\" class=\"dataframe\">\n",
       "  <thead>\n",
       "    <tr style=\"text-align: right;\">\n",
       "      <th></th>\n",
       "      <th>score</th>\n",
       "    </tr>\n",
       "    <tr>\n",
       "      <th>id</th>\n",
       "      <th></th>\n",
       "    </tr>\n",
       "  </thead>\n",
       "  <tbody>\n",
       "    <tr>\n",
       "      <th>2</th>\n",
       "      <td>16.000000</td>\n",
       "    </tr>\n",
       "    <tr>\n",
       "      <th>7974</th>\n",
       "      <td>2.834255</td>\n",
       "    </tr>\n",
       "    <tr>\n",
       "      <th>127</th>\n",
       "      <td>2.238584</td>\n",
       "    </tr>\n",
       "    <tr>\n",
       "      <th>3</th>\n",
       "      <td>1.834683</td>\n",
       "    </tr>\n",
       "    <tr>\n",
       "      <th>7975</th>\n",
       "      <td>1.762489</td>\n",
       "    </tr>\n",
       "  </tbody>\n",
       "</table>\n",
       "</div>"
      ],
      "text/plain": [
       "          score\n",
       "id             \n",
       "2     16.000000\n",
       "7974   2.834255\n",
       "127    2.238584\n",
       "3      1.834683\n",
       "7975   1.762489"
      ]
     },
     "execution_count": 199,
     "metadata": {},
     "output_type": "execute_result"
    }
   ],
   "source": [
    "top_5 = pd.DataFrame(score_list, index=index, columns=[\"score\"]).sort_values(by=\"score\", ascending=False).head(5) # creamos un dataframe y calculamos el top_5\n",
    "top_5"
   ]
  },
  {
   "cell_type": "code",
   "execution_count": 203,
   "metadata": {},
   "outputs": [
    {
     "data": {
      "text/plain": [
       "[7974, 127, 3, 7975]"
      ]
     },
     "execution_count": 203,
     "metadata": {},
     "output_type": "execute_result"
    }
   ],
   "source": [
    "list(top_5.index)[1:] # vamos a retornar esta lista y luego convertirlas a nombres de peliculas."
   ]
  },
  {
   "cell_type": "code",
   "execution_count": 204,
   "metadata": {},
   "outputs": [],
   "source": [
    "# resumimos en una funcion:\n",
    "def find_top_5(movie_1: int):\n",
    "    index = movies_ml_df.index\n",
    "    score_list = [similarity_score(movie_1, i) for i in index]\n",
    "    top_5 = pd.DataFrame(score_list, index=index, columns=[\"score\"]).sort_values(by=\"score\", ascending=False).head(6)\n",
    "    return list(top_5.index)[1:]"
   ]
  },
  {
   "cell_type": "code",
   "execution_count": 205,
   "metadata": {},
   "outputs": [
    {
     "data": {
      "text/plain": [
       "[9762, 8488, 6957, 1262, 142]"
      ]
     },
     "execution_count": 205,
     "metadata": {},
     "output_type": "execute_result"
    }
   ],
   "source": [
    "# se tomo 2 minutos en calcular todo el dataset.\n",
    "find_top_5(69)"
   ]
  },
  {
   "cell_type": "code",
   "execution_count": 1,
   "metadata": {},
   "outputs": [],
   "source": [
    "import ml_functions"
   ]
  },
  {
   "cell_type": "code",
   "execution_count": 3,
   "metadata": {},
   "outputs": [],
   "source": [
    "eval_df = pd.read_csv(\"transformed_consultas/movies_ml_df_v2_1.csv\", index_col=\"id\")"
   ]
  },
  {
   "cell_type": "code",
   "execution_count": 4,
   "metadata": {},
   "outputs": [
    {
     "data": {
      "text/plain": [
       "[9762, 8488, 6957, 1262, 142]"
      ]
     },
     "execution_count": 4,
     "metadata": {},
     "output_type": "execute_result"
    }
   ],
   "source": [
    "ml_functions.find_top_5(69, eval_df)"
   ]
  },
  {
   "cell_type": "code",
   "execution_count": null,
   "metadata": {},
   "outputs": [],
   "source": []
  }
 ],
 "metadata": {
  "kernelspec": {
   "display_name": "henry_project_1",
   "language": "python",
   "name": "python3"
  },
  "language_info": {
   "codemirror_mode": {
    "name": "ipython",
    "version": 3
   },
   "file_extension": ".py",
   "mimetype": "text/x-python",
   "name": "python",
   "nbconvert_exporter": "python",
   "pygments_lexer": "ipython3",
   "version": "3.9.6"
  }
 },
 "nbformat": 4,
 "nbformat_minor": 2
}

{
 "cells": [
  {
   "cell_type": "markdown",
   "metadata": {},
   "source": [
    "# Proceso EDA"
   ]
  },
  {
   "cell_type": "code",
   "execution_count": 407,
   "metadata": {},
   "outputs": [],
   "source": [
    "import pandas as pd\n",
    "import numpy as np\n",
    "import matplotlib.pyplot as plt\n",
    "import seaborn as sns"
   ]
  },
  {
   "cell_type": "code",
   "execution_count": 408,
   "metadata": {},
   "outputs": [],
   "source": [
    "#cargamos el dataset movies_df.csv\n",
    "movies_df = pd.read_csv(\"transformed/movies_df.csv\")"
   ]
  },
  {
   "cell_type": "code",
   "execution_count": 409,
   "metadata": {},
   "outputs": [
    {
     "data": {
      "text/plain": [
       "(416961, 18)"
      ]
     },
     "execution_count": 409,
     "metadata": {},
     "output_type": "execute_result"
    }
   ],
   "source": [
    "movies_df.shape"
   ]
  },
  {
   "cell_type": "code",
   "execution_count": 410,
   "metadata": {},
   "outputs": [
    {
     "name": "stdout",
     "output_type": "stream",
     "text": [
      "<class 'pandas.core.frame.DataFrame'>\n",
      "RangeIndex: 416961 entries, 0 to 416960\n",
      "Data columns (total 18 columns):\n",
      " #   Column                           Non-Null Count   Dtype  \n",
      "---  ------                           --------------   -----  \n",
      " 0   budget                           416961 non-null  int64  \n",
      " 1   id                               416961 non-null  int64  \n",
      " 2   original_language                416869 non-null  object \n",
      " 3   overview                         414552 non-null  object \n",
      " 4   popularity                       416961 non-null  float64\n",
      " 5   release_date                     416961 non-null  object \n",
      " 6   release_year                     416961 non-null  int64  \n",
      " 7   revenue                          416961 non-null  float64\n",
      " 8   tagline                          226823 non-null  object \n",
      " 9   title                            416961 non-null  object \n",
      " 10  vote_average                     416961 non-null  float64\n",
      " 11  vote_count                       416961 non-null  float64\n",
      " 12  collection.name                  54142 non-null   object \n",
      " 13  genres.name                      413919 non-null  object \n",
      " 14  production_companies.name        390531 non-null  object \n",
      " 15  production_countries.iso_3166_1  405895 non-null  object \n",
      " 16  spoken_languages.iso_639_1       410486 non-null  object \n",
      " 17  return                           416961 non-null  float64\n",
      "dtypes: float64(5), int64(3), object(10)\n",
      "memory usage: 57.3+ MB\n"
     ]
    }
   ],
   "source": [
    "#Información general de cada columna\n",
    "movies_df.info()\n",
    "# Observaciones:\n",
    "# Detectamos gran cantidad de nulos en las siguientes columnas:\n",
    "# tagline, collection.name"
   ]
  },
  {
   "cell_type": "code",
   "execution_count": 411,
   "metadata": {},
   "outputs": [
    {
     "data": {
      "text/html": [
       "<div>\n",
       "<style scoped>\n",
       "    .dataframe tbody tr th:only-of-type {\n",
       "        vertical-align: middle;\n",
       "    }\n",
       "\n",
       "    .dataframe tbody tr th {\n",
       "        vertical-align: top;\n",
       "    }\n",
       "\n",
       "    .dataframe thead th {\n",
       "        text-align: right;\n",
       "    }\n",
       "</style>\n",
       "<table border=\"1\" class=\"dataframe\">\n",
       "  <thead>\n",
       "    <tr style=\"text-align: right;\">\n",
       "      <th></th>\n",
       "      <th>budget</th>\n",
       "      <th>id</th>\n",
       "      <th>original_language</th>\n",
       "      <th>overview</th>\n",
       "      <th>popularity</th>\n",
       "      <th>release_date</th>\n",
       "      <th>release_year</th>\n",
       "      <th>revenue</th>\n",
       "      <th>tagline</th>\n",
       "      <th>title</th>\n",
       "      <th>vote_average</th>\n",
       "      <th>vote_count</th>\n",
       "      <th>collection.name</th>\n",
       "      <th>genres.name</th>\n",
       "      <th>production_companies.name</th>\n",
       "      <th>production_countries.iso_3166_1</th>\n",
       "      <th>spoken_languages.iso_639_1</th>\n",
       "      <th>return</th>\n",
       "    </tr>\n",
       "  </thead>\n",
       "  <tbody>\n",
       "    <tr>\n",
       "      <th>0</th>\n",
       "      <td>30000000</td>\n",
       "      <td>862</td>\n",
       "      <td>en</td>\n",
       "      <td>Led by Woody, Andy's toys live happily in his ...</td>\n",
       "      <td>21.946943</td>\n",
       "      <td>1995-10-30</td>\n",
       "      <td>1995</td>\n",
       "      <td>373554033.0</td>\n",
       "      <td>NaN</td>\n",
       "      <td>Toy Story</td>\n",
       "      <td>7.7</td>\n",
       "      <td>5415.0</td>\n",
       "      <td>Toy Story Collection</td>\n",
       "      <td>Animation</td>\n",
       "      <td>Pixar Animation Studios</td>\n",
       "      <td>US</td>\n",
       "      <td>en</td>\n",
       "      <td>12.451801</td>\n",
       "    </tr>\n",
       "    <tr>\n",
       "      <th>1</th>\n",
       "      <td>30000000</td>\n",
       "      <td>862</td>\n",
       "      <td>en</td>\n",
       "      <td>Led by Woody, Andy's toys live happily in his ...</td>\n",
       "      <td>21.946943</td>\n",
       "      <td>1995-10-30</td>\n",
       "      <td>1995</td>\n",
       "      <td>373554033.0</td>\n",
       "      <td>NaN</td>\n",
       "      <td>Toy Story</td>\n",
       "      <td>7.7</td>\n",
       "      <td>5415.0</td>\n",
       "      <td>Toy Story Collection</td>\n",
       "      <td>Comedy</td>\n",
       "      <td>Pixar Animation Studios</td>\n",
       "      <td>US</td>\n",
       "      <td>en</td>\n",
       "      <td>12.451801</td>\n",
       "    </tr>\n",
       "    <tr>\n",
       "      <th>2</th>\n",
       "      <td>30000000</td>\n",
       "      <td>862</td>\n",
       "      <td>en</td>\n",
       "      <td>Led by Woody, Andy's toys live happily in his ...</td>\n",
       "      <td>21.946943</td>\n",
       "      <td>1995-10-30</td>\n",
       "      <td>1995</td>\n",
       "      <td>373554033.0</td>\n",
       "      <td>NaN</td>\n",
       "      <td>Toy Story</td>\n",
       "      <td>7.7</td>\n",
       "      <td>5415.0</td>\n",
       "      <td>Toy Story Collection</td>\n",
       "      <td>Family</td>\n",
       "      <td>Pixar Animation Studios</td>\n",
       "      <td>US</td>\n",
       "      <td>en</td>\n",
       "      <td>12.451801</td>\n",
       "    </tr>\n",
       "    <tr>\n",
       "      <th>3</th>\n",
       "      <td>65000000</td>\n",
       "      <td>8844</td>\n",
       "      <td>en</td>\n",
       "      <td>When siblings Judy and Peter discover an encha...</td>\n",
       "      <td>17.015539</td>\n",
       "      <td>1995-12-15</td>\n",
       "      <td>1995</td>\n",
       "      <td>262797249.0</td>\n",
       "      <td>Roll the dice and unleash the excitement!</td>\n",
       "      <td>Jumanji</td>\n",
       "      <td>6.9</td>\n",
       "      <td>2413.0</td>\n",
       "      <td>NaN</td>\n",
       "      <td>Adventure</td>\n",
       "      <td>TriStar Pictures</td>\n",
       "      <td>US</td>\n",
       "      <td>en</td>\n",
       "      <td>4.043035</td>\n",
       "    </tr>\n",
       "    <tr>\n",
       "      <th>4</th>\n",
       "      <td>65000000</td>\n",
       "      <td>8844</td>\n",
       "      <td>en</td>\n",
       "      <td>When siblings Judy and Peter discover an encha...</td>\n",
       "      <td>17.015539</td>\n",
       "      <td>1995-12-15</td>\n",
       "      <td>1995</td>\n",
       "      <td>262797249.0</td>\n",
       "      <td>Roll the dice and unleash the excitement!</td>\n",
       "      <td>Jumanji</td>\n",
       "      <td>6.9</td>\n",
       "      <td>2413.0</td>\n",
       "      <td>NaN</td>\n",
       "      <td>Adventure</td>\n",
       "      <td>TriStar Pictures</td>\n",
       "      <td>US</td>\n",
       "      <td>fr</td>\n",
       "      <td>4.043035</td>\n",
       "    </tr>\n",
       "  </tbody>\n",
       "</table>\n",
       "</div>"
      ],
      "text/plain": [
       "     budget    id original_language  \\\n",
       "0  30000000   862                en   \n",
       "1  30000000   862                en   \n",
       "2  30000000   862                en   \n",
       "3  65000000  8844                en   \n",
       "4  65000000  8844                en   \n",
       "\n",
       "                                            overview  popularity release_date  \\\n",
       "0  Led by Woody, Andy's toys live happily in his ...   21.946943   1995-10-30   \n",
       "1  Led by Woody, Andy's toys live happily in his ...   21.946943   1995-10-30   \n",
       "2  Led by Woody, Andy's toys live happily in his ...   21.946943   1995-10-30   \n",
       "3  When siblings Judy and Peter discover an encha...   17.015539   1995-12-15   \n",
       "4  When siblings Judy and Peter discover an encha...   17.015539   1995-12-15   \n",
       "\n",
       "   release_year      revenue                                    tagline  \\\n",
       "0          1995  373554033.0                                        NaN   \n",
       "1          1995  373554033.0                                        NaN   \n",
       "2          1995  373554033.0                                        NaN   \n",
       "3          1995  262797249.0  Roll the dice and unleash the excitement!   \n",
       "4          1995  262797249.0  Roll the dice and unleash the excitement!   \n",
       "\n",
       "       title  vote_average  vote_count       collection.name genres.name  \\\n",
       "0  Toy Story           7.7      5415.0  Toy Story Collection   Animation   \n",
       "1  Toy Story           7.7      5415.0  Toy Story Collection      Comedy   \n",
       "2  Toy Story           7.7      5415.0  Toy Story Collection      Family   \n",
       "3    Jumanji           6.9      2413.0                   NaN   Adventure   \n",
       "4    Jumanji           6.9      2413.0                   NaN   Adventure   \n",
       "\n",
       "  production_companies.name production_countries.iso_3166_1  \\\n",
       "0   Pixar Animation Studios                              US   \n",
       "1   Pixar Animation Studios                              US   \n",
       "2   Pixar Animation Studios                              US   \n",
       "3          TriStar Pictures                              US   \n",
       "4          TriStar Pictures                              US   \n",
       "\n",
       "  spoken_languages.iso_639_1     return  \n",
       "0                         en  12.451801  \n",
       "1                         en  12.451801  \n",
       "2                         en  12.451801  \n",
       "3                         en   4.043035  \n",
       "4                         fr   4.043035  "
      ]
     },
     "execution_count": 411,
     "metadata": {},
     "output_type": "execute_result"
    }
   ],
   "source": [
    "# Vistazo a la data.\n",
    "movies_df.head()"
   ]
  },
  {
   "cell_type": "code",
   "execution_count": 412,
   "metadata": {},
   "outputs": [
    {
     "data": {
      "text/html": [
       "<div>\n",
       "<style scoped>\n",
       "    .dataframe tbody tr th:only-of-type {\n",
       "        vertical-align: middle;\n",
       "    }\n",
       "\n",
       "    .dataframe tbody tr th {\n",
       "        vertical-align: top;\n",
       "    }\n",
       "\n",
       "    .dataframe thead th {\n",
       "        text-align: right;\n",
       "    }\n",
       "</style>\n",
       "<table border=\"1\" class=\"dataframe\">\n",
       "  <thead>\n",
       "    <tr style=\"text-align: right;\">\n",
       "      <th></th>\n",
       "      <th>budget</th>\n",
       "      <th>id</th>\n",
       "      <th>popularity</th>\n",
       "      <th>release_year</th>\n",
       "      <th>revenue</th>\n",
       "      <th>vote_average</th>\n",
       "      <th>vote_count</th>\n",
       "      <th>return</th>\n",
       "    </tr>\n",
       "  </thead>\n",
       "  <tbody>\n",
       "    <tr>\n",
       "      <th>count</th>\n",
       "      <td>4.169610e+05</td>\n",
       "      <td>416961.000000</td>\n",
       "      <td>416961.000000</td>\n",
       "      <td>416961.000000</td>\n",
       "      <td>4.169610e+05</td>\n",
       "      <td>416961.000000</td>\n",
       "      <td>416961.000000</td>\n",
       "      <td>4.169610e+05</td>\n",
       "    </tr>\n",
       "    <tr>\n",
       "      <th>mean</th>\n",
       "      <td>1.425186e+07</td>\n",
       "      <td>79303.293601</td>\n",
       "      <td>5.654817</td>\n",
       "      <td>1999.396852</td>\n",
       "      <td>3.332955e+07</td>\n",
       "      <td>5.922046</td>\n",
       "      <td>321.901638</td>\n",
       "      <td>1.007286e+03</td>\n",
       "    </tr>\n",
       "    <tr>\n",
       "      <th>std</th>\n",
       "      <td>3.202859e+07</td>\n",
       "      <td>105793.540976</td>\n",
       "      <td>9.053237</td>\n",
       "      <td>17.064685</td>\n",
       "      <td>1.096328e+08</td>\n",
       "      <td>1.448900</td>\n",
       "      <td>867.802261</td>\n",
       "      <td>1.050413e+05</td>\n",
       "    </tr>\n",
       "    <tr>\n",
       "      <th>min</th>\n",
       "      <td>0.000000e+00</td>\n",
       "      <td>2.000000</td>\n",
       "      <td>0.000000</td>\n",
       "      <td>1874.000000</td>\n",
       "      <td>0.000000e+00</td>\n",
       "      <td>0.000000</td>\n",
       "      <td>0.000000</td>\n",
       "      <td>0.000000e+00</td>\n",
       "    </tr>\n",
       "    <tr>\n",
       "      <th>25%</th>\n",
       "      <td>0.000000e+00</td>\n",
       "      <td>9974.000000</td>\n",
       "      <td>0.958683</td>\n",
       "      <td>1995.000000</td>\n",
       "      <td>0.000000e+00</td>\n",
       "      <td>5.400000</td>\n",
       "      <td>8.000000</td>\n",
       "      <td>0.000000e+00</td>\n",
       "    </tr>\n",
       "    <tr>\n",
       "      <th>50%</th>\n",
       "      <td>0.000000e+00</td>\n",
       "      <td>33545.000000</td>\n",
       "      <td>3.511224</td>\n",
       "      <td>2004.000000</td>\n",
       "      <td>0.000000e+00</td>\n",
       "      <td>6.200000</td>\n",
       "      <td>34.000000</td>\n",
       "      <td>0.000000e+00</td>\n",
       "    </tr>\n",
       "    <tr>\n",
       "      <th>75%</th>\n",
       "      <td>1.200000e+07</td>\n",
       "      <td>90762.000000</td>\n",
       "      <td>8.333526</td>\n",
       "      <td>2010.000000</td>\n",
       "      <td>7.563728e+06</td>\n",
       "      <td>6.900000</td>\n",
       "      <td>197.000000</td>\n",
       "      <td>2.871533e-01</td>\n",
       "    </tr>\n",
       "    <tr>\n",
       "      <th>max</th>\n",
       "      <td>3.800000e+08</td>\n",
       "      <td>469172.000000</td>\n",
       "      <td>547.488298</td>\n",
       "      <td>2017.000000</td>\n",
       "      <td>2.787965e+09</td>\n",
       "      <td>10.000000</td>\n",
       "      <td>14075.000000</td>\n",
       "      <td>1.239638e+07</td>\n",
       "    </tr>\n",
       "  </tbody>\n",
       "</table>\n",
       "</div>"
      ],
      "text/plain": [
       "             budget             id     popularity   release_year  \\\n",
       "count  4.169610e+05  416961.000000  416961.000000  416961.000000   \n",
       "mean   1.425186e+07   79303.293601       5.654817    1999.396852   \n",
       "std    3.202859e+07  105793.540976       9.053237      17.064685   \n",
       "min    0.000000e+00       2.000000       0.000000    1874.000000   \n",
       "25%    0.000000e+00    9974.000000       0.958683    1995.000000   \n",
       "50%    0.000000e+00   33545.000000       3.511224    2004.000000   \n",
       "75%    1.200000e+07   90762.000000       8.333526    2010.000000   \n",
       "max    3.800000e+08  469172.000000     547.488298    2017.000000   \n",
       "\n",
       "            revenue   vote_average     vote_count        return  \n",
       "count  4.169610e+05  416961.000000  416961.000000  4.169610e+05  \n",
       "mean   3.332955e+07       5.922046     321.901638  1.007286e+03  \n",
       "std    1.096328e+08       1.448900     867.802261  1.050413e+05  \n",
       "min    0.000000e+00       0.000000       0.000000  0.000000e+00  \n",
       "25%    0.000000e+00       5.400000       8.000000  0.000000e+00  \n",
       "50%    0.000000e+00       6.200000      34.000000  0.000000e+00  \n",
       "75%    7.563728e+06       6.900000     197.000000  2.871533e-01  \n",
       "max    2.787965e+09      10.000000   14075.000000  1.239638e+07  "
      ]
     },
     "execution_count": 412,
     "metadata": {},
     "output_type": "execute_result"
    }
   ],
   "source": [
    "# Verificacion de quartiles , minimos , maximos.\n",
    "movies_df.describe()\n",
    "# Observaciones:\n",
    "# Las columnas budget, revenue y return presentan valores de 0 en gran cantidad del dataset. Esto lo podemos ver al observar los valores de min, y quartiles 0.25, 0.5.\n",
    "# la columna popularidad parece tener outliers: Si observamos la distribucion de min, max y quartiles, observamos que hasta el quartile 0.75 el valor se encuentra en \n",
    "# valores menores a 10 con una media de 5.6, pero luego observamos un pico maximo de 500++. Esto podría generar ruido.\n",
    "# vote_count parece otra columna con valores outliers. "
   ]
  },
  {
   "cell_type": "markdown",
   "metadata": {},
   "source": [
    "## Exploracion de valores numéricos\n",
    "Decidimos iniciar con la exploración de valores numéricos ya que se tiene mayor facilidad que con la exploración de datos tipo texto."
   ]
  },
  {
   "cell_type": "markdown",
   "metadata": {},
   "source": [
    "### Relación general"
   ]
  },
  {
   "cell_type": "code",
   "execution_count": 413,
   "metadata": {},
   "outputs": [
    {
     "data": {
      "text/html": [
       "<div>\n",
       "<style scoped>\n",
       "    .dataframe tbody tr th:only-of-type {\n",
       "        vertical-align: middle;\n",
       "    }\n",
       "\n",
       "    .dataframe tbody tr th {\n",
       "        vertical-align: top;\n",
       "    }\n",
       "\n",
       "    .dataframe thead th {\n",
       "        text-align: right;\n",
       "    }\n",
       "</style>\n",
       "<table border=\"1\" class=\"dataframe\">\n",
       "  <thead>\n",
       "    <tr style=\"text-align: right;\">\n",
       "      <th></th>\n",
       "      <th>budget</th>\n",
       "      <th>id</th>\n",
       "      <th>popularity</th>\n",
       "      <th>release_year</th>\n",
       "      <th>revenue</th>\n",
       "      <th>vote_average</th>\n",
       "      <th>vote_count</th>\n",
       "      <th>return</th>\n",
       "    </tr>\n",
       "  </thead>\n",
       "  <tbody>\n",
       "    <tr>\n",
       "      <th>0</th>\n",
       "      <td>30000000</td>\n",
       "      <td>862</td>\n",
       "      <td>21.946943</td>\n",
       "      <td>1995</td>\n",
       "      <td>373554033.0</td>\n",
       "      <td>7.7</td>\n",
       "      <td>5415.0</td>\n",
       "      <td>12.451801</td>\n",
       "    </tr>\n",
       "    <tr>\n",
       "      <th>3</th>\n",
       "      <td>65000000</td>\n",
       "      <td>8844</td>\n",
       "      <td>17.015539</td>\n",
       "      <td>1995</td>\n",
       "      <td>262797249.0</td>\n",
       "      <td>6.9</td>\n",
       "      <td>2413.0</td>\n",
       "      <td>4.043035</td>\n",
       "    </tr>\n",
       "    <tr>\n",
       "      <th>21</th>\n",
       "      <td>0</td>\n",
       "      <td>15602</td>\n",
       "      <td>11.712900</td>\n",
       "      <td>1995</td>\n",
       "      <td>0.0</td>\n",
       "      <td>6.5</td>\n",
       "      <td>92.0</td>\n",
       "      <td>0.000000</td>\n",
       "    </tr>\n",
       "    <tr>\n",
       "      <th>25</th>\n",
       "      <td>16000000</td>\n",
       "      <td>31357</td>\n",
       "      <td>3.859495</td>\n",
       "      <td>1995</td>\n",
       "      <td>81452156.0</td>\n",
       "      <td>6.1</td>\n",
       "      <td>34.0</td>\n",
       "      <td>5.090760</td>\n",
       "    </tr>\n",
       "    <tr>\n",
       "      <th>28</th>\n",
       "      <td>0</td>\n",
       "      <td>11862</td>\n",
       "      <td>8.387519</td>\n",
       "      <td>1995</td>\n",
       "      <td>76578911.0</td>\n",
       "      <td>5.7</td>\n",
       "      <td>173.0</td>\n",
       "      <td>0.000000</td>\n",
       "    </tr>\n",
       "  </tbody>\n",
       "</table>\n",
       "</div>"
      ],
      "text/plain": [
       "      budget     id  popularity  release_year      revenue  vote_average  \\\n",
       "0   30000000    862   21.946943          1995  373554033.0           7.7   \n",
       "3   65000000   8844   17.015539          1995  262797249.0           6.9   \n",
       "21         0  15602   11.712900          1995          0.0           6.5   \n",
       "25  16000000  31357    3.859495          1995   81452156.0           6.1   \n",
       "28         0  11862    8.387519          1995   76578911.0           5.7   \n",
       "\n",
       "    vote_count     return  \n",
       "0       5415.0  12.451801  \n",
       "3       2413.0   4.043035  \n",
       "21        92.0   0.000000  \n",
       "25        34.0   5.090760  \n",
       "28       173.0   0.000000  "
      ]
     },
     "execution_count": 413,
     "metadata": {},
     "output_type": "execute_result"
    }
   ],
   "source": [
    "# Tomamos solo valores numéricos.\n",
    "eval_dataset = movies_df.select_dtypes(exclude='object').drop_duplicates()\n",
    "eval_dataset.head()"
   ]
  },
  {
   "cell_type": "code",
   "execution_count": 414,
   "metadata": {},
   "outputs": [
    {
     "data": {
      "text/html": [
       "<div>\n",
       "<style scoped>\n",
       "    .dataframe tbody tr th:only-of-type {\n",
       "        vertical-align: middle;\n",
       "    }\n",
       "\n",
       "    .dataframe tbody tr th {\n",
       "        vertical-align: top;\n",
       "    }\n",
       "\n",
       "    .dataframe thead th {\n",
       "        text-align: right;\n",
       "    }\n",
       "</style>\n",
       "<table border=\"1\" class=\"dataframe\">\n",
       "  <thead>\n",
       "    <tr style=\"text-align: right;\">\n",
       "      <th></th>\n",
       "      <th>budget</th>\n",
       "      <th>id</th>\n",
       "      <th>popularity</th>\n",
       "      <th>release_year</th>\n",
       "      <th>revenue</th>\n",
       "      <th>vote_average</th>\n",
       "      <th>vote_count</th>\n",
       "      <th>return</th>\n",
       "    </tr>\n",
       "  </thead>\n",
       "  <tbody>\n",
       "    <tr>\n",
       "      <th>budget</th>\n",
       "      <td>1.000000</td>\n",
       "      <td>-0.101523</td>\n",
       "      <td>0.449900</td>\n",
       "      <td>0.132826</td>\n",
       "      <td>0.768699</td>\n",
       "      <td>0.073294</td>\n",
       "      <td>0.676487</td>\n",
       "      <td>-0.002158</td>\n",
       "    </tr>\n",
       "    <tr>\n",
       "      <th>id</th>\n",
       "      <td>-0.101523</td>\n",
       "      <td>1.000000</td>\n",
       "      <td>-0.083593</td>\n",
       "      <td>0.284922</td>\n",
       "      <td>-0.071063</td>\n",
       "      <td>-0.167613</td>\n",
       "      <td>-0.064569</td>\n",
       "      <td>-0.006779</td>\n",
       "    </tr>\n",
       "    <tr>\n",
       "      <th>popularity</th>\n",
       "      <td>0.449900</td>\n",
       "      <td>-0.083593</td>\n",
       "      <td>1.000000</td>\n",
       "      <td>0.132499</td>\n",
       "      <td>0.506726</td>\n",
       "      <td>0.155187</td>\n",
       "      <td>0.560466</td>\n",
       "      <td>0.003195</td>\n",
       "    </tr>\n",
       "    <tr>\n",
       "      <th>release_year</th>\n",
       "      <td>0.132826</td>\n",
       "      <td>0.284922</td>\n",
       "      <td>0.132499</td>\n",
       "      <td>1.000000</td>\n",
       "      <td>0.089193</td>\n",
       "      <td>0.028096</td>\n",
       "      <td>0.107734</td>\n",
       "      <td>-0.005017</td>\n",
       "    </tr>\n",
       "    <tr>\n",
       "      <th>revenue</th>\n",
       "      <td>0.768699</td>\n",
       "      <td>-0.071063</td>\n",
       "      <td>0.506726</td>\n",
       "      <td>0.089193</td>\n",
       "      <td>1.000000</td>\n",
       "      <td>0.084090</td>\n",
       "      <td>0.811966</td>\n",
       "      <td>0.000776</td>\n",
       "    </tr>\n",
       "    <tr>\n",
       "      <th>vote_average</th>\n",
       "      <td>0.073294</td>\n",
       "      <td>-0.167613</td>\n",
       "      <td>0.155187</td>\n",
       "      <td>0.028096</td>\n",
       "      <td>0.084090</td>\n",
       "      <td>1.000000</td>\n",
       "      <td>0.124087</td>\n",
       "      <td>0.005616</td>\n",
       "    </tr>\n",
       "    <tr>\n",
       "      <th>vote_count</th>\n",
       "      <td>0.676487</td>\n",
       "      <td>-0.064569</td>\n",
       "      <td>0.560466</td>\n",
       "      <td>0.107734</td>\n",
       "      <td>0.811966</td>\n",
       "      <td>0.124087</td>\n",
       "      <td>1.000000</td>\n",
       "      <td>0.003581</td>\n",
       "    </tr>\n",
       "    <tr>\n",
       "      <th>return</th>\n",
       "      <td>-0.002158</td>\n",
       "      <td>-0.006779</td>\n",
       "      <td>0.003195</td>\n",
       "      <td>-0.005017</td>\n",
       "      <td>0.000776</td>\n",
       "      <td>0.005616</td>\n",
       "      <td>0.003581</td>\n",
       "      <td>1.000000</td>\n",
       "    </tr>\n",
       "  </tbody>\n",
       "</table>\n",
       "</div>"
      ],
      "text/plain": [
       "                budget        id  popularity  release_year   revenue  \\\n",
       "budget        1.000000 -0.101523    0.449900      0.132826  0.768699   \n",
       "id           -0.101523  1.000000   -0.083593      0.284922 -0.071063   \n",
       "popularity    0.449900 -0.083593    1.000000      0.132499  0.506726   \n",
       "release_year  0.132826  0.284922    0.132499      1.000000  0.089193   \n",
       "revenue       0.768699 -0.071063    0.506726      0.089193  1.000000   \n",
       "vote_average  0.073294 -0.167613    0.155187      0.028096  0.084090   \n",
       "vote_count    0.676487 -0.064569    0.560466      0.107734  0.811966   \n",
       "return       -0.002158 -0.006779    0.003195     -0.005017  0.000776   \n",
       "\n",
       "              vote_average  vote_count    return  \n",
       "budget            0.073294    0.676487 -0.002158  \n",
       "id               -0.167613   -0.064569 -0.006779  \n",
       "popularity        0.155187    0.560466  0.003195  \n",
       "release_year      0.028096    0.107734 -0.005017  \n",
       "revenue           0.084090    0.811966  0.000776  \n",
       "vote_average      1.000000    0.124087  0.005616  \n",
       "vote_count        0.124087    1.000000  0.003581  \n",
       "return            0.005616    0.003581  1.000000  "
      ]
     },
     "execution_count": 414,
     "metadata": {},
     "output_type": "execute_result"
    }
   ],
   "source": [
    "corr_matrix = eval_dataset.corr()\n",
    "corr_matrix"
   ]
  },
  {
   "cell_type": "code",
   "execution_count": 415,
   "metadata": {},
   "outputs": [
    {
     "data": {
      "text/plain": [
       "<Axes: >"
      ]
     },
     "execution_count": 415,
     "metadata": {},
     "output_type": "execute_result"
    },
    {
     "data": {
      "image/png": "[encoded data removed]",
      "text/plain": [
       "<Figure size 640x480 with 2 Axes>"
      ]
     },
     "metadata": {},
     "output_type": "display_data"
    }
   ],
   "source": [
    "sns.heatmap(corr_matrix, annot=True, cmap=\"coolwarm\")"
   ]
  },
  {
   "cell_type": "markdown",
   "metadata": {},
   "source": [
    "Observamos alta correlación entre: \n",
    "- revenue y budget. (A más inversión, mas ganancia.)\n",
    "- revenue y vote_count (Más votantes indica mayor ganancia. Tiene sentido. Mayor gente vio la pelicula.)"
   ]
  },
  {
   "cell_type": "markdown",
   "metadata": {},
   "source": [
    "### Correlación budget , revenue y return\n",
    "Ya sabemos por anterioridad que la columna return resulta de la división de las dos columnas anteriores. Por lo cual optamos por eliminar return. Sospechamos que al eliminar revenue o budget podríamos perder información. Ya que estas guardan relación con otras variables, como vimos en la matriz de correlación general. Posteriormente para evitar overfit podemos aplicar métodos como PCA entre otros"
   ]
  },
  {
   "cell_type": "code",
   "execution_count": 416,
   "metadata": {},
   "outputs": [],
   "source": [
    "# creamos modified_df. donde guardaremos nuestros cambios a medida que vayamos realizando nuestro EDA.\n",
    "modified_df = movies_df.drop(columns=[\"return\"])"
   ]
  },
  {
   "cell_type": "markdown",
   "metadata": {},
   "source": [
    "### Distribución valores BUDGET"
   ]
  },
  {
   "cell_type": "code",
   "execution_count": 417,
   "metadata": {},
   "outputs": [
    {
     "data": {
      "text/plain": [
       "(42968, 2)"
      ]
     },
     "execution_count": 417,
     "metadata": {},
     "output_type": "execute_result"
    }
   ],
   "source": [
    "#tomamos los valores necesarios para evaluar\n",
    "eval_df = modified_df[[\"title\", \"budget\"]].drop_duplicates()\n",
    "eval_df.shape"
   ]
  },
  {
   "cell_type": "code",
   "execution_count": 418,
   "metadata": {},
   "outputs": [
    {
     "data": {
      "text/plain": [
       "<Axes: xlabel='budget', ylabel='Count'>"
      ]
     },
     "execution_count": 418,
     "metadata": {},
     "output_type": "execute_result"
    },
    {
     "data": {
      "image/png": "[encoded data removed]",
      "text/plain": [
       "<Figure size 640x480 with 1 Axes>"
      ]
     },
     "metadata": {},
     "output_type": "display_data"
    }
   ],
   "source": [
    "#detectamos que la gran cantidad de valores se concentra en budget cercano a 0, o muy por debajo de 50 millones millon\n",
    "sns.histplot(data=eval_df, x=\"budget\", bins=100)"
   ]
  },
  {
   "cell_type": "code",
   "execution_count": 419,
   "metadata": {},
   "outputs": [
    {
     "data": {
      "text/plain": [
       "79.41025879724447"
      ]
     },
     "execution_count": 419,
     "metadata": {},
     "output_type": "execute_result"
    }
   ],
   "source": [
    "# De hecho vemos que la gran mayoria de peliculas no tienen el valor de budget, ya que es 0. De hecho, el 80% de peliculas en el dataset figuran con un budget de 0.\n",
    "\n",
    "zero_budget_movies = eval_df[eval_df[\"budget\"]==0].shape[0]\n",
    "total_movies = eval_df.shape[0]\n",
    "zero_budget_movies / total_movies * 100"
   ]
  },
  {
   "cell_type": "markdown",
   "metadata": {},
   "source": [
    "Esta gran cantidad de valores de 0, puede deberse a muchas cosas. \n",
    "1. Falta una gran cantidad de información\n",
    "2. Estas películas se categarizaron con budget 0 al tener un budget muy reducido.\n",
    "3. etc."
   ]
  },
  {
   "cell_type": "code",
   "execution_count": 420,
   "metadata": {},
   "outputs": [
    {
     "data": {
      "text/html": [
       "<div>\n",
       "<style scoped>\n",
       "    .dataframe tbody tr th:only-of-type {\n",
       "        vertical-align: middle;\n",
       "    }\n",
       "\n",
       "    .dataframe tbody tr th {\n",
       "        vertical-align: top;\n",
       "    }\n",
       "\n",
       "    .dataframe thead th {\n",
       "        text-align: right;\n",
       "    }\n",
       "</style>\n",
       "<table border=\"1\" class=\"dataframe\">\n",
       "  <thead>\n",
       "    <tr style=\"text-align: right;\">\n",
       "      <th></th>\n",
       "      <th>title</th>\n",
       "      <th>budget</th>\n",
       "    </tr>\n",
       "  </thead>\n",
       "  <tbody>\n",
       "    <tr>\n",
       "      <th>21</th>\n",
       "      <td>Grumpier Old Men</td>\n",
       "      <td>0</td>\n",
       "    </tr>\n",
       "    <tr>\n",
       "      <th>28</th>\n",
       "      <td>Father of the Bride Part II</td>\n",
       "      <td>0</td>\n",
       "    </tr>\n",
       "    <tr>\n",
       "      <th>110</th>\n",
       "      <td>Tom and Huck</td>\n",
       "      <td>0</td>\n",
       "    </tr>\n",
       "    <tr>\n",
       "      <th>169</th>\n",
       "      <td>Dracula: Dead and Loving It</td>\n",
       "      <td>0</td>\n",
       "    </tr>\n",
       "    <tr>\n",
       "      <th>193</th>\n",
       "      <td>Balto</td>\n",
       "      <td>0</td>\n",
       "    </tr>\n",
       "    <tr>\n",
       "      <th>...</th>\n",
       "      <td>...</td>\n",
       "      <td>...</td>\n",
       "    </tr>\n",
       "    <tr>\n",
       "      <th>416904</th>\n",
       "      <td>The Burkittsville 7</td>\n",
       "      <td>0</td>\n",
       "    </tr>\n",
       "    <tr>\n",
       "      <th>416906</th>\n",
       "      <td>Caged Heat 3000</td>\n",
       "      <td>0</td>\n",
       "    </tr>\n",
       "    <tr>\n",
       "      <th>416955</th>\n",
       "      <td>Century of Birthing</td>\n",
       "      <td>0</td>\n",
       "    </tr>\n",
       "    <tr>\n",
       "      <th>416959</th>\n",
       "      <td>Satan Triumphant</td>\n",
       "      <td>0</td>\n",
       "    </tr>\n",
       "    <tr>\n",
       "      <th>416960</th>\n",
       "      <td>Queerama</td>\n",
       "      <td>0</td>\n",
       "    </tr>\n",
       "  </tbody>\n",
       "</table>\n",
       "<p>34121 rows × 2 columns</p>\n",
       "</div>"
      ],
      "text/plain": [
       "                              title  budget\n",
       "21                 Grumpier Old Men       0\n",
       "28      Father of the Bride Part II       0\n",
       "110                    Tom and Huck       0\n",
       "169     Dracula: Dead and Loving It       0\n",
       "193                           Balto       0\n",
       "...                             ...     ...\n",
       "416904          The Burkittsville 7       0\n",
       "416906              Caged Heat 3000       0\n",
       "416955          Century of Birthing       0\n",
       "416959             Satan Triumphant       0\n",
       "416960                     Queerama       0\n",
       "\n",
       "[34121 rows x 2 columns]"
      ]
     },
     "execution_count": 420,
     "metadata": {},
     "output_type": "execute_result"
    }
   ],
   "source": [
    "# Al revisar observamos que la opcion correcta es la primera. Ya que, \"Dracula: Dead and Loving It\" tuvo un presupuesto de 30 millones segun IMDb. \n",
    "# Por lo cual, no podemos confiar en esta información. Procedemos a descartarla.\n",
    "eval_df[eval_df[\"budget\"]==0]"
   ]
  },
  {
   "cell_type": "code",
   "execution_count": 421,
   "metadata": {},
   "outputs": [],
   "source": [
    "#Dropeamos la columna budget.\n",
    "modified_df.drop(columns=[\"budget\"], inplace=True)"
   ]
  },
  {
   "cell_type": "markdown",
   "metadata": {},
   "source": [
    "### Distribución columna REVENUE\n",
    "Vamos a realizar un análisis similar al de BUDGET, para ver si tenemos valores relevantes en el dataset."
   ]
  },
  {
   "cell_type": "code",
   "execution_count": 422,
   "metadata": {},
   "outputs": [
    {
     "data": {
      "text/plain": [
       "(42802, 2)"
      ]
     },
     "execution_count": 422,
     "metadata": {},
     "output_type": "execute_result"
    }
   ],
   "source": [
    "eval_df = modified_df[[\"title\", \"revenue\"]].drop_duplicates()\n",
    "eval_df.shape"
   ]
  },
  {
   "cell_type": "code",
   "execution_count": 423,
   "metadata": {},
   "outputs": [
    {
     "data": {
      "text/plain": [
       "<Axes: xlabel='revenue', ylabel='Count'>"
      ]
     },
     "execution_count": 423,
     "metadata": {},
     "output_type": "execute_result"
    },
    {
     "data": {
      "image/png": "[encoded data removed]",
      "text/plain": [
       "<Figure size 640x480 with 1 Axes>"
      ]
     },
     "metadata": {},
     "output_type": "display_data"
    }
   ],
   "source": [
    "sns.histplot(data=eval_df, x=\"revenue\", bins=100)"
   ]
  },
  {
   "cell_type": "code",
   "execution_count": 424,
   "metadata": {},
   "outputs": [
    {
     "data": {
      "text/plain": [
       "82.75314237652445"
      ]
     },
     "execution_count": 424,
     "metadata": {},
     "output_type": "execute_result"
    }
   ],
   "source": [
    "zero_revenue_movies = eval_df[eval_df[\"revenue\"]==0].shape[0]\n",
    "total_movies = eval_df.shape[0]\n",
    "zero_revenue_movies / total_movies * 100"
   ]
  },
  {
   "cell_type": "markdown",
   "metadata": {},
   "source": [
    "Observamos que un total del 82% de peliculas en el dataset muestran un revenue = 0. Nuevamente, es mucha información faltante. Lo que no será bueno dentro de nuestro algoritmo de ML.\n",
    "Debido a que queremos simplificar el problema, y no se trata de una columna crítica como otras, vamos a proceder a descartar esta columna. "
   ]
  },
  {
   "cell_type": "code",
   "execution_count": 425,
   "metadata": {},
   "outputs": [],
   "source": [
    "modified_df.drop(columns=[\"revenue\"], inplace=True)"
   ]
  },
  {
   "cell_type": "markdown",
   "metadata": {},
   "source": [
    "### Distribución columna Popularidad"
   ]
  },
  {
   "cell_type": "code",
   "execution_count": 426,
   "metadata": {},
   "outputs": [
    {
     "data": {
      "text/plain": [
       "(44920, 2)"
      ]
     },
     "execution_count": 426,
     "metadata": {},
     "output_type": "execute_result"
    }
   ],
   "source": [
    "eval_df = modified_df[[\"title\", \"popularity\"]].drop_duplicates()\n",
    "eval_df.shape"
   ]
  },
  {
   "cell_type": "code",
   "execution_count": 427,
   "metadata": {},
   "outputs": [
    {
     "data": {
      "text/plain": [
       "<Axes: xlabel='popularity', ylabel='Count'>"
      ]
     },
     "execution_count": 427,
     "metadata": {},
     "output_type": "execute_result"
    },
    {
     "data": {
      "image/png": "[encoded data removed]",
      "text/plain": [
       "<Figure size 640x480 with 1 Axes>"
      ]
     },
     "metadata": {},
     "output_type": "display_data"
    }
   ],
   "source": [
    "#Observamos que la gran mayoria de valores se encuentran entre 0 y 10, pero parece haber outliers. \n",
    "sns.histplot(data=eval_df, x=\"popularity\")"
   ]
  },
  {
   "cell_type": "code",
   "execution_count": 428,
   "metadata": {},
   "outputs": [
    {
     "data": {
      "text/plain": [
       "<Axes: xlabel='popularity'>"
      ]
     },
     "execution_count": 428,
     "metadata": {},
     "output_type": "execute_result"
    },
    {
     "data": {
      "image/png": "[encoded data removed]",
      "text/plain": [
       "<Figure size 640x480 with 1 Axes>"
      ]
     },
     "metadata": {},
     "output_type": "display_data"
    }
   ],
   "source": [
    "#Ploteamos un boxplot para observar estos valores atipicos , pero observamos que existe un numero considerable.\n",
    "sns.boxplot(data=eval_df, x=\"popularity\")"
   ]
  },
  {
   "cell_type": "code",
   "execution_count": 429,
   "metadata": {},
   "outputs": [
    {
     "data": {
      "text/plain": [
       "<Axes: xlabel='popularity'>"
      ]
     },
     "execution_count": 429,
     "metadata": {},
     "output_type": "execute_result"
    },
    {
     "data": {
      "image/png": "[encoded data removed]",
      "text/plain": [
       "<Figure size 640x480 with 1 Axes>"
      ]
     },
     "metadata": {},
     "output_type": "display_data"
    }
   ],
   "source": [
    "# Usamos escala logaritmica para visualizar los valores extremos de mejor manera.\n",
    "sns.boxplot(data=eval_df, x=\"popularity\", log_scale=10)"
   ]
  },
  {
   "cell_type": "code",
   "execution_count": 430,
   "metadata": {},
   "outputs": [
    {
     "data": {
      "text/html": [
       "<div>\n",
       "<style scoped>\n",
       "    .dataframe tbody tr th:only-of-type {\n",
       "        vertical-align: middle;\n",
       "    }\n",
       "\n",
       "    .dataframe tbody tr th {\n",
       "        vertical-align: top;\n",
       "    }\n",
       "\n",
       "    .dataframe thead th {\n",
       "        text-align: right;\n",
       "    }\n",
       "</style>\n",
       "<table border=\"1\" class=\"dataframe\">\n",
       "  <thead>\n",
       "    <tr style=\"text-align: right;\">\n",
       "      <th></th>\n",
       "      <th>title</th>\n",
       "      <th>popularity</th>\n",
       "    </tr>\n",
       "  </thead>\n",
       "  <tbody>\n",
       "    <tr>\n",
       "      <th>0</th>\n",
       "      <td>Toy Story</td>\n",
       "      <td>21.946943</td>\n",
       "    </tr>\n",
       "    <tr>\n",
       "      <th>3</th>\n",
       "      <td>Jumanji</td>\n",
       "      <td>17.015539</td>\n",
       "    </tr>\n",
       "    <tr>\n",
       "      <th>21</th>\n",
       "      <td>Grumpier Old Men</td>\n",
       "      <td>11.712900</td>\n",
       "    </tr>\n",
       "    <tr>\n",
       "      <th>30</th>\n",
       "      <td>Heat</td>\n",
       "      <td>17.924927</td>\n",
       "    </tr>\n",
       "    <tr>\n",
       "      <th>127</th>\n",
       "      <td>GoldenEye</td>\n",
       "      <td>14.686036</td>\n",
       "    </tr>\n",
       "    <tr>\n",
       "      <th>...</th>\n",
       "      <td>...</td>\n",
       "      <td>...</td>\n",
       "    </tr>\n",
       "    <tr>\n",
       "      <th>415756</th>\n",
       "      <td>S.W.A.T.: Under Siege</td>\n",
       "      <td>20.386910</td>\n",
       "    </tr>\n",
       "    <tr>\n",
       "      <th>415797</th>\n",
       "      <td>Wish Upon</td>\n",
       "      <td>59.578823</td>\n",
       "    </tr>\n",
       "    <tr>\n",
       "      <th>415803</th>\n",
       "      <td>Girls Trip</td>\n",
       "      <td>37.964872</td>\n",
       "    </tr>\n",
       "    <tr>\n",
       "      <th>416051</th>\n",
       "      <td>Descendants 2</td>\n",
       "      <td>15.842073</td>\n",
       "    </tr>\n",
       "    <tr>\n",
       "      <th>416846</th>\n",
       "      <td>In a Heartbeat</td>\n",
       "      <td>20.821780</td>\n",
       "    </tr>\n",
       "  </tbody>\n",
       "</table>\n",
       "<p>3011 rows × 2 columns</p>\n",
       "</div>"
      ],
      "text/plain": [
       "                        title  popularity\n",
       "0                   Toy Story   21.946943\n",
       "3                     Jumanji   17.015539\n",
       "21           Grumpier Old Men   11.712900\n",
       "30                       Heat   17.924927\n",
       "127                 GoldenEye   14.686036\n",
       "...                       ...         ...\n",
       "415756  S.W.A.T.: Under Siege   20.386910\n",
       "415797              Wish Upon   59.578823\n",
       "415803             Girls Trip   37.964872\n",
       "416051          Descendants 2   15.842073\n",
       "416846         In a Heartbeat   20.821780\n",
       "\n",
       "[3011 rows x 2 columns]"
      ]
     },
     "execution_count": 430,
     "metadata": {},
     "output_type": "execute_result"
    }
   ],
   "source": [
    "#Verificamos cuantos valores son mayores a un treshold. Un total de 3011.\n",
    "eval_df[eval_df[\"popularity\"]>10]"
   ]
  },
  {
   "cell_type": "markdown",
   "metadata": {},
   "source": [
    "Observamos que existen en efecto peliculas con un gran valor de popularidad, pero son peliculas taquilleras.\n",
    "Sin embargo, no queremos que estos valores estén tan dispersos. Por lo que, posiblemente amerite una transformación.\n",
    "Validando las opciones que tenemos, no creo que sea una buena opción usar escaladores como minmax, o standard scaler, ya que son muy susceptibles a outliers.\n",
    "Ya que tenemos una buena visualización de los valores con un escala logaritmica, optamos por hacer una transformación de este tipo."
   ]
  },
  {
   "cell_type": "code",
   "execution_count": 431,
   "metadata": {},
   "outputs": [],
   "source": [
    "#Escalado logarítmico.\n",
    "eval_df['popularity_log'] = np.log1p(eval_df['popularity'])  # log1p es log(x + 1)"
   ]
  },
  {
   "cell_type": "code",
   "execution_count": 432,
   "metadata": {},
   "outputs": [
    {
     "data": {
      "text/plain": [
       "count    44920.000000\n",
       "mean         0.984947\n",
       "std          0.804524\n",
       "min          0.000000\n",
       "25%          0.332254\n",
       "50%          0.760315\n",
       "75%          1.556095\n",
       "max          6.307166\n",
       "Name: popularity_log, dtype: float64"
      ]
     },
     "execution_count": 432,
     "metadata": {},
     "output_type": "execute_result"
    }
   ],
   "source": [
    "#observamos los quartiles.\n",
    "eval_df['popularity_log'].describe()"
   ]
  },
  {
   "cell_type": "code",
   "execution_count": 433,
   "metadata": {},
   "outputs": [
    {
     "data": {
      "text/plain": [
       "<Axes: xlabel='popularity_log', ylabel='Count'>"
      ]
     },
     "execution_count": 433,
     "metadata": {},
     "output_type": "execute_result"
    },
    {
     "data": {
      "image/png": "[encoded data removed]",
      "text/plain": [
       "<Figure size 640x480 with 1 Axes>"
      ]
     },
     "metadata": {},
     "output_type": "display_data"
    }
   ],
   "source": [
    "#ploteamos los valores para ver la distribución.\n",
    "sns.histplot(data=eval_df, x=\"popularity_log\")"
   ]
  },
  {
   "cell_type": "code",
   "execution_count": 434,
   "metadata": {},
   "outputs": [],
   "source": [
    "#es una opcion convincente por lo cual aplicamos la transformación al dataset.\n",
    "modified_df['popularity_log'] = np.log1p(modified_df['popularity'])\n",
    "modified_df.drop(columns=\"popularity\", inplace=True)"
   ]
  },
  {
   "cell_type": "markdown",
   "metadata": {},
   "source": [
    "### Distribución columna vote_count"
   ]
  },
  {
   "cell_type": "code",
   "execution_count": 435,
   "metadata": {},
   "outputs": [
    {
     "data": {
      "text/plain": [
       "(44793, 2)"
      ]
     },
     "execution_count": 435,
     "metadata": {},
     "output_type": "execute_result"
    }
   ],
   "source": [
    "eval_df = modified_df[[\"title\", \"vote_count\"]].drop_duplicates()\n",
    "eval_df.shape"
   ]
  },
  {
   "cell_type": "code",
   "execution_count": 436,
   "metadata": {},
   "outputs": [
    {
     "data": {
      "text/plain": [
       "<Axes: xlabel='vote_count', ylabel='Count'>"
      ]
     },
     "execution_count": 436,
     "metadata": {},
     "output_type": "execute_result"
    },
    {
     "data": {
      "image/png": "[encoded data removed]",
      "text/plain": [
       "<Figure size 640x480 with 1 Axes>"
      ]
     },
     "metadata": {},
     "output_type": "display_data"
    }
   ],
   "source": [
    "# ploteamos la distribución de vote_count, observamos que parece haber outliers como esperabamos.\n",
    "sns.histplot(data=eval_df, x=\"vote_count\")"
   ]
  },
  {
   "cell_type": "code",
   "execution_count": 437,
   "metadata": {},
   "outputs": [
    {
     "data": {
      "text/plain": [
       "<Axes: xlabel='vote_count'>"
      ]
     },
     "execution_count": 437,
     "metadata": {},
     "output_type": "execute_result"
    },
    {
     "data": {
      "image/png": "[encoded data removed]",
      "text/plain": [
       "<Figure size 640x480 with 1 Axes>"
      ]
     },
     "metadata": {},
     "output_type": "display_data"
    }
   ],
   "source": [
    "sns.boxplot(data=eval_df, x=\"vote_count\", log_scale=10)"
   ]
  },
  {
   "cell_type": "code",
   "execution_count": 438,
   "metadata": {},
   "outputs": [
    {
     "data": {
      "text/plain": [
       "1120"
      ]
     },
     "execution_count": 438,
     "metadata": {},
     "output_type": "execute_result"
    }
   ],
   "source": [
    "# graficamente observamos que los outliers estarían aproximadamente sobre 1000\n",
    "# visualizamos la cantidad de valores \"outliers\"\n",
    "eval_df[eval_df[\"vote_count\"]>1000].shape[0]\n",
    "#tenemos un total de 1120 peliculas con mas de 1000 votos, lo que son pocos valores.\n",
    "#Optamos por realizar un reescalado."
   ]
  },
  {
   "cell_type": "markdown",
   "metadata": {},
   "source": [
    "Escalamos logaritmicamente"
   ]
  },
  {
   "cell_type": "code",
   "execution_count": 439,
   "metadata": {},
   "outputs": [],
   "source": [
    "eval_df['vote_count_scaled'] = np.log1p(eval_df['vote_count'])  # log1p es log(x + 1)"
   ]
  },
  {
   "cell_type": "code",
   "execution_count": 440,
   "metadata": {},
   "outputs": [
    {
     "data": {
      "text/plain": [
       "<Axes: xlabel='vote_count_scaled', ylabel='Count'>"
      ]
     },
     "execution_count": 440,
     "metadata": {},
     "output_type": "execute_result"
    },
    {
     "data": {
      "image/png": "[encoded data removed]",
      "text/plain": [
       "<Figure size 640x480 with 1 Axes>"
      ]
     },
     "metadata": {},
     "output_type": "display_data"
    }
   ],
   "source": [
    "sns.histplot(data=eval_df[\"vote_count_scaled\"], bins = 11)"
   ]
  },
  {
   "cell_type": "code",
   "execution_count": 441,
   "metadata": {},
   "outputs": [
    {
     "data": {
      "text/plain": [
       "<Axes: ylabel='vote_count_scaled'>"
      ]
     },
     "execution_count": 441,
     "metadata": {},
     "output_type": "execute_result"
    },
    {
     "data": {
      "image/png": "[encoded data removed]",
      "text/plain": [
       "<Figure size 640x480 with 1 Axes>"
      ]
     },
     "metadata": {},
     "output_type": "display_data"
    }
   ],
   "source": [
    "sns.boxplot(data=eval_df[\"vote_count_scaled\"])"
   ]
  },
  {
   "cell_type": "code",
   "execution_count": 442,
   "metadata": {},
   "outputs": [],
   "source": [
    "# Aplicamos la transformación al dataset requerido.\n",
    "modified_df[\"vote_count_log\"] =  np.log1p(modified_df['vote_count'])\n",
    "modified_df.drop(columns=[\"vote_count\"],inplace=True)\n"
   ]
  },
  {
   "cell_type": "markdown",
   "metadata": {},
   "source": [
    "### Ultimo vistazo a los datos numéricos"
   ]
  },
  {
   "cell_type": "code",
   "execution_count": 443,
   "metadata": {},
   "outputs": [
    {
     "data": {
      "text/html": [
       "<div>\n",
       "<style scoped>\n",
       "    .dataframe tbody tr th:only-of-type {\n",
       "        vertical-align: middle;\n",
       "    }\n",
       "\n",
       "    .dataframe tbody tr th {\n",
       "        vertical-align: top;\n",
       "    }\n",
       "\n",
       "    .dataframe thead th {\n",
       "        text-align: right;\n",
       "    }\n",
       "</style>\n",
       "<table border=\"1\" class=\"dataframe\">\n",
       "  <thead>\n",
       "    <tr style=\"text-align: right;\">\n",
       "      <th></th>\n",
       "      <th>id</th>\n",
       "      <th>release_year</th>\n",
       "      <th>vote_average</th>\n",
       "      <th>popularity_log</th>\n",
       "      <th>vote_count_log</th>\n",
       "    </tr>\n",
       "  </thead>\n",
       "  <tbody>\n",
       "    <tr>\n",
       "      <th>count</th>\n",
       "      <td>416961.000000</td>\n",
       "      <td>416961.000000</td>\n",
       "      <td>416961.000000</td>\n",
       "      <td>416961.000000</td>\n",
       "      <td>416961.000000</td>\n",
       "    </tr>\n",
       "    <tr>\n",
       "      <th>mean</th>\n",
       "      <td>79303.293601</td>\n",
       "      <td>1999.396852</td>\n",
       "      <td>5.922046</td>\n",
       "      <td>1.496531</td>\n",
       "      <td>3.789719</td>\n",
       "    </tr>\n",
       "    <tr>\n",
       "      <th>std</th>\n",
       "      <td>105793.540976</td>\n",
       "      <td>17.064685</td>\n",
       "      <td>1.448900</td>\n",
       "      <td>0.879061</td>\n",
       "      <td>2.039733</td>\n",
       "    </tr>\n",
       "    <tr>\n",
       "      <th>min</th>\n",
       "      <td>2.000000</td>\n",
       "      <td>1874.000000</td>\n",
       "      <td>0.000000</td>\n",
       "      <td>0.000000</td>\n",
       "      <td>0.000000</td>\n",
       "    </tr>\n",
       "    <tr>\n",
       "      <th>25%</th>\n",
       "      <td>9974.000000</td>\n",
       "      <td>1995.000000</td>\n",
       "      <td>5.400000</td>\n",
       "      <td>0.672272</td>\n",
       "      <td>2.197225</td>\n",
       "    </tr>\n",
       "    <tr>\n",
       "      <th>50%</th>\n",
       "      <td>33545.000000</td>\n",
       "      <td>2004.000000</td>\n",
       "      <td>6.200000</td>\n",
       "      <td>1.506569</td>\n",
       "      <td>3.555348</td>\n",
       "    </tr>\n",
       "    <tr>\n",
       "      <th>75%</th>\n",
       "      <td>90762.000000</td>\n",
       "      <td>2010.000000</td>\n",
       "      <td>6.900000</td>\n",
       "      <td>2.233613</td>\n",
       "      <td>5.288267</td>\n",
       "    </tr>\n",
       "    <tr>\n",
       "      <th>max</th>\n",
       "      <td>469172.000000</td>\n",
       "      <td>2017.000000</td>\n",
       "      <td>10.000000</td>\n",
       "      <td>6.307166</td>\n",
       "      <td>9.552226</td>\n",
       "    </tr>\n",
       "  </tbody>\n",
       "</table>\n",
       "</div>"
      ],
      "text/plain": [
       "                  id   release_year   vote_average  popularity_log  \\\n",
       "count  416961.000000  416961.000000  416961.000000   416961.000000   \n",
       "mean    79303.293601    1999.396852       5.922046        1.496531   \n",
       "std    105793.540976      17.064685       1.448900        0.879061   \n",
       "min         2.000000    1874.000000       0.000000        0.000000   \n",
       "25%      9974.000000    1995.000000       5.400000        0.672272   \n",
       "50%     33545.000000    2004.000000       6.200000        1.506569   \n",
       "75%     90762.000000    2010.000000       6.900000        2.233613   \n",
       "max    469172.000000    2017.000000      10.000000        6.307166   \n",
       "\n",
       "       vote_count_log  \n",
       "count   416961.000000  \n",
       "mean         3.789719  \n",
       "std          2.039733  \n",
       "min          0.000000  \n",
       "25%          2.197225  \n",
       "50%          3.555348  \n",
       "75%          5.288267  \n",
       "max          9.552226  "
      ]
     },
     "execution_count": 443,
     "metadata": {},
     "output_type": "execute_result"
    }
   ],
   "source": [
    "modified_df.describe()"
   ]
  },
  {
   "cell_type": "markdown",
   "metadata": {},
   "source": [
    "## Exploración de Texto"
   ]
  },
  {
   "cell_type": "code",
   "execution_count": 444,
   "metadata": {},
   "outputs": [
    {
     "name": "stdout",
     "output_type": "stream",
     "text": [
      "<class 'pandas.core.frame.DataFrame'>\n",
      "Index: 416453 entries, 0 to 416960\n",
      "Data columns (total 10 columns):\n",
      " #   Column                           Non-Null Count   Dtype \n",
      "---  ------                           --------------   ----- \n",
      " 0   original_language                416361 non-null  object\n",
      " 1   overview                         414044 non-null  object\n",
      " 2   release_date                     416453 non-null  object\n",
      " 3   tagline                          226734 non-null  object\n",
      " 4   title                            416453 non-null  object\n",
      " 5   collection.name                  54091 non-null   object\n",
      " 6   genres.name                      413411 non-null  object\n",
      " 7   production_companies.name        390039 non-null  object\n",
      " 8   production_countries.iso_3166_1  405391 non-null  object\n",
      " 9   spoken_languages.iso_639_1       409978 non-null  object\n",
      "dtypes: object(10)\n",
      "memory usage: 35.0+ MB\n"
     ]
    }
   ],
   "source": [
    "eval_dataset = modified_df.select_dtypes(include='object').drop_duplicates()\n",
    "eval_dataset.info()"
   ]
  },
  {
   "cell_type": "markdown",
   "metadata": {},
   "source": [
    "### Columna original_language "
   ]
  },
  {
   "cell_type": "code",
   "execution_count": 445,
   "metadata": {},
   "outputs": [],
   "source": [
    "eval_df = modified_df[[\"title\", \"original_language\"]].drop_duplicates()"
   ]
  },
  {
   "cell_type": "code",
   "execution_count": 446,
   "metadata": {},
   "outputs": [
    {
     "data": {
      "text/plain": [
       "array(['en', 'fr', 'zh', 'it', 'fa', 'nl', 'de', 'cn', 'ar', 'es', 'ru',\n",
       "       'sv', 'ja', 'ko', 'sr', 'bn', 'he', 'pt', 'wo', 'ro', 'hu', 'cy',\n",
       "       'vi', 'cs', 'da', 'no', 'nb', 'pl', 'el', 'sh', 'xx', 'mk', 'bo',\n",
       "       'ca', 'fi', 'th', 'sk', 'bs', 'hi', 'tr', 'is', 'ps', 'ab', 'eo',\n",
       "       'ka', 'mn', 'bm', 'zu', 'uk', 'af', 'la', 'et', 'ku', 'fy', 'lv',\n",
       "       'ta', 'sl', 'tl', 'ur', 'rw', 'id', 'bg', 'mr', 'lt', 'kk', 'ms',\n",
       "       'sq', nan, 'qu', 'te', 'am', 'jv', 'tg', 'ml', 'hr', 'lo', 'ay',\n",
       "       'kn', 'eu', 'ne', 'pa', 'ky', 'gl', 'uz', 'sm', 'mt', 'hy', 'iu',\n",
       "       'lb', 'si'], dtype=object)"
      ]
     },
     "execution_count": 446,
     "metadata": {},
     "output_type": "execute_result"
    }
   ],
   "source": [
    "#Visualizamos los valores unicos, hay bastante variedad de valores\n",
    "eval_df[\"original_language\"].unique()"
   ]
  },
  {
   "cell_type": "code",
   "execution_count": 447,
   "metadata": {},
   "outputs": [
    {
     "data": {
      "text/plain": [
       "<Axes: xlabel='original_language', ylabel='count'>"
      ]
     },
     "execution_count": 447,
     "metadata": {},
     "output_type": "execute_result"
    },
    {
     "data": {
      "image/png": "[encoded data removed]",
      "text/plain": [
       "<Figure size 640x480 with 1 Axes>"
      ]
     },
     "metadata": {},
     "output_type": "display_data"
    }
   ],
   "source": [
    "# observamos que la gran mayoria de peliculas se producen en ingles. un total de 30000 valores.\n",
    "sns.countplot(data=eval_df, x=\"original_language\")"
   ]
  },
  {
   "cell_type": "code",
   "execution_count": 448,
   "metadata": {},
   "outputs": [
    {
     "data": {
      "text/plain": [
       "title                30020\n",
       "original_language    30020\n",
       "dtype: int64"
      ]
     },
     "execution_count": 448,
     "metadata": {},
     "output_type": "execute_result"
    }
   ],
   "source": [
    "eval_df[eval_df[\"original_language\"]=='en'].count()"
   ]
  },
  {
   "cell_type": "code",
   "execution_count": 449,
   "metadata": {},
   "outputs": [
    {
     "data": {
      "text/html": [
       "<div>\n",
       "<style scoped>\n",
       "    .dataframe tbody tr th:only-of-type {\n",
       "        vertical-align: middle;\n",
       "    }\n",
       "\n",
       "    .dataframe tbody tr th {\n",
       "        vertical-align: top;\n",
       "    }\n",
       "\n",
       "    .dataframe thead th {\n",
       "        text-align: right;\n",
       "    }\n",
       "</style>\n",
       "<table border=\"1\" class=\"dataframe\">\n",
       "  <thead>\n",
       "    <tr style=\"text-align: right;\">\n",
       "      <th></th>\n",
       "      <th>title</th>\n",
       "      <th>original_language</th>\n",
       "    </tr>\n",
       "  </thead>\n",
       "  <tbody>\n",
       "    <tr>\n",
       "      <th>237573</th>\n",
       "      <td>Shadowing the Third Man</td>\n",
       "      <td>NaN</td>\n",
       "    </tr>\n",
       "    <tr>\n",
       "      <th>252468</th>\n",
       "      <td>Unfinished Sky</td>\n",
       "      <td>NaN</td>\n",
       "    </tr>\n",
       "    <tr>\n",
       "      <th>286840</th>\n",
       "      <td>13 Fighting Men</td>\n",
       "      <td>NaN</td>\n",
       "    </tr>\n",
       "    <tr>\n",
       "      <th>345036</th>\n",
       "      <td>Lambchops</td>\n",
       "      <td>NaN</td>\n",
       "    </tr>\n",
       "    <tr>\n",
       "      <th>372698</th>\n",
       "      <td>Prince Bayaya</td>\n",
       "      <td>NaN</td>\n",
       "    </tr>\n",
       "    <tr>\n",
       "      <th>392801</th>\n",
       "      <td>Song of Lahore</td>\n",
       "      <td>NaN</td>\n",
       "    </tr>\n",
       "    <tr>\n",
       "      <th>397618</th>\n",
       "      <td>Annabelle Serpentine Dance</td>\n",
       "      <td>NaN</td>\n",
       "    </tr>\n",
       "    <tr>\n",
       "      <th>410009</th>\n",
       "      <td>Lettre d'une inconnue</td>\n",
       "      <td>NaN</td>\n",
       "    </tr>\n",
       "    <tr>\n",
       "      <th>411868</th>\n",
       "      <td>Yarn</td>\n",
       "      <td>NaN</td>\n",
       "    </tr>\n",
       "    <tr>\n",
       "      <th>412680</th>\n",
       "      <td>WiNWiN</td>\n",
       "      <td>NaN</td>\n",
       "    </tr>\n",
       "  </tbody>\n",
       "</table>\n",
       "</div>"
      ],
      "text/plain": [
       "                             title original_language\n",
       "237573     Shadowing the Third Man               NaN\n",
       "252468              Unfinished Sky               NaN\n",
       "286840             13 Fighting Men               NaN\n",
       "345036                   Lambchops               NaN\n",
       "372698               Prince Bayaya               NaN\n",
       "392801              Song of Lahore               NaN\n",
       "397618  Annabelle Serpentine Dance               NaN\n",
       "410009       Lettre d'une inconnue               NaN\n",
       "411868                        Yarn               NaN\n",
       "412680                      WiNWiN               NaN"
      ]
     },
     "execution_count": 449,
     "metadata": {},
     "output_type": "execute_result"
    }
   ],
   "source": [
    "# Revision de valores nulos.\n",
    "eval_df[eval_df[\"original_language\"].isnull()]"
   ]
  },
  {
   "cell_type": "code",
   "execution_count": 450,
   "metadata": {},
   "outputs": [
    {
     "name": "stderr",
     "output_type": "stream",
     "text": [
      "C:\\Users\\Une\\AppData\\Local\\Temp\\ipykernel_29360\\1522568990.py:4: FutureWarning: A value is trying to be set on a copy of a DataFrame or Series through chained assignment using an inplace method.\n",
      "The behavior will change in pandas 3.0. This inplace method will never work because the intermediate object on which we are setting values always behaves as a copy.\n",
      "\n",
      "For example, when doing 'df[col].method(value, inplace=True)', try using 'df.method({col: value}, inplace=True)' or df[col] = df[col].method(value) instead, to perform the operation inplace on the original object.\n",
      "\n",
      "\n",
      "  modified_df[\"original_language\"].fillna(value=\"missing\", inplace=True)\n"
     ]
    }
   ],
   "source": [
    "# Vamos a imputar estos valores a un valor distinto, \"missing\", que no influya en la seleccion de peliculas dentro de nuestro algoritmo.\n",
    "# En la practica tratariamos de rellenar estos valores con otra base de datos online posiblemente.\n",
    "\n",
    "modified_df[\"original_language\"].fillna(value=\"missing\", inplace=True)"
   ]
  },
  {
   "cell_type": "markdown",
   "metadata": {},
   "source": [
    "### Overview"
   ]
  },
  {
   "cell_type": "code",
   "execution_count": 451,
   "metadata": {},
   "outputs": [
    {
     "data": {
      "text/html": [
       "<div>\n",
       "<style scoped>\n",
       "    .dataframe tbody tr th:only-of-type {\n",
       "        vertical-align: middle;\n",
       "    }\n",
       "\n",
       "    .dataframe tbody tr th {\n",
       "        vertical-align: top;\n",
       "    }\n",
       "\n",
       "    .dataframe thead th {\n",
       "        text-align: right;\n",
       "    }\n",
       "</style>\n",
       "<table border=\"1\" class=\"dataframe\">\n",
       "  <thead>\n",
       "    <tr style=\"text-align: right;\">\n",
       "      <th></th>\n",
       "      <th>title</th>\n",
       "      <th>overview</th>\n",
       "    </tr>\n",
       "  </thead>\n",
       "  <tbody>\n",
       "    <tr>\n",
       "      <th>0</th>\n",
       "      <td>Toy Story</td>\n",
       "      <td>Led by Woody, Andy's toys live happily in his ...</td>\n",
       "    </tr>\n",
       "    <tr>\n",
       "      <th>3</th>\n",
       "      <td>Jumanji</td>\n",
       "      <td>When siblings Judy and Peter discover an encha...</td>\n",
       "    </tr>\n",
       "    <tr>\n",
       "      <th>21</th>\n",
       "      <td>Grumpier Old Men</td>\n",
       "      <td>A family wedding reignites the ancient feud be...</td>\n",
       "    </tr>\n",
       "    <tr>\n",
       "      <th>25</th>\n",
       "      <td>Waiting to Exhale</td>\n",
       "      <td>Cheated on, mistreated and stepped on, the wom...</td>\n",
       "    </tr>\n",
       "    <tr>\n",
       "      <th>28</th>\n",
       "      <td>Father of the Bride Part II</td>\n",
       "      <td>Just when George Banks has recovered from his ...</td>\n",
       "    </tr>\n",
       "  </tbody>\n",
       "</table>\n",
       "</div>"
      ],
      "text/plain": [
       "                          title  \\\n",
       "0                     Toy Story   \n",
       "3                       Jumanji   \n",
       "21             Grumpier Old Men   \n",
       "25            Waiting to Exhale   \n",
       "28  Father of the Bride Part II   \n",
       "\n",
       "                                             overview  \n",
       "0   Led by Woody, Andy's toys live happily in his ...  \n",
       "3   When siblings Judy and Peter discover an encha...  \n",
       "21  A family wedding reignites the ancient feud be...  \n",
       "25  Cheated on, mistreated and stepped on, the wom...  \n",
       "28  Just when George Banks has recovered from his ...  "
      ]
     },
     "execution_count": 451,
     "metadata": {},
     "output_type": "execute_result"
    }
   ],
   "source": [
    "eval_df = modified_df[[\"title\", \"overview\"]].drop_duplicates()\n",
    "eval_df.head()"
   ]
  },
  {
   "cell_type": "code",
   "execution_count": 452,
   "metadata": {},
   "outputs": [
    {
     "data": {
      "text/plain": [
       "np.int64(904)"
      ]
     },
     "execution_count": 452,
     "metadata": {},
     "output_type": "execute_result"
    }
   ],
   "source": [
    "# Nulos.\n",
    "eval_df[\"overview\"].isna().sum()\n",
    "# Observación: Debemos imputar valores nulos. Los convertimos en un string vacio: \"\"."
   ]
  },
  {
   "cell_type": "code",
   "execution_count": 453,
   "metadata": {},
   "outputs": [
    {
     "name": "stderr",
     "output_type": "stream",
     "text": [
      "C:\\Users\\Une\\AppData\\Local\\Temp\\ipykernel_29360\\1492768369.py:1: FutureWarning: A value is trying to be set on a copy of a DataFrame or Series through chained assignment using an inplace method.\n",
      "The behavior will change in pandas 3.0. This inplace method will never work because the intermediate object on which we are setting values always behaves as a copy.\n",
      "\n",
      "For example, when doing 'df[col].method(value, inplace=True)', try using 'df.method({col: value}, inplace=True)' or df[col] = df[col].method(value) instead, to perform the operation inplace on the original object.\n",
      "\n",
      "\n",
      "  eval_df[\"overview\"].fillna(\"\", inplace=True)\n"
     ]
    }
   ],
   "source": [
    "eval_df[\"overview\"].fillna(\"\", inplace=True)"
   ]
  },
  {
   "cell_type": "code",
   "execution_count": 454,
   "metadata": {},
   "outputs": [],
   "source": [
    "# queremos ver la longitud de estos overviews. Creamos la siguiente función.\n",
    "def count_chars(row):\n",
    "    try:\n",
    "        return len(row[\"overview\"])\n",
    "    except:\n",
    "        return 0\n"
   ]
  },
  {
   "cell_type": "code",
   "execution_count": 455,
   "metadata": {},
   "outputs": [],
   "source": [
    "eval_df[\"overview_char_count\"] = eval_df.apply(count_chars, axis=1)"
   ]
  },
  {
   "cell_type": "code",
   "execution_count": 456,
   "metadata": {},
   "outputs": [
    {
     "data": {
      "text/html": [
       "<div>\n",
       "<style scoped>\n",
       "    .dataframe tbody tr th:only-of-type {\n",
       "        vertical-align: middle;\n",
       "    }\n",
       "\n",
       "    .dataframe tbody tr th {\n",
       "        vertical-align: top;\n",
       "    }\n",
       "\n",
       "    .dataframe thead th {\n",
       "        text-align: right;\n",
       "    }\n",
       "</style>\n",
       "<table border=\"1\" class=\"dataframe\">\n",
       "  <thead>\n",
       "    <tr style=\"text-align: right;\">\n",
       "      <th></th>\n",
       "      <th>title</th>\n",
       "      <th>overview</th>\n",
       "      <th>overview_char_count</th>\n",
       "    </tr>\n",
       "  </thead>\n",
       "  <tbody>\n",
       "    <tr>\n",
       "      <th>0</th>\n",
       "      <td>Toy Story</td>\n",
       "      <td>Led by Woody, Andy's toys live happily in his ...</td>\n",
       "      <td>303</td>\n",
       "    </tr>\n",
       "    <tr>\n",
       "      <th>3</th>\n",
       "      <td>Jumanji</td>\n",
       "      <td>When siblings Judy and Peter discover an encha...</td>\n",
       "      <td>395</td>\n",
       "    </tr>\n",
       "    <tr>\n",
       "      <th>21</th>\n",
       "      <td>Grumpier Old Men</td>\n",
       "      <td>A family wedding reignites the ancient feud be...</td>\n",
       "      <td>327</td>\n",
       "    </tr>\n",
       "    <tr>\n",
       "      <th>25</th>\n",
       "      <td>Waiting to Exhale</td>\n",
       "      <td>Cheated on, mistreated and stepped on, the wom...</td>\n",
       "      <td>270</td>\n",
       "    </tr>\n",
       "    <tr>\n",
       "      <th>28</th>\n",
       "      <td>Father of the Bride Part II</td>\n",
       "      <td>Just when George Banks has recovered from his ...</td>\n",
       "      <td>318</td>\n",
       "    </tr>\n",
       "  </tbody>\n",
       "</table>\n",
       "</div>"
      ],
      "text/plain": [
       "                          title  \\\n",
       "0                     Toy Story   \n",
       "3                       Jumanji   \n",
       "21             Grumpier Old Men   \n",
       "25            Waiting to Exhale   \n",
       "28  Father of the Bride Part II   \n",
       "\n",
       "                                             overview  overview_char_count  \n",
       "0   Led by Woody, Andy's toys live happily in his ...                  303  \n",
       "3   When siblings Judy and Peter discover an encha...                  395  \n",
       "21  A family wedding reignites the ancient feud be...                  327  \n",
       "25  Cheated on, mistreated and stepped on, the wom...                  270  \n",
       "28  Just when George Banks has recovered from his ...                  318  "
      ]
     },
     "execution_count": 456,
     "metadata": {},
     "output_type": "execute_result"
    }
   ],
   "source": [
    "eval_df.head()"
   ]
  },
  {
   "cell_type": "code",
   "execution_count": 457,
   "metadata": {},
   "outputs": [
    {
     "data": {
      "text/html": [
       "<div>\n",
       "<style scoped>\n",
       "    .dataframe tbody tr th:only-of-type {\n",
       "        vertical-align: middle;\n",
       "    }\n",
       "\n",
       "    .dataframe tbody tr th {\n",
       "        vertical-align: top;\n",
       "    }\n",
       "\n",
       "    .dataframe thead th {\n",
       "        text-align: right;\n",
       "    }\n",
       "</style>\n",
       "<table border=\"1\" class=\"dataframe\">\n",
       "  <thead>\n",
       "    <tr style=\"text-align: right;\">\n",
       "      <th></th>\n",
       "      <th>overview_char_count</th>\n",
       "    </tr>\n",
       "  </thead>\n",
       "  <tbody>\n",
       "    <tr>\n",
       "      <th>count</th>\n",
       "      <td>44895.000000</td>\n",
       "    </tr>\n",
       "    <tr>\n",
       "      <th>mean</th>\n",
       "      <td>316.540929</td>\n",
       "    </tr>\n",
       "    <tr>\n",
       "      <th>std</th>\n",
       "      <td>207.455079</td>\n",
       "    </tr>\n",
       "    <tr>\n",
       "      <th>min</th>\n",
       "      <td>0.000000</td>\n",
       "    </tr>\n",
       "    <tr>\n",
       "      <th>25%</th>\n",
       "      <td>153.000000</td>\n",
       "    </tr>\n",
       "    <tr>\n",
       "      <th>50%</th>\n",
       "      <td>276.000000</td>\n",
       "    </tr>\n",
       "    <tr>\n",
       "      <th>75%</th>\n",
       "      <td>425.000000</td>\n",
       "    </tr>\n",
       "    <tr>\n",
       "      <th>max</th>\n",
       "      <td>1000.000000</td>\n",
       "    </tr>\n",
       "  </tbody>\n",
       "</table>\n",
       "</div>"
      ],
      "text/plain": [
       "       overview_char_count\n",
       "count         44895.000000\n",
       "mean            316.540929\n",
       "std             207.455079\n",
       "min               0.000000\n",
       "25%             153.000000\n",
       "50%             276.000000\n",
       "75%             425.000000\n",
       "max            1000.000000"
      ]
     },
     "execution_count": 457,
     "metadata": {},
     "output_type": "execute_result"
    }
   ],
   "source": [
    "#los datos parecen aceptables. un minimo de 0 , maximo de 1000. media de 276.\n",
    "eval_df.describe()"
   ]
  },
  {
   "cell_type": "markdown",
   "metadata": {},
   "source": [
    "¿Qué hacemos con esta columna?\n",
    "\n",
    "Queremos hacer un tratamiento de datos de tipo texto que nos permita reducir el tamaño y facilitar el trabajo de nuestro algoritmo.\n",
    "\n",
    "Vamos a realizar:\n",
    "\n",
    "- Convertir a minúsculas\n",
    "- Eliminar caracteres especiales\n",
    "- Eliminar stopwords\n",
    "- Lematización\n"
   ]
  },
  {
   "cell_type": "markdown",
   "metadata": {},
   "source": [
    "#### Convertir a minúsculas"
   ]
  },
  {
   "cell_type": "code",
   "execution_count": 458,
   "metadata": {},
   "outputs": [
    {
     "data": {
      "text/html": [
       "<div>\n",
       "<style scoped>\n",
       "    .dataframe tbody tr th:only-of-type {\n",
       "        vertical-align: middle;\n",
       "    }\n",
       "\n",
       "    .dataframe tbody tr th {\n",
       "        vertical-align: top;\n",
       "    }\n",
       "\n",
       "    .dataframe thead th {\n",
       "        text-align: right;\n",
       "    }\n",
       "</style>\n",
       "<table border=\"1\" class=\"dataframe\">\n",
       "  <thead>\n",
       "    <tr style=\"text-align: right;\">\n",
       "      <th></th>\n",
       "      <th>title</th>\n",
       "      <th>overview</th>\n",
       "      <th>overview_char_count</th>\n",
       "    </tr>\n",
       "  </thead>\n",
       "  <tbody>\n",
       "    <tr>\n",
       "      <th>0</th>\n",
       "      <td>Toy Story</td>\n",
       "      <td>led by woody, andy's toys live happily in his ...</td>\n",
       "      <td>303</td>\n",
       "    </tr>\n",
       "    <tr>\n",
       "      <th>3</th>\n",
       "      <td>Jumanji</td>\n",
       "      <td>when siblings judy and peter discover an encha...</td>\n",
       "      <td>395</td>\n",
       "    </tr>\n",
       "    <tr>\n",
       "      <th>21</th>\n",
       "      <td>Grumpier Old Men</td>\n",
       "      <td>a family wedding reignites the ancient feud be...</td>\n",
       "      <td>327</td>\n",
       "    </tr>\n",
       "    <tr>\n",
       "      <th>25</th>\n",
       "      <td>Waiting to Exhale</td>\n",
       "      <td>cheated on, mistreated and stepped on, the wom...</td>\n",
       "      <td>270</td>\n",
       "    </tr>\n",
       "    <tr>\n",
       "      <th>28</th>\n",
       "      <td>Father of the Bride Part II</td>\n",
       "      <td>just when george banks has recovered from his ...</td>\n",
       "      <td>318</td>\n",
       "    </tr>\n",
       "  </tbody>\n",
       "</table>\n",
       "</div>"
      ],
      "text/plain": [
       "                          title  \\\n",
       "0                     Toy Story   \n",
       "3                       Jumanji   \n",
       "21             Grumpier Old Men   \n",
       "25            Waiting to Exhale   \n",
       "28  Father of the Bride Part II   \n",
       "\n",
       "                                             overview  overview_char_count  \n",
       "0   led by woody, andy's toys live happily in his ...                  303  \n",
       "3   when siblings judy and peter discover an encha...                  395  \n",
       "21  a family wedding reignites the ancient feud be...                  327  \n",
       "25  cheated on, mistreated and stepped on, the wom...                  270  \n",
       "28  just when george banks has recovered from his ...                  318  "
      ]
     },
     "execution_count": 458,
     "metadata": {},
     "output_type": "execute_result"
    }
   ],
   "source": [
    "#Hacemos uso de los métodos de pandas str.lower.\n",
    "eval_df[\"overview\"]=eval_df[\"overview\"].str.lower()\n",
    "eval_df.head()"
   ]
  },
  {
   "cell_type": "markdown",
   "metadata": {},
   "source": [
    "#### Eliminar caracteres especiales"
   ]
  },
  {
   "cell_type": "code",
   "execution_count": 459,
   "metadata": {},
   "outputs": [
    {
     "data": {
      "text/html": [
       "<div>\n",
       "<style scoped>\n",
       "    .dataframe tbody tr th:only-of-type {\n",
       "        vertical-align: middle;\n",
       "    }\n",
       "\n",
       "    .dataframe tbody tr th {\n",
       "        vertical-align: top;\n",
       "    }\n",
       "\n",
       "    .dataframe thead th {\n",
       "        text-align: right;\n",
       "    }\n",
       "</style>\n",
       "<table border=\"1\" class=\"dataframe\">\n",
       "  <thead>\n",
       "    <tr style=\"text-align: right;\">\n",
       "      <th></th>\n",
       "      <th>title</th>\n",
       "      <th>overview</th>\n",
       "      <th>overview_char_count</th>\n",
       "    </tr>\n",
       "  </thead>\n",
       "  <tbody>\n",
       "    <tr>\n",
       "      <th>0</th>\n",
       "      <td>Toy Story</td>\n",
       "      <td>led by woody andys toys live happily in his ro...</td>\n",
       "      <td>303</td>\n",
       "    </tr>\n",
       "    <tr>\n",
       "      <th>3</th>\n",
       "      <td>Jumanji</td>\n",
       "      <td>when siblings judy and peter discover an encha...</td>\n",
       "      <td>395</td>\n",
       "    </tr>\n",
       "    <tr>\n",
       "      <th>21</th>\n",
       "      <td>Grumpier Old Men</td>\n",
       "      <td>a family wedding reignites the ancient feud be...</td>\n",
       "      <td>327</td>\n",
       "    </tr>\n",
       "    <tr>\n",
       "      <th>25</th>\n",
       "      <td>Waiting to Exhale</td>\n",
       "      <td>cheated on mistreated and stepped on the women...</td>\n",
       "      <td>270</td>\n",
       "    </tr>\n",
       "    <tr>\n",
       "      <th>28</th>\n",
       "      <td>Father of the Bride Part II</td>\n",
       "      <td>just when george banks has recovered from his ...</td>\n",
       "      <td>318</td>\n",
       "    </tr>\n",
       "  </tbody>\n",
       "</table>\n",
       "</div>"
      ],
      "text/plain": [
       "                          title  \\\n",
       "0                     Toy Story   \n",
       "3                       Jumanji   \n",
       "21             Grumpier Old Men   \n",
       "25            Waiting to Exhale   \n",
       "28  Father of the Bride Part II   \n",
       "\n",
       "                                             overview  overview_char_count  \n",
       "0   led by woody andys toys live happily in his ro...                  303  \n",
       "3   when siblings judy and peter discover an encha...                  395  \n",
       "21  a family wedding reignites the ancient feud be...                  327  \n",
       "25  cheated on mistreated and stepped on the women...                  270  \n",
       "28  just when george banks has recovered from his ...                  318  "
      ]
     },
     "execution_count": 459,
     "metadata": {},
     "output_type": "execute_result"
    }
   ],
   "source": [
    "#usamos REGEX y str.replace para eliminar caracteres especiales\n",
    "eval_df[\"overview\"] = eval_df[\"overview\"].str.replace(r'[^a-zA-Z0-9\\s]', '', regex=True)\n",
    "eval_df.head()"
   ]
  },
  {
   "cell_type": "markdown",
   "metadata": {},
   "source": [
    "#### Eliminar STOPWORDS y LEMATIZACION\n",
    "Para este caso vamos a hacer uso de la libreria SpaCy"
   ]
  },
  {
   "cell_type": "code",
   "execution_count": 460,
   "metadata": {},
   "outputs": [],
   "source": [
    "#importamos.\n",
    "import spacy\n",
    "nlp = spacy.load(\"en_core_web_sm\")"
   ]
  },
  {
   "cell_type": "code",
   "execution_count": 461,
   "metadata": {},
   "outputs": [
    {
     "data": {
      "text/plain": [
       "spacy.tokens.doc.Doc"
      ]
     },
     "execution_count": 461,
     "metadata": {},
     "output_type": "execute_result"
    }
   ],
   "source": [
    "#creamos un objeto tokenizado de spacy\n",
    "text_example = eval_df.loc[0][\"overview\"]\n",
    "doc = nlp(text_example)\n",
    "type(doc)"
   ]
  },
  {
   "cell_type": "code",
   "execution_count": 462,
   "metadata": {},
   "outputs": [
    {
     "name": "stdout",
     "output_type": "stream",
     "text": [
      "False\n",
      "True\n",
      "False\n",
      "False\n",
      "False\n",
      "False\n",
      "False\n",
      "True\n",
      "True\n",
      "False\n",
      "True\n",
      "False\n",
      "False\n",
      "False\n",
      "False\n",
      "False\n",
      "True\n",
      "True\n",
      "False\n",
      "False\n",
      "True\n",
      "False\n",
      "True\n",
      "False\n",
      "True\n",
      "False\n",
      "False\n",
      "False\n",
      "False\n",
      "True\n",
      "False\n",
      "True\n",
      "True\n",
      "False\n",
      "False\n",
      "False\n",
      "True\n",
      "False\n",
      "True\n",
      "True\n",
      "False\n",
      "True\n",
      "False\n",
      "False\n",
      "False\n",
      "True\n",
      "True\n",
      "False\n",
      "True\n",
      "False\n"
     ]
    }
   ],
   "source": [
    "# podemos visualizar los tokens que son stopwords:\n",
    "for token in doc:\n",
    "    print(token.is_stop)"
   ]
  },
  {
   "cell_type": "code",
   "execution_count": 463,
   "metadata": {},
   "outputs": [
    {
     "data": {
      "text/plain": [
       "'lead woody andys toy live happily room andys birthday bring buzz lightyear scene afraid lose place andys heart woody plot buzz circumstance separate buzz woody owner duo eventually learn aside difference'"
      ]
     },
     "execution_count": 463,
     "metadata": {},
     "output_type": "execute_result"
    }
   ],
   "source": [
    "# de esta manera podemos remover stop words y aplicamos lemmatización.\n",
    "non_stopword_text = [token.lemma_ for token in doc if not token.is_stop]\n",
    "\" \".join(non_stopword_text)"
   ]
  },
  {
   "cell_type": "code",
   "execution_count": 464,
   "metadata": {},
   "outputs": [
    {
     "name": "stdout",
     "output_type": "stream",
     "text": [
      "['lead', 'woody', 'andys', 'toy', 'live', 'happily', 'room', 'andys', 'birthday', 'bring', 'buzz', 'lightyear', 'scene', 'afraid', 'lose', 'place', 'andys', 'heart', 'woody', 'plot', 'buzz', 'circumstance', 'separate', 'buzz', 'woody', 'owner', 'duo', 'eventually', 'learn', 'aside', 'difference']\n",
      "31\n"
     ]
    }
   ],
   "source": [
    "#visualizamos la lista de palabras.\n",
    "print(non_stopword_text)\n",
    "print(len(non_stopword_text))"
   ]
  },
  {
   "cell_type": "code",
   "execution_count": 465,
   "metadata": {},
   "outputs": [],
   "source": [
    "# Creamos una funcion que aplicaremos al dataset completo, fila por fila.\n",
    "def lenma_and_remove_stopwords(text):\n",
    "    if isinstance(text, str):\n",
    "        doc = nlp(text)\n",
    "        clean_word_list = [token.lemma_ for token in doc if not token.is_stop]\n",
    "    #clean_text = \" \".join(clean_word_list)\n",
    "        return clean_word_list\n",
    "    else:\n",
    "        return list()\n"
   ]
  },
  {
   "cell_type": "code",
   "execution_count": 466,
   "metadata": {},
   "outputs": [
    {
     "data": {
      "text/plain": [
       "0        [lead, woody, andys, toy, live, happily, room,...\n",
       "3        [sibling, judy, peter, discover, enchanted, bo...\n",
       "21       [family, wedding, reignite, ancient, feud, nex...\n",
       "25       [cheat, mistreat, step, woman, hold, breath, w...\n",
       "28       [george, bank, recover, daughter, wed, receive...\n",
       "                               ...                        \n",
       "11325    [pete, young, orphan, run, away, maine, fishin...\n",
       "11329    [child, evacuate, london, world, war, ii, forc...\n",
       "11335    [golden, afternoon, young, alice, follow, whit...\n",
       "11343    [feisty, little, fox, name, tod, adopt, farm, ...\n",
       "11347    [follow, arrest, mother, ramona, young, vaness...\n",
       "Name: overview, Length: 1000, dtype: object"
      ]
     },
     "execution_count": 466,
     "metadata": {},
     "output_type": "execute_result"
    }
   ],
   "source": [
    "#probamos en nuestro dataset de prueba. Nos interesa validar cuanto tiempo demora el proceso tmbn.\n",
    "eval_df[\"overview\"].head(1000).apply(lenma_and_remove_stopwords)\n",
    "# nos toma 8 segundos para 1000 filas.\n",
    "# es posible nos tome alrededor de 6 minutos para todo el dataset."
   ]
  },
  {
   "cell_type": "code",
   "execution_count": 467,
   "metadata": {},
   "outputs": [
    {
     "data": {
      "text/plain": [
       "0         [lead, woody, andys, toy, live, happily, room,...\n",
       "3         [sibling, judy, peter, discover, enchanted, bo...\n",
       "21        [family, wedding, reignite, ancient, feud, nex...\n",
       "25        [cheat, mistreat, step, woman, hold, breath, w...\n",
       "28        [george, bank, recover, daughter, wed, receive...\n",
       "                                ...                        \n",
       "416907    [version, classic, epic, variation, interestin...\n",
       "416955    [artist, struggle, finish, work, storyline, cu...\n",
       "416956    [hit, go, wrong, professional, assassin, end, ...\n",
       "416959    [small, town, live, brother, minister, hunchba...\n",
       "416960    [50, year, decriminalisation, homosexuality, u...\n",
       "Name: overview, Length: 44895, dtype: object"
      ]
     },
     "execution_count": 467,
     "metadata": {},
     "output_type": "execute_result"
    }
   ],
   "source": [
    "eval_df[\"overview\"].apply(lenma_and_remove_stopwords)\n",
    "# efectivamente tomo 6 minutos.\n",
    "# aplicaremos este tratamiento al final"
   ]
  },
  {
   "cell_type": "markdown",
   "metadata": {},
   "source": [
    "### Columna Tagline"
   ]
  },
  {
   "cell_type": "code",
   "execution_count": 468,
   "metadata": {},
   "outputs": [],
   "source": [
    "eval_df = modified_df[[\"title\", \"tagline\"]].drop_duplicates()"
   ]
  },
  {
   "cell_type": "code",
   "execution_count": 469,
   "metadata": {},
   "outputs": [
    {
     "name": "stdout",
     "output_type": "stream",
     "text": [
      "<class 'pandas.core.frame.DataFrame'>\n",
      "Index: 44016 entries, 0 to 416960\n",
      "Data columns (total 2 columns):\n",
      " #   Column   Non-Null Count  Dtype \n",
      "---  ------   --------------  ----- \n",
      " 0   title    44016 non-null  object\n",
      " 1   tagline  20272 non-null  object\n",
      "dtypes: object(2)\n",
      "memory usage: 1.0+ MB\n"
     ]
    }
   ],
   "source": [
    "# Observamos que alrededor de la mitad de valores son nulos. \n",
    "eval_df.info()"
   ]
  },
  {
   "cell_type": "code",
   "execution_count": 470,
   "metadata": {},
   "outputs": [],
   "source": [
    "# para este caso en particular, y con la finaldiad de reducir el tamaño del dataset, optaremos por eliminar esta columna\n",
    "modified_df.drop(columns=\"tagline\", inplace=True)"
   ]
  },
  {
   "cell_type": "markdown",
   "metadata": {},
   "source": [
    "### Release Date"
   ]
  },
  {
   "cell_type": "code",
   "execution_count": 471,
   "metadata": {},
   "outputs": [],
   "source": [
    "#Esta columna será removida, ya que contamos con el dato release_year que se usará para el análisis.\n",
    "modified_df.drop(columns=\"release_date\", inplace=True)"
   ]
  },
  {
   "cell_type": "markdown",
   "metadata": {},
   "source": [
    "### Collection name"
   ]
  },
  {
   "cell_type": "code",
   "execution_count": 472,
   "metadata": {},
   "outputs": [],
   "source": [
    "eval_df = modified_df[[\"title\", \"collection.name\"]].drop_duplicates()"
   ]
  },
  {
   "cell_type": "code",
   "execution_count": 473,
   "metadata": {},
   "outputs": [
    {
     "data": {
      "text/plain": [
       "title                  0\n",
       "collection.name    37622\n",
       "dtype: int64"
      ]
     },
     "execution_count": 473,
     "metadata": {},
     "output_type": "execute_result"
    }
   ],
   "source": [
    "# observamos una gran cantidad de valores nulos.\n",
    "eval_df.isnull().sum()"
   ]
  },
  {
   "cell_type": "code",
   "execution_count": 474,
   "metadata": {},
   "outputs": [
    {
     "data": {
      "text/html": [
       "<div>\n",
       "<style scoped>\n",
       "    .dataframe tbody tr th:only-of-type {\n",
       "        vertical-align: middle;\n",
       "    }\n",
       "\n",
       "    .dataframe tbody tr th {\n",
       "        vertical-align: top;\n",
       "    }\n",
       "\n",
       "    .dataframe thead th {\n",
       "        text-align: right;\n",
       "    }\n",
       "</style>\n",
       "<table border=\"1\" class=\"dataframe\">\n",
       "  <thead>\n",
       "    <tr style=\"text-align: right;\">\n",
       "      <th></th>\n",
       "      <th>title</th>\n",
       "      <th>collection.name</th>\n",
       "    </tr>\n",
       "  </thead>\n",
       "  <tbody>\n",
       "    <tr>\n",
       "      <th>0</th>\n",
       "      <td>Toy Story</td>\n",
       "      <td>Toy Story Collection</td>\n",
       "    </tr>\n",
       "    <tr>\n",
       "      <th>21</th>\n",
       "      <td>Grumpier Old Men</td>\n",
       "      <td>Grumpy Old Men Collection</td>\n",
       "    </tr>\n",
       "    <tr>\n",
       "      <th>28</th>\n",
       "      <td>Father of the Bride Part II</td>\n",
       "      <td>Father of the Bride Collection</td>\n",
       "    </tr>\n",
       "    <tr>\n",
       "      <th>127</th>\n",
       "      <td>GoldenEye</td>\n",
       "      <td>James Bond Collection</td>\n",
       "    </tr>\n",
       "    <tr>\n",
       "      <th>193</th>\n",
       "      <td>Balto</td>\n",
       "      <td>Balto Collection</td>\n",
       "    </tr>\n",
       "    <tr>\n",
       "      <th>...</th>\n",
       "      <td>...</td>\n",
       "      <td>...</td>\n",
       "    </tr>\n",
       "    <tr>\n",
       "      <th>416544</th>\n",
       "      <td>Carry On Follow That Camel</td>\n",
       "      <td>The Carry On Collection</td>\n",
       "    </tr>\n",
       "    <tr>\n",
       "      <th>416554</th>\n",
       "      <td>Carry On Camping</td>\n",
       "      <td>The Carry On Collection</td>\n",
       "    </tr>\n",
       "    <tr>\n",
       "      <th>416576</th>\n",
       "      <td>Carry On England</td>\n",
       "      <td>The Carry On Collection</td>\n",
       "    </tr>\n",
       "    <tr>\n",
       "      <th>416578</th>\n",
       "      <td>LEGO DC Super Hero Girls: Brain Drain</td>\n",
       "      <td>DC Super Hero Girls Collection</td>\n",
       "    </tr>\n",
       "    <tr>\n",
       "      <th>416617</th>\n",
       "      <td>The Twin Swords</td>\n",
       "      <td>Red Lotus Collection</td>\n",
       "    </tr>\n",
       "  </tbody>\n",
       "</table>\n",
       "<p>4444 rows × 2 columns</p>\n",
       "</div>"
      ],
      "text/plain": [
       "                                        title                 collection.name\n",
       "0                                   Toy Story            Toy Story Collection\n",
       "21                           Grumpier Old Men       Grumpy Old Men Collection\n",
       "28                Father of the Bride Part II  Father of the Bride Collection\n",
       "127                                 GoldenEye           James Bond Collection\n",
       "193                                     Balto                Balto Collection\n",
       "...                                       ...                             ...\n",
       "416544             Carry On Follow That Camel         The Carry On Collection\n",
       "416554                       Carry On Camping         The Carry On Collection\n",
       "416576                       Carry On England         The Carry On Collection\n",
       "416578  LEGO DC Super Hero Girls: Brain Drain  DC Super Hero Girls Collection\n",
       "416617                        The Twin Swords            Red Lotus Collection\n",
       "\n",
       "[4444 rows x 2 columns]"
      ]
     },
     "execution_count": 474,
     "metadata": {},
     "output_type": "execute_result"
    }
   ],
   "source": [
    "#visualizamos los datos en comparacion con el titulo. Vemos que muchas peliculas, comparten nombres similares con sus collection name.\n",
    "eval_df[eval_df[\"collection.name\"].notnull()]"
   ]
  },
  {
   "cell_type": "code",
   "execution_count": 475,
   "metadata": {},
   "outputs": [
    {
     "data": {
      "text/html": [
       "<div>\n",
       "<style scoped>\n",
       "    .dataframe tbody tr th:only-of-type {\n",
       "        vertical-align: middle;\n",
       "    }\n",
       "\n",
       "    .dataframe tbody tr th {\n",
       "        vertical-align: top;\n",
       "    }\n",
       "\n",
       "    .dataframe thead th {\n",
       "        text-align: right;\n",
       "    }\n",
       "</style>\n",
       "<table border=\"1\" class=\"dataframe\">\n",
       "  <thead>\n",
       "    <tr style=\"text-align: right;\">\n",
       "      <th></th>\n",
       "      <th>title</th>\n",
       "      <th>collection.name</th>\n",
       "      <th>concat_title_collection</th>\n",
       "    </tr>\n",
       "  </thead>\n",
       "  <tbody>\n",
       "    <tr>\n",
       "      <th>0</th>\n",
       "      <td>Toy Story</td>\n",
       "      <td>Toy Story Collection</td>\n",
       "      <td>Toy Story Toy Story Collection</td>\n",
       "    </tr>\n",
       "    <tr>\n",
       "      <th>3</th>\n",
       "      <td>Jumanji</td>\n",
       "      <td>NaN</td>\n",
       "      <td>Jumanji</td>\n",
       "    </tr>\n",
       "    <tr>\n",
       "      <th>21</th>\n",
       "      <td>Grumpier Old Men</td>\n",
       "      <td>Grumpy Old Men Collection</td>\n",
       "      <td>Grumpier Old Men Grumpy Old Men Collection</td>\n",
       "    </tr>\n",
       "    <tr>\n",
       "      <th>25</th>\n",
       "      <td>Waiting to Exhale</td>\n",
       "      <td>NaN</td>\n",
       "      <td>Waiting to Exhale</td>\n",
       "    </tr>\n",
       "    <tr>\n",
       "      <th>28</th>\n",
       "      <td>Father of the Bride Part II</td>\n",
       "      <td>Father of the Bride Collection</td>\n",
       "      <td>Father of the Bride Part II Father of the Brid...</td>\n",
       "    </tr>\n",
       "  </tbody>\n",
       "</table>\n",
       "</div>"
      ],
      "text/plain": [
       "                          title                 collection.name  \\\n",
       "0                     Toy Story            Toy Story Collection   \n",
       "3                       Jumanji                             NaN   \n",
       "21             Grumpier Old Men       Grumpy Old Men Collection   \n",
       "25            Waiting to Exhale                             NaN   \n",
       "28  Father of the Bride Part II  Father of the Bride Collection   \n",
       "\n",
       "                              concat_title_collection  \n",
       "0                      Toy Story Toy Story Collection  \n",
       "3                                            Jumanji   \n",
       "21         Grumpier Old Men Grumpy Old Men Collection  \n",
       "25                                 Waiting to Exhale   \n",
       "28  Father of the Bride Part II Father of the Brid...  "
      ]
     },
     "execution_count": 475,
     "metadata": {},
     "output_type": "execute_result"
    }
   ],
   "source": [
    "# Optamos por unir las columnas titles y collection name. Posteriormente aplicaremos también nuestra funcion para tokenizar y reducir el tamaño de esta columna.\n",
    "eval_df[\"concat_title_collection\"] = eval_df[\"title\"] + \" \" + eval_df[\"collection.name\"].fillna(\"\")\n",
    "eval_df.head(5)"
   ]
  },
  {
   "cell_type": "code",
   "execution_count": 476,
   "metadata": {},
   "outputs": [
    {
     "data": {
      "text/html": [
       "<div>\n",
       "<style scoped>\n",
       "    .dataframe tbody tr th:only-of-type {\n",
       "        vertical-align: middle;\n",
       "    }\n",
       "\n",
       "    .dataframe tbody tr th {\n",
       "        vertical-align: top;\n",
       "    }\n",
       "\n",
       "    .dataframe thead th {\n",
       "        text-align: right;\n",
       "    }\n",
       "</style>\n",
       "<table border=\"1\" class=\"dataframe\">\n",
       "  <thead>\n",
       "    <tr style=\"text-align: right;\">\n",
       "      <th></th>\n",
       "      <th>id</th>\n",
       "      <th>original_language</th>\n",
       "      <th>overview</th>\n",
       "      <th>release_year</th>\n",
       "      <th>vote_average</th>\n",
       "      <th>genres.name</th>\n",
       "      <th>production_companies.name</th>\n",
       "      <th>production_countries.iso_3166_1</th>\n",
       "      <th>spoken_languages.iso_639_1</th>\n",
       "      <th>popularity_log</th>\n",
       "      <th>vote_count_log</th>\n",
       "      <th>title_collection</th>\n",
       "    </tr>\n",
       "  </thead>\n",
       "  <tbody>\n",
       "    <tr>\n",
       "      <th>0</th>\n",
       "      <td>862</td>\n",
       "      <td>en</td>\n",
       "      <td>Led by Woody, Andy's toys live happily in his ...</td>\n",
       "      <td>1995</td>\n",
       "      <td>7.7</td>\n",
       "      <td>Animation</td>\n",
       "      <td>Pixar Animation Studios</td>\n",
       "      <td>US</td>\n",
       "      <td>en</td>\n",
       "      <td>3.133185</td>\n",
       "      <td>8.597113</td>\n",
       "      <td>Toy Story Toy Story Collection</td>\n",
       "    </tr>\n",
       "    <tr>\n",
       "      <th>1</th>\n",
       "      <td>862</td>\n",
       "      <td>en</td>\n",
       "      <td>Led by Woody, Andy's toys live happily in his ...</td>\n",
       "      <td>1995</td>\n",
       "      <td>7.7</td>\n",
       "      <td>Comedy</td>\n",
       "      <td>Pixar Animation Studios</td>\n",
       "      <td>US</td>\n",
       "      <td>en</td>\n",
       "      <td>3.133185</td>\n",
       "      <td>8.597113</td>\n",
       "      <td>Toy Story Toy Story Collection</td>\n",
       "    </tr>\n",
       "    <tr>\n",
       "      <th>2</th>\n",
       "      <td>862</td>\n",
       "      <td>en</td>\n",
       "      <td>Led by Woody, Andy's toys live happily in his ...</td>\n",
       "      <td>1995</td>\n",
       "      <td>7.7</td>\n",
       "      <td>Family</td>\n",
       "      <td>Pixar Animation Studios</td>\n",
       "      <td>US</td>\n",
       "      <td>en</td>\n",
       "      <td>3.133185</td>\n",
       "      <td>8.597113</td>\n",
       "      <td>Toy Story Toy Story Collection</td>\n",
       "    </tr>\n",
       "    <tr>\n",
       "      <th>3</th>\n",
       "      <td>8844</td>\n",
       "      <td>en</td>\n",
       "      <td>When siblings Judy and Peter discover an encha...</td>\n",
       "      <td>1995</td>\n",
       "      <td>6.9</td>\n",
       "      <td>Adventure</td>\n",
       "      <td>TriStar Pictures</td>\n",
       "      <td>US</td>\n",
       "      <td>en</td>\n",
       "      <td>2.891235</td>\n",
       "      <td>7.789040</td>\n",
       "      <td>Jumanji</td>\n",
       "    </tr>\n",
       "    <tr>\n",
       "      <th>4</th>\n",
       "      <td>8844</td>\n",
       "      <td>en</td>\n",
       "      <td>When siblings Judy and Peter discover an encha...</td>\n",
       "      <td>1995</td>\n",
       "      <td>6.9</td>\n",
       "      <td>Adventure</td>\n",
       "      <td>TriStar Pictures</td>\n",
       "      <td>US</td>\n",
       "      <td>fr</td>\n",
       "      <td>2.891235</td>\n",
       "      <td>7.789040</td>\n",
       "      <td>Jumanji</td>\n",
       "    </tr>\n",
       "  </tbody>\n",
       "</table>\n",
       "</div>"
      ],
      "text/plain": [
       "     id original_language                                           overview  \\\n",
       "0   862                en  Led by Woody, Andy's toys live happily in his ...   \n",
       "1   862                en  Led by Woody, Andy's toys live happily in his ...   \n",
       "2   862                en  Led by Woody, Andy's toys live happily in his ...   \n",
       "3  8844                en  When siblings Judy and Peter discover an encha...   \n",
       "4  8844                en  When siblings Judy and Peter discover an encha...   \n",
       "\n",
       "   release_year  vote_average genres.name production_companies.name  \\\n",
       "0          1995           7.7   Animation   Pixar Animation Studios   \n",
       "1          1995           7.7      Comedy   Pixar Animation Studios   \n",
       "2          1995           7.7      Family   Pixar Animation Studios   \n",
       "3          1995           6.9   Adventure          TriStar Pictures   \n",
       "4          1995           6.9   Adventure          TriStar Pictures   \n",
       "\n",
       "  production_countries.iso_3166_1 spoken_languages.iso_639_1  popularity_log  \\\n",
       "0                              US                         en        3.133185   \n",
       "1                              US                         en        3.133185   \n",
       "2                              US                         en        3.133185   \n",
       "3                              US                         en        2.891235   \n",
       "4                              US                         fr        2.891235   \n",
       "\n",
       "   vote_count_log                title_collection  \n",
       "0        8.597113  Toy Story Toy Story Collection  \n",
       "1        8.597113  Toy Story Toy Story Collection  \n",
       "2        8.597113  Toy Story Toy Story Collection  \n",
       "3        7.789040                        Jumanji   \n",
       "4        7.789040                        Jumanji   "
      ]
     },
     "execution_count": 476,
     "metadata": {},
     "output_type": "execute_result"
    }
   ],
   "source": [
    "# Aplicamos a nuestro dataset\n",
    "modified_df[\"title_collection\"]= modified_df[\"title\"] + \" \" + modified_df[\"collection.name\"].fillna(\"\")\n",
    "# dropeamos las columnas no necesarias\n",
    "modified_df.drop(columns=[\"title\", \"collection.name\"], inplace=True)\n",
    "modified_df.head()"
   ]
  },
  {
   "cell_type": "markdown",
   "metadata": {},
   "source": [
    "### Columnas. Genres, Production_companies, Production_countries, Spoken_languages.\n",
    "Estas columnas se encontraban previamente anidadas. Vamos a revisar las columnas y posteriormente resumiarlas en sets."
   ]
  },
  {
   "cell_type": "code",
   "execution_count": 477,
   "metadata": {},
   "outputs": [
    {
     "name": "stdout",
     "output_type": "stream",
     "text": [
      "(416961, 5)\n"
     ]
    },
    {
     "data": {
      "text/html": [
       "<div>\n",
       "<style scoped>\n",
       "    .dataframe tbody tr th:only-of-type {\n",
       "        vertical-align: middle;\n",
       "    }\n",
       "\n",
       "    .dataframe tbody tr th {\n",
       "        vertical-align: top;\n",
       "    }\n",
       "\n",
       "    .dataframe thead th {\n",
       "        text-align: right;\n",
       "    }\n",
       "</style>\n",
       "<table border=\"1\" class=\"dataframe\">\n",
       "  <thead>\n",
       "    <tr style=\"text-align: right;\">\n",
       "      <th></th>\n",
       "      <th>id</th>\n",
       "      <th>genres.name</th>\n",
       "      <th>production_companies.name</th>\n",
       "      <th>production_countries.iso_3166_1</th>\n",
       "      <th>spoken_languages.iso_639_1</th>\n",
       "    </tr>\n",
       "  </thead>\n",
       "  <tbody>\n",
       "    <tr>\n",
       "      <th>0</th>\n",
       "      <td>862</td>\n",
       "      <td>Animation</td>\n",
       "      <td>Pixar Animation Studios</td>\n",
       "      <td>US</td>\n",
       "      <td>en</td>\n",
       "    </tr>\n",
       "    <tr>\n",
       "      <th>1</th>\n",
       "      <td>862</td>\n",
       "      <td>Comedy</td>\n",
       "      <td>Pixar Animation Studios</td>\n",
       "      <td>US</td>\n",
       "      <td>en</td>\n",
       "    </tr>\n",
       "    <tr>\n",
       "      <th>2</th>\n",
       "      <td>862</td>\n",
       "      <td>Family</td>\n",
       "      <td>Pixar Animation Studios</td>\n",
       "      <td>US</td>\n",
       "      <td>en</td>\n",
       "    </tr>\n",
       "    <tr>\n",
       "      <th>3</th>\n",
       "      <td>8844</td>\n",
       "      <td>Adventure</td>\n",
       "      <td>TriStar Pictures</td>\n",
       "      <td>US</td>\n",
       "      <td>en</td>\n",
       "    </tr>\n",
       "    <tr>\n",
       "      <th>4</th>\n",
       "      <td>8844</td>\n",
       "      <td>Adventure</td>\n",
       "      <td>TriStar Pictures</td>\n",
       "      <td>US</td>\n",
       "      <td>fr</td>\n",
       "    </tr>\n",
       "  </tbody>\n",
       "</table>\n",
       "</div>"
      ],
      "text/plain": [
       "     id genres.name production_companies.name production_countries.iso_3166_1  \\\n",
       "0   862   Animation   Pixar Animation Studios                              US   \n",
       "1   862      Comedy   Pixar Animation Studios                              US   \n",
       "2   862      Family   Pixar Animation Studios                              US   \n",
       "3  8844   Adventure          TriStar Pictures                              US   \n",
       "4  8844   Adventure          TriStar Pictures                              US   \n",
       "\n",
       "  spoken_languages.iso_639_1  \n",
       "0                         en  \n",
       "1                         en  \n",
       "2                         en  \n",
       "3                         en  \n",
       "4                         fr  "
      ]
     },
     "execution_count": 477,
     "metadata": {},
     "output_type": "execute_result"
    }
   ],
   "source": [
    "# cargamos el dataset.\n",
    "eval_df = modified_df[[\"id\", \"genres.name\", \"production_companies.name\", \"production_countries.iso_3166_1\", 'spoken_languages.iso_639_1' ]]\n",
    "\n",
    "print(eval_df.shape)\n",
    "eval_df.head()"
   ]
  },
  {
   "cell_type": "markdown",
   "metadata": {},
   "source": [
    "#### Generos"
   ]
  },
  {
   "cell_type": "code",
   "execution_count": 478,
   "metadata": {},
   "outputs": [
    {
     "data": {
      "text/plain": [
       "array(['Animation', 'Comedy', 'Family', 'Adventure', 'Fantasy', 'Romance',\n",
       "       'Drama', 'Action', 'Crime', 'Thriller', 'Horror', 'History',\n",
       "       'Science Fiction', 'Mystery', 'War', 'Foreign', nan, 'Music',\n",
       "       'Documentary', 'Western', 'TV Movie'], dtype=object)"
      ]
     },
     "execution_count": 478,
     "metadata": {},
     "output_type": "execute_result"
    }
   ],
   "source": [
    "#vemos valores nulos. Imputamos con un valor desconocido: \"Unknown\"\n",
    "eval_df[\"genres.name\"].unique()"
   ]
  },
  {
   "cell_type": "code",
   "execution_count": 479,
   "metadata": {},
   "outputs": [
    {
     "data": {
      "text/plain": [
       "0         Animation\n",
       "1            Comedy\n",
       "2            Family\n",
       "3         Adventure\n",
       "4         Adventure\n",
       "            ...    \n",
       "416956       Action\n",
       "416957        Drama\n",
       "416958     Thriller\n",
       "416959      Unknown\n",
       "416960      Unknown\n",
       "Name: genres.name, Length: 416961, dtype: object"
      ]
     },
     "execution_count": 479,
     "metadata": {},
     "output_type": "execute_result"
    }
   ],
   "source": [
    "eval_df[\"genres.name\"].fillna(\"Unknown\")"
   ]
  },
  {
   "cell_type": "code",
   "execution_count": 480,
   "metadata": {},
   "outputs": [],
   "source": [
    "#replicamos en nuestro dataset modificado.\n",
    "modified_df[\"genres.name\"] = modified_df[\"genres.name\"].fillna(\"Unknown\")"
   ]
  },
  {
   "cell_type": "code",
   "execution_count": 481,
   "metadata": {},
   "outputs": [
    {
     "data": {
      "image/png": "[encoded data removed]",
      "text/plain": [
       "<Figure size 640x480 with 1 Axes>"
      ]
     },
     "metadata": {},
     "output_type": "display_data"
    }
   ],
   "source": [
    "# Damos un ojo a la distribución de géneros observando una distribución aceptable.\n",
    "sns.countplot(data=modified_df, x=\"genres.name\")\n",
    "plt.xticks(rotation=90, ha=\"right\")\n",
    "plt.show()"
   ]
  },
  {
   "cell_type": "markdown",
   "metadata": {},
   "source": [
    "#### Production Companies"
   ]
  },
  {
   "cell_type": "code",
   "execution_count": 482,
   "metadata": {},
   "outputs": [
    {
     "name": "stdout",
     "output_type": "stream",
     "text": [
      "<class 'pandas.core.frame.DataFrame'>\n",
      "RangeIndex: 416961 entries, 0 to 416960\n",
      "Data columns (total 2 columns):\n",
      " #   Column                     Non-Null Count   Dtype \n",
      "---  ------                     --------------   ----- \n",
      " 0   id                         416961 non-null  int64 \n",
      " 1   production_companies.name  390531 non-null  object\n",
      "dtypes: int64(1), object(1)\n",
      "memory usage: 6.4+ MB\n"
     ]
    }
   ],
   "source": [
    "# Vemos una cantidad pequeña de nulos.\n",
    "eval_df[[\"id\", \"production_companies.name\"]].info()"
   ]
  },
  {
   "cell_type": "code",
   "execution_count": 483,
   "metadata": {},
   "outputs": [
    {
     "data": {
      "text/plain": [
       "(23420,)"
      ]
     },
     "execution_count": 483,
     "metadata": {},
     "output_type": "execute_result"
    }
   ],
   "source": [
    "# Vemos un total de 23420 productoras distintas. Una gran diversidad.\n",
    "eval_df[\"production_companies.name\"].unique().shape"
   ]
  },
  {
   "cell_type": "code",
   "execution_count": 484,
   "metadata": {},
   "outputs": [],
   "source": [
    "# Para este caso vamos a optar simplemente por llenar los valores vacios con \"Missing\"\n",
    "modified_df[\"production_companies.name\"] = modified_df[\"production_companies.name\"].fillna(\"Missing\")"
   ]
  },
  {
   "cell_type": "markdown",
   "metadata": {},
   "source": [
    "#### Production countries y spoken_languages"
   ]
  },
  {
   "cell_type": "code",
   "execution_count": 485,
   "metadata": {},
   "outputs": [
    {
     "data": {
      "text/html": [
       "<div>\n",
       "<style scoped>\n",
       "    .dataframe tbody tr th:only-of-type {\n",
       "        vertical-align: middle;\n",
       "    }\n",
       "\n",
       "    .dataframe tbody tr th {\n",
       "        vertical-align: top;\n",
       "    }\n",
       "\n",
       "    .dataframe thead th {\n",
       "        text-align: right;\n",
       "    }\n",
       "</style>\n",
       "<table border=\"1\" class=\"dataframe\">\n",
       "  <thead>\n",
       "    <tr style=\"text-align: right;\">\n",
       "      <th></th>\n",
       "      <th>id</th>\n",
       "      <th>original_language</th>\n",
       "      <th>production_countries.iso_3166_1</th>\n",
       "      <th>spoken_languages.iso_639_1</th>\n",
       "    </tr>\n",
       "  </thead>\n",
       "  <tbody>\n",
       "    <tr>\n",
       "      <th>0</th>\n",
       "      <td>862</td>\n",
       "      <td>en</td>\n",
       "      <td>US</td>\n",
       "      <td>en</td>\n",
       "    </tr>\n",
       "    <tr>\n",
       "      <th>1</th>\n",
       "      <td>862</td>\n",
       "      <td>en</td>\n",
       "      <td>US</td>\n",
       "      <td>en</td>\n",
       "    </tr>\n",
       "    <tr>\n",
       "      <th>2</th>\n",
       "      <td>862</td>\n",
       "      <td>en</td>\n",
       "      <td>US</td>\n",
       "      <td>en</td>\n",
       "    </tr>\n",
       "    <tr>\n",
       "      <th>3</th>\n",
       "      <td>8844</td>\n",
       "      <td>en</td>\n",
       "      <td>US</td>\n",
       "      <td>en</td>\n",
       "    </tr>\n",
       "    <tr>\n",
       "      <th>4</th>\n",
       "      <td>8844</td>\n",
       "      <td>en</td>\n",
       "      <td>US</td>\n",
       "      <td>fr</td>\n",
       "    </tr>\n",
       "  </tbody>\n",
       "</table>\n",
       "</div>"
      ],
      "text/plain": [
       "     id original_language production_countries.iso_3166_1  \\\n",
       "0   862                en                              US   \n",
       "1   862                en                              US   \n",
       "2   862                en                              US   \n",
       "3  8844                en                              US   \n",
       "4  8844                en                              US   \n",
       "\n",
       "  spoken_languages.iso_639_1  \n",
       "0                         en  \n",
       "1                         en  \n",
       "2                         en  \n",
       "3                         en  \n",
       "4                         fr  "
      ]
     },
     "execution_count": 485,
     "metadata": {},
     "output_type": "execute_result"
    }
   ],
   "source": [
    "# Vemos cierta similitud en production countries y spoken_languages, ya que se encuentran en el mismo formato.\n",
    "# De hecho nos recuerda tambien a: original_language\n",
    "eval_df = modified_df[[\"id\", \"original_language\", \"production_countries.iso_3166_1\", \"spoken_languages.iso_639_1\" ]]\n",
    "eval_df.head(5)\n"
   ]
  },
  {
   "cell_type": "code",
   "execution_count": 486,
   "metadata": {},
   "outputs": [],
   "source": [
    "# vamos a observar la distribucion de valores en primer lugar."
   ]
  },
  {
   "cell_type": "code",
   "execution_count": 487,
   "metadata": {},
   "outputs": [
    {
     "data": {
      "text/plain": [
       "<Axes: xlabel='production_countries.iso_3166_1', ylabel='count'>"
      ]
     },
     "execution_count": 487,
     "metadata": {},
     "output_type": "execute_result"
    },
    {
     "data": {
      "image/png": "[encoded data removed]",
      "text/plain": [
       "<Figure size 640x480 with 1 Axes>"
      ]
     },
     "metadata": {},
     "output_type": "display_data"
    }
   ],
   "source": [
    "# se observa una gran variedad. en paises de produccion.\n",
    "sns.countplot(data=eval_df, x=\"production_countries.iso_3166_1\")"
   ]
  },
  {
   "cell_type": "code",
   "execution_count": 488,
   "metadata": {},
   "outputs": [
    {
     "data": {
      "image/png": "[encoded data removed]",
      "text/plain": [
       "<Figure size 640x480 with 1 Axes>"
      ]
     },
     "metadata": {},
     "output_type": "display_data"
    }
   ],
   "source": [
    "#de la misma manera en spoken_languages\n",
    "sns.countplot(data=eval_df, x=\"spoken_languages.iso_639_1\")\n",
    "plt.xticks(rotation=90, ha=\"right\")\n",
    "plt.show()"
   ]
  },
  {
   "cell_type": "code",
   "execution_count": 489,
   "metadata": {},
   "outputs": [
    {
     "name": "stderr",
     "output_type": "stream",
     "text": [
      "C:\\Users\\Une\\AppData\\Local\\Temp\\ipykernel_29360\\2744695671.py:2: SettingWithCopyWarning: \n",
      "A value is trying to be set on a copy of a slice from a DataFrame.\n",
      "Try using .loc[row_indexer,col_indexer] = value instead\n",
      "\n",
      "See the caveats in the documentation: https://pandas.pydata.org/pandas-docs/stable/user_guide/indexing.html#returning-a-view-versus-a-copy\n",
      "  eval_df[\"concat_country_language\"] = eval_df[\"original_language\"].str.lower() +   \" \" + eval_df[\"production_countries.iso_3166_1\"].str.lower() +  \" \" + eval_df[\"spoken_languages.iso_639_1\"].str.lower()\n"
     ]
    }
   ],
   "source": [
    "# procedemos a unir las 3 columnas de la siguiente manera. \n",
    "eval_df[\"concat_country_language\"] = eval_df[\"original_language\"].str.lower() +   \" \" + eval_df[\"production_countries.iso_3166_1\"].str.lower() +  \" \" + eval_df[\"spoken_languages.iso_639_1\"].str.lower()"
   ]
  },
  {
   "cell_type": "code",
   "execution_count": 490,
   "metadata": {},
   "outputs": [
    {
     "name": "stderr",
     "output_type": "stream",
     "text": [
      "C:\\Users\\Une\\AppData\\Local\\Temp\\ipykernel_29360\\2754961421.py:1: FutureWarning: A value is trying to be set on a copy of a DataFrame or Series through chained assignment using an inplace method.\n",
      "The behavior will change in pandas 3.0. This inplace method will never work because the intermediate object on which we are setting values always behaves as a copy.\n",
      "\n",
      "For example, when doing 'df[col].method(value, inplace=True)', try using 'df.method({col: value}, inplace=True)' or df[col] = df[col].method(value) instead, to perform the operation inplace on the original object.\n",
      "\n",
      "\n",
      "  eval_df[\"concat_country_language\"].fillna(\"\", inplace=True)\n",
      "C:\\Users\\Une\\AppData\\Local\\Temp\\ipykernel_29360\\2754961421.py:1: SettingWithCopyWarning: \n",
      "A value is trying to be set on a copy of a slice from a DataFrame\n",
      "\n",
      "See the caveats in the documentation: https://pandas.pydata.org/pandas-docs/stable/user_guide/indexing.html#returning-a-view-versus-a-copy\n",
      "  eval_df[\"concat_country_language\"].fillna(\"\", inplace=True)\n"
     ]
    }
   ],
   "source": [
    "eval_df[\"concat_country_language\"].fillna(\"\", inplace=True)"
   ]
  },
  {
   "cell_type": "code",
   "execution_count": 491,
   "metadata": {},
   "outputs": [],
   "source": [
    "result = eval_df.groupby(\"id\").agg(concat=(\"concat_country_language\", \" \".join))"
   ]
  },
  {
   "cell_type": "code",
   "execution_count": 492,
   "metadata": {},
   "outputs": [],
   "source": [
    "result.reset_index(inplace=True)"
   ]
  },
  {
   "cell_type": "code",
   "execution_count": 493,
   "metadata": {},
   "outputs": [
    {
     "data": {
      "text/plain": [
       "'fi fi fi fi fi de fi fi fi fi fi de fi fi fi fi fi de fi fi fi fi fi de'"
      ]
     },
     "execution_count": 493,
     "metadata": {},
     "output_type": "execute_result"
    }
   ],
   "source": [
    "result.loc[0][\"concat\"]"
   ]
  },
  {
   "cell_type": "code",
   "execution_count": 494,
   "metadata": {},
   "outputs": [
    {
     "data": {
      "text/plain": [
       "0            {de, fi}\n",
       "1        {sv, en, fi}\n",
       "2            {en, us}\n",
       "3        {en, jp, us}\n",
       "4            {en, us}\n",
       "             ...     \n",
       "44902        {en, gb}\n",
       "44903        {en, us}\n",
       "44904              {}\n",
       "44905            {fi}\n",
       "44906        {fr, pt}\n",
       "Name: concat, Length: 44907, dtype: object"
      ]
     },
     "execution_count": 494,
     "metadata": {},
     "output_type": "execute_result"
    }
   ],
   "source": [
    "# Realizamos un proceso para unir todo en un set y tener una informacion resumida.\n",
    "result[\"concat\"].apply(lambda x: set(x.split()))"
   ]
  },
  {
   "cell_type": "code",
   "execution_count": 495,
   "metadata": {},
   "outputs": [],
   "source": [
    "#Aplicamos el algoritmo al dataset deseado.\n",
    "modified_df[\"concat_country_language\"] = modified_df[\"original_language\"].str.lower() +   \" \" + modified_df[\"production_countries.iso_3166_1\"].str.lower() +  \" \" + modified_df[\"spoken_languages.iso_639_1\"].str.lower()"
   ]
  },
  {
   "cell_type": "code",
   "execution_count": 496,
   "metadata": {},
   "outputs": [],
   "source": [
    "modified_df.drop(columns=[\"original_language\",\"production_countries.iso_3166_1\", \"spoken_languages.iso_639_1\"], inplace=True)"
   ]
  },
  {
   "cell_type": "code",
   "execution_count": 497,
   "metadata": {},
   "outputs": [],
   "source": [
    "modified_df[\"concat_country_language\"] = modified_df[\"concat_country_language\"].fillna(\"\")"
   ]
  },
  {
   "cell_type": "code",
   "execution_count": 498,
   "metadata": {},
   "outputs": [
    {
     "data": {
      "text/html": [
       "<div>\n",
       "<style scoped>\n",
       "    .dataframe tbody tr th:only-of-type {\n",
       "        vertical-align: middle;\n",
       "    }\n",
       "\n",
       "    .dataframe tbody tr th {\n",
       "        vertical-align: top;\n",
       "    }\n",
       "\n",
       "    .dataframe thead th {\n",
       "        text-align: right;\n",
       "    }\n",
       "</style>\n",
       "<table border=\"1\" class=\"dataframe\">\n",
       "  <thead>\n",
       "    <tr style=\"text-align: right;\">\n",
       "      <th></th>\n",
       "      <th>id</th>\n",
       "      <th>overview</th>\n",
       "      <th>release_year</th>\n",
       "      <th>vote_average</th>\n",
       "      <th>genres.name</th>\n",
       "      <th>production_companies.name</th>\n",
       "      <th>popularity_log</th>\n",
       "      <th>vote_count_log</th>\n",
       "      <th>title_collection</th>\n",
       "      <th>concat_country_language</th>\n",
       "    </tr>\n",
       "  </thead>\n",
       "  <tbody>\n",
       "    <tr>\n",
       "      <th>0</th>\n",
       "      <td>862</td>\n",
       "      <td>Led by Woody, Andy's toys live happily in his ...</td>\n",
       "      <td>1995</td>\n",
       "      <td>7.7</td>\n",
       "      <td>Animation</td>\n",
       "      <td>Pixar Animation Studios</td>\n",
       "      <td>3.133185</td>\n",
       "      <td>8.597113</td>\n",
       "      <td>Toy Story Toy Story Collection</td>\n",
       "      <td>en us en</td>\n",
       "    </tr>\n",
       "    <tr>\n",
       "      <th>1</th>\n",
       "      <td>862</td>\n",
       "      <td>Led by Woody, Andy's toys live happily in his ...</td>\n",
       "      <td>1995</td>\n",
       "      <td>7.7</td>\n",
       "      <td>Comedy</td>\n",
       "      <td>Pixar Animation Studios</td>\n",
       "      <td>3.133185</td>\n",
       "      <td>8.597113</td>\n",
       "      <td>Toy Story Toy Story Collection</td>\n",
       "      <td>en us en</td>\n",
       "    </tr>\n",
       "    <tr>\n",
       "      <th>2</th>\n",
       "      <td>862</td>\n",
       "      <td>Led by Woody, Andy's toys live happily in his ...</td>\n",
       "      <td>1995</td>\n",
       "      <td>7.7</td>\n",
       "      <td>Family</td>\n",
       "      <td>Pixar Animation Studios</td>\n",
       "      <td>3.133185</td>\n",
       "      <td>8.597113</td>\n",
       "      <td>Toy Story Toy Story Collection</td>\n",
       "      <td>en us en</td>\n",
       "    </tr>\n",
       "    <tr>\n",
       "      <th>3</th>\n",
       "      <td>8844</td>\n",
       "      <td>When siblings Judy and Peter discover an encha...</td>\n",
       "      <td>1995</td>\n",
       "      <td>6.9</td>\n",
       "      <td>Adventure</td>\n",
       "      <td>TriStar Pictures</td>\n",
       "      <td>2.891235</td>\n",
       "      <td>7.789040</td>\n",
       "      <td>Jumanji</td>\n",
       "      <td>en us en</td>\n",
       "    </tr>\n",
       "    <tr>\n",
       "      <th>4</th>\n",
       "      <td>8844</td>\n",
       "      <td>When siblings Judy and Peter discover an encha...</td>\n",
       "      <td>1995</td>\n",
       "      <td>6.9</td>\n",
       "      <td>Adventure</td>\n",
       "      <td>TriStar Pictures</td>\n",
       "      <td>2.891235</td>\n",
       "      <td>7.789040</td>\n",
       "      <td>Jumanji</td>\n",
       "      <td>en us fr</td>\n",
       "    </tr>\n",
       "    <tr>\n",
       "      <th>...</th>\n",
       "      <td>...</td>\n",
       "      <td>...</td>\n",
       "      <td>...</td>\n",
       "      <td>...</td>\n",
       "      <td>...</td>\n",
       "      <td>...</td>\n",
       "      <td>...</td>\n",
       "      <td>...</td>\n",
       "      <td>...</td>\n",
       "      <td>...</td>\n",
       "    </tr>\n",
       "    <tr>\n",
       "      <th>416956</th>\n",
       "      <td>67758</td>\n",
       "      <td>When one of her hits goes wrong, a professiona...</td>\n",
       "      <td>2003</td>\n",
       "      <td>3.8</td>\n",
       "      <td>Action</td>\n",
       "      <td>American World Pictures</td>\n",
       "      <td>0.643435</td>\n",
       "      <td>1.945910</td>\n",
       "      <td>Betrayal</td>\n",
       "      <td>en us en</td>\n",
       "    </tr>\n",
       "    <tr>\n",
       "      <th>416957</th>\n",
       "      <td>67758</td>\n",
       "      <td>When one of her hits goes wrong, a professiona...</td>\n",
       "      <td>2003</td>\n",
       "      <td>3.8</td>\n",
       "      <td>Drama</td>\n",
       "      <td>American World Pictures</td>\n",
       "      <td>0.643435</td>\n",
       "      <td>1.945910</td>\n",
       "      <td>Betrayal</td>\n",
       "      <td>en us en</td>\n",
       "    </tr>\n",
       "    <tr>\n",
       "      <th>416958</th>\n",
       "      <td>67758</td>\n",
       "      <td>When one of her hits goes wrong, a professiona...</td>\n",
       "      <td>2003</td>\n",
       "      <td>3.8</td>\n",
       "      <td>Thriller</td>\n",
       "      <td>American World Pictures</td>\n",
       "      <td>0.643435</td>\n",
       "      <td>1.945910</td>\n",
       "      <td>Betrayal</td>\n",
       "      <td>en us en</td>\n",
       "    </tr>\n",
       "    <tr>\n",
       "      <th>416959</th>\n",
       "      <td>227506</td>\n",
       "      <td>In a small town live two brothers, one a minis...</td>\n",
       "      <td>1917</td>\n",
       "      <td>0.0</td>\n",
       "      <td>Unknown</td>\n",
       "      <td>Yermoliev</td>\n",
       "      <td>0.003497</td>\n",
       "      <td>0.000000</td>\n",
       "      <td>Satan Triumphant</td>\n",
       "      <td></td>\n",
       "    </tr>\n",
       "    <tr>\n",
       "      <th>416960</th>\n",
       "      <td>461257</td>\n",
       "      <td>50 years after decriminalisation of homosexual...</td>\n",
       "      <td>2017</td>\n",
       "      <td>0.0</td>\n",
       "      <td>Unknown</td>\n",
       "      <td>Missing</td>\n",
       "      <td>0.151016</td>\n",
       "      <td>0.000000</td>\n",
       "      <td>Queerama</td>\n",
       "      <td>en gb en</td>\n",
       "    </tr>\n",
       "  </tbody>\n",
       "</table>\n",
       "<p>416961 rows × 10 columns</p>\n",
       "</div>"
      ],
      "text/plain": [
       "            id                                           overview  \\\n",
       "0          862  Led by Woody, Andy's toys live happily in his ...   \n",
       "1          862  Led by Woody, Andy's toys live happily in his ...   \n",
       "2          862  Led by Woody, Andy's toys live happily in his ...   \n",
       "3         8844  When siblings Judy and Peter discover an encha...   \n",
       "4         8844  When siblings Judy and Peter discover an encha...   \n",
       "...        ...                                                ...   \n",
       "416956   67758  When one of her hits goes wrong, a professiona...   \n",
       "416957   67758  When one of her hits goes wrong, a professiona...   \n",
       "416958   67758  When one of her hits goes wrong, a professiona...   \n",
       "416959  227506  In a small town live two brothers, one a minis...   \n",
       "416960  461257  50 years after decriminalisation of homosexual...   \n",
       "\n",
       "        release_year  vote_average genres.name production_companies.name  \\\n",
       "0               1995           7.7   Animation   Pixar Animation Studios   \n",
       "1               1995           7.7      Comedy   Pixar Animation Studios   \n",
       "2               1995           7.7      Family   Pixar Animation Studios   \n",
       "3               1995           6.9   Adventure          TriStar Pictures   \n",
       "4               1995           6.9   Adventure          TriStar Pictures   \n",
       "...              ...           ...         ...                       ...   \n",
       "416956          2003           3.8      Action   American World Pictures   \n",
       "416957          2003           3.8       Drama   American World Pictures   \n",
       "416958          2003           3.8    Thriller   American World Pictures   \n",
       "416959          1917           0.0     Unknown                 Yermoliev   \n",
       "416960          2017           0.0     Unknown                   Missing   \n",
       "\n",
       "        popularity_log  vote_count_log                title_collection  \\\n",
       "0             3.133185        8.597113  Toy Story Toy Story Collection   \n",
       "1             3.133185        8.597113  Toy Story Toy Story Collection   \n",
       "2             3.133185        8.597113  Toy Story Toy Story Collection   \n",
       "3             2.891235        7.789040                        Jumanji    \n",
       "4             2.891235        7.789040                        Jumanji    \n",
       "...                ...             ...                             ...   \n",
       "416956        0.643435        1.945910                       Betrayal    \n",
       "416957        0.643435        1.945910                       Betrayal    \n",
       "416958        0.643435        1.945910                       Betrayal    \n",
       "416959        0.003497        0.000000               Satan Triumphant    \n",
       "416960        0.151016        0.000000                       Queerama    \n",
       "\n",
       "       concat_country_language  \n",
       "0                     en us en  \n",
       "1                     en us en  \n",
       "2                     en us en  \n",
       "3                     en us en  \n",
       "4                     en us fr  \n",
       "...                        ...  \n",
       "416956                en us en  \n",
       "416957                en us en  \n",
       "416958                en us en  \n",
       "416959                          \n",
       "416960                en gb en  \n",
       "\n",
       "[416961 rows x 10 columns]"
      ]
     },
     "execution_count": 498,
     "metadata": {},
     "output_type": "execute_result"
    }
   ],
   "source": [
    "modified_df"
   ]
  },
  {
   "cell_type": "markdown",
   "metadata": {},
   "source": [
    "#### Agregacion"
   ]
  },
  {
   "cell_type": "code",
   "execution_count": 499,
   "metadata": {},
   "outputs": [
    {
     "data": {
      "text/plain": [
       "(416961, 10)"
      ]
     },
     "execution_count": 499,
     "metadata": {},
     "output_type": "execute_result"
    }
   ],
   "source": [
    "modified_df.shape"
   ]
  },
  {
   "cell_type": "code",
   "execution_count": 500,
   "metadata": {},
   "outputs": [
    {
     "data": {
      "text/html": [
       "<div>\n",
       "<style scoped>\n",
       "    .dataframe tbody tr th:only-of-type {\n",
       "        vertical-align: middle;\n",
       "    }\n",
       "\n",
       "    .dataframe tbody tr th {\n",
       "        vertical-align: top;\n",
       "    }\n",
       "\n",
       "    .dataframe thead th {\n",
       "        text-align: right;\n",
       "    }\n",
       "</style>\n",
       "<table border=\"1\" class=\"dataframe\">\n",
       "  <thead>\n",
       "    <tr style=\"text-align: right;\">\n",
       "      <th></th>\n",
       "      <th>id</th>\n",
       "      <th>overview</th>\n",
       "      <th>release_year</th>\n",
       "      <th>vote_average</th>\n",
       "      <th>popularity_log</th>\n",
       "      <th>vote_count_log</th>\n",
       "      <th>title_collection</th>\n",
       "      <th>concat_country_language</th>\n",
       "      <th>genres</th>\n",
       "      <th>production_companies</th>\n",
       "    </tr>\n",
       "  </thead>\n",
       "  <tbody>\n",
       "    <tr>\n",
       "      <th>0</th>\n",
       "      <td>2</td>\n",
       "      <td>Taisto Kasurinen is a Finnish coal miner whose...</td>\n",
       "      <td>1988</td>\n",
       "      <td>7.1</td>\n",
       "      <td>1.581139</td>\n",
       "      <td>3.806662</td>\n",
       "      <td>Ariel</td>\n",
       "      <td>fi fi fi fi fi de fi fi fi fi fi de fi fi fi f...</td>\n",
       "      <td>{Drama, Crime}</td>\n",
       "      <td>{Finnish Film Foundation, Villealfa Filmproduc...</td>\n",
       "    </tr>\n",
       "    <tr>\n",
       "      <th>1</th>\n",
       "      <td>3</td>\n",
       "      <td>An episode in the life of Nikander, a garbage ...</td>\n",
       "      <td>1986</td>\n",
       "      <td>7.1</td>\n",
       "      <td>1.191529</td>\n",
       "      <td>3.583519</td>\n",
       "      <td>Shadows in Paradise</td>\n",
       "      <td>fi fi en fi fi fi fi fi sv fi fi en fi fi fi f...</td>\n",
       "      <td>{Comedy, Drama}</td>\n",
       "      <td>{Villealfa Filmproduction Oy}</td>\n",
       "    </tr>\n",
       "    <tr>\n",
       "      <th>2</th>\n",
       "      <td>5</td>\n",
       "      <td>It's Ted the Bellhop's first night on the job....</td>\n",
       "      <td>1995</td>\n",
       "      <td>6.5</td>\n",
       "      <td>2.305240</td>\n",
       "      <td>6.291569</td>\n",
       "      <td>Four Rooms</td>\n",
       "      <td>en us en en us en en us en en us en</td>\n",
       "      <td>{Comedy, Crime}</td>\n",
       "      <td>{Miramax Films, A Band Apart}</td>\n",
       "    </tr>\n",
       "    <tr>\n",
       "      <th>3</th>\n",
       "      <td>6</td>\n",
       "      <td>While racing to a boxing match, Frank, Mike, J...</td>\n",
       "      <td>1993</td>\n",
       "      <td>6.4</td>\n",
       "      <td>1.877734</td>\n",
       "      <td>4.382027</td>\n",
       "      <td>Judgment Night</td>\n",
       "      <td>en jp en en us en en jp en en us en en jp en e...</td>\n",
       "      <td>{Action, Crime, Thriller}</td>\n",
       "      <td>{Universal Pictures, Largo Entertainment, JVC ...</td>\n",
       "    </tr>\n",
       "    <tr>\n",
       "      <th>4</th>\n",
       "      <td>11</td>\n",
       "      <td>Princess Leia is captured and held hostage by ...</td>\n",
       "      <td>1977</td>\n",
       "      <td>8.1</td>\n",
       "      <td>3.764675</td>\n",
       "      <td>8.821585</td>\n",
       "      <td>Star Wars Star Wars Collection</td>\n",
       "      <td>en us en en us en en us en en us en en us en e...</td>\n",
       "      <td>{Action, Adventure, Science Fiction}</td>\n",
       "      <td>{Lucasfilm, Twentieth Century Fox Film Corpora...</td>\n",
       "    </tr>\n",
       "  </tbody>\n",
       "</table>\n",
       "</div>"
      ],
      "text/plain": [
       "   id                                           overview  release_year  \\\n",
       "0   2  Taisto Kasurinen is a Finnish coal miner whose...          1988   \n",
       "1   3  An episode in the life of Nikander, a garbage ...          1986   \n",
       "2   5  It's Ted the Bellhop's first night on the job....          1995   \n",
       "3   6  While racing to a boxing match, Frank, Mike, J...          1993   \n",
       "4  11  Princess Leia is captured and held hostage by ...          1977   \n",
       "\n",
       "   vote_average  popularity_log  vote_count_log  \\\n",
       "0           7.1        1.581139        3.806662   \n",
       "1           7.1        1.191529        3.583519   \n",
       "2           6.5        2.305240        6.291569   \n",
       "3           6.4        1.877734        4.382027   \n",
       "4           8.1        3.764675        8.821585   \n",
       "\n",
       "                 title_collection  \\\n",
       "0                          Ariel    \n",
       "1            Shadows in Paradise    \n",
       "2                     Four Rooms    \n",
       "3                 Judgment Night    \n",
       "4  Star Wars Star Wars Collection   \n",
       "\n",
       "                             concat_country_language  \\\n",
       "0  fi fi fi fi fi de fi fi fi fi fi de fi fi fi f...   \n",
       "1  fi fi en fi fi fi fi fi sv fi fi en fi fi fi f...   \n",
       "2                en us en en us en en us en en us en   \n",
       "3  en jp en en us en en jp en en us en en jp en e...   \n",
       "4  en us en en us en en us en en us en en us en e...   \n",
       "\n",
       "                                 genres  \\\n",
       "0                        {Drama, Crime}   \n",
       "1                       {Comedy, Drama}   \n",
       "2                       {Comedy, Crime}   \n",
       "3             {Action, Crime, Thriller}   \n",
       "4  {Action, Adventure, Science Fiction}   \n",
       "\n",
       "                                production_companies  \n",
       "0  {Finnish Film Foundation, Villealfa Filmproduc...  \n",
       "1                      {Villealfa Filmproduction Oy}  \n",
       "2                      {Miramax Films, A Band Apart}  \n",
       "3  {Universal Pictures, Largo Entertainment, JVC ...  \n",
       "4  {Lucasfilm, Twentieth Century Fox Film Corpora...  "
      ]
     },
     "execution_count": 500,
     "metadata": {},
     "output_type": "execute_result"
    }
   ],
   "source": [
    "modified_df = modified_df.groupby([\"id\", \"overview\", \"release_year\", \"vote_average\", \"popularity_log\", \"vote_count_log\", \"title_collection\", ]).agg(\n",
    "    concat_country_language=(\"concat_country_language\", \" \".join),\n",
    "    genres=(\"genres.name\", set),\n",
    "    production_companies=(\"production_companies.name\", set),\n",
    ").reset_index()#genres, production_companies, concat_country\n",
    "modified_df.head()"
   ]
  },
  {
   "cell_type": "code",
   "execution_count": 501,
   "metadata": {},
   "outputs": [],
   "source": [
    "# Modificamos la columna concat_country_language para resumir valores. usamos set, lo que evita valores repetitivos.\n",
    "modified_df[\"concat_country_language\"] = modified_df[\"concat_country_language\"].apply(lambda x: set(x.split()))"
   ]
  },
  {
   "cell_type": "code",
   "execution_count": 502,
   "metadata": {},
   "outputs": [
    {
     "data": {
      "text/html": [
       "<div>\n",
       "<style scoped>\n",
       "    .dataframe tbody tr th:only-of-type {\n",
       "        vertical-align: middle;\n",
       "    }\n",
       "\n",
       "    .dataframe tbody tr th {\n",
       "        vertical-align: top;\n",
       "    }\n",
       "\n",
       "    .dataframe thead th {\n",
       "        text-align: right;\n",
       "    }\n",
       "</style>\n",
       "<table border=\"1\" class=\"dataframe\">\n",
       "  <thead>\n",
       "    <tr style=\"text-align: right;\">\n",
       "      <th></th>\n",
       "      <th>id</th>\n",
       "      <th>overview</th>\n",
       "      <th>release_year</th>\n",
       "      <th>vote_average</th>\n",
       "      <th>popularity_log</th>\n",
       "      <th>vote_count_log</th>\n",
       "      <th>title_collection</th>\n",
       "      <th>concat_country_language</th>\n",
       "      <th>genres</th>\n",
       "      <th>production_companies</th>\n",
       "    </tr>\n",
       "  </thead>\n",
       "  <tbody>\n",
       "    <tr>\n",
       "      <th>0</th>\n",
       "      <td>2</td>\n",
       "      <td>Taisto Kasurinen is a Finnish coal miner whose...</td>\n",
       "      <td>1988</td>\n",
       "      <td>7.1</td>\n",
       "      <td>1.581139</td>\n",
       "      <td>3.806662</td>\n",
       "      <td>Ariel</td>\n",
       "      <td>{de, fi}</td>\n",
       "      <td>{Drama, Crime}</td>\n",
       "      <td>{Finnish Film Foundation, Villealfa Filmproduc...</td>\n",
       "    </tr>\n",
       "    <tr>\n",
       "      <th>1</th>\n",
       "      <td>3</td>\n",
       "      <td>An episode in the life of Nikander, a garbage ...</td>\n",
       "      <td>1986</td>\n",
       "      <td>7.1</td>\n",
       "      <td>1.191529</td>\n",
       "      <td>3.583519</td>\n",
       "      <td>Shadows in Paradise</td>\n",
       "      <td>{sv, en, fi}</td>\n",
       "      <td>{Comedy, Drama}</td>\n",
       "      <td>{Villealfa Filmproduction Oy}</td>\n",
       "    </tr>\n",
       "    <tr>\n",
       "      <th>2</th>\n",
       "      <td>5</td>\n",
       "      <td>It's Ted the Bellhop's first night on the job....</td>\n",
       "      <td>1995</td>\n",
       "      <td>6.5</td>\n",
       "      <td>2.305240</td>\n",
       "      <td>6.291569</td>\n",
       "      <td>Four Rooms</td>\n",
       "      <td>{en, us}</td>\n",
       "      <td>{Comedy, Crime}</td>\n",
       "      <td>{Miramax Films, A Band Apart}</td>\n",
       "    </tr>\n",
       "    <tr>\n",
       "      <th>3</th>\n",
       "      <td>6</td>\n",
       "      <td>While racing to a boxing match, Frank, Mike, J...</td>\n",
       "      <td>1993</td>\n",
       "      <td>6.4</td>\n",
       "      <td>1.877734</td>\n",
       "      <td>4.382027</td>\n",
       "      <td>Judgment Night</td>\n",
       "      <td>{en, jp, us}</td>\n",
       "      <td>{Action, Crime, Thriller}</td>\n",
       "      <td>{Universal Pictures, Largo Entertainment, JVC ...</td>\n",
       "    </tr>\n",
       "    <tr>\n",
       "      <th>4</th>\n",
       "      <td>11</td>\n",
       "      <td>Princess Leia is captured and held hostage by ...</td>\n",
       "      <td>1977</td>\n",
       "      <td>8.1</td>\n",
       "      <td>3.764675</td>\n",
       "      <td>8.821585</td>\n",
       "      <td>Star Wars Star Wars Collection</td>\n",
       "      <td>{en, us}</td>\n",
       "      <td>{Action, Adventure, Science Fiction}</td>\n",
       "      <td>{Lucasfilm, Twentieth Century Fox Film Corpora...</td>\n",
       "    </tr>\n",
       "  </tbody>\n",
       "</table>\n",
       "</div>"
      ],
      "text/plain": [
       "   id                                           overview  release_year  \\\n",
       "0   2  Taisto Kasurinen is a Finnish coal miner whose...          1988   \n",
       "1   3  An episode in the life of Nikander, a garbage ...          1986   \n",
       "2   5  It's Ted the Bellhop's first night on the job....          1995   \n",
       "3   6  While racing to a boxing match, Frank, Mike, J...          1993   \n",
       "4  11  Princess Leia is captured and held hostage by ...          1977   \n",
       "\n",
       "   vote_average  popularity_log  vote_count_log  \\\n",
       "0           7.1        1.581139        3.806662   \n",
       "1           7.1        1.191529        3.583519   \n",
       "2           6.5        2.305240        6.291569   \n",
       "3           6.4        1.877734        4.382027   \n",
       "4           8.1        3.764675        8.821585   \n",
       "\n",
       "                 title_collection concat_country_language  \\\n",
       "0                          Ariel                 {de, fi}   \n",
       "1            Shadows in Paradise             {sv, en, fi}   \n",
       "2                     Four Rooms                 {en, us}   \n",
       "3                 Judgment Night             {en, jp, us}   \n",
       "4  Star Wars Star Wars Collection                {en, us}   \n",
       "\n",
       "                                 genres  \\\n",
       "0                        {Drama, Crime}   \n",
       "1                       {Comedy, Drama}   \n",
       "2                       {Comedy, Crime}   \n",
       "3             {Action, Crime, Thriller}   \n",
       "4  {Action, Adventure, Science Fiction}   \n",
       "\n",
       "                                production_companies  \n",
       "0  {Finnish Film Foundation, Villealfa Filmproduc...  \n",
       "1                      {Villealfa Filmproduction Oy}  \n",
       "2                      {Miramax Films, A Band Apart}  \n",
       "3  {Universal Pictures, Largo Entertainment, JVC ...  \n",
       "4  {Lucasfilm, Twentieth Century Fox Film Corpora...  "
      ]
     },
     "execution_count": 502,
     "metadata": {},
     "output_type": "execute_result"
    }
   ],
   "source": [
    "modified_df.head()"
   ]
  },
  {
   "cell_type": "code",
   "execution_count": 503,
   "metadata": {},
   "outputs": [
    {
     "data": {
      "text/plain": [
       "(44013, 10)"
      ]
     },
     "execution_count": 503,
     "metadata": {},
     "output_type": "execute_result"
    }
   ],
   "source": [
    "modified_df.shape"
   ]
  },
  {
   "cell_type": "code",
   "execution_count": 504,
   "metadata": {},
   "outputs": [],
   "source": [
    "#Detectamos duplicados.\n",
    "eval_df = modified_df[[\"overview\", \"id\"]].groupby(\"id\").count().reset_index()"
   ]
  },
  {
   "cell_type": "code",
   "execution_count": 505,
   "metadata": {},
   "outputs": [
    {
     "data": {
      "text/html": [
       "<div>\n",
       "<style scoped>\n",
       "    .dataframe tbody tr th:only-of-type {\n",
       "        vertical-align: middle;\n",
       "    }\n",
       "\n",
       "    .dataframe tbody tr th {\n",
       "        vertical-align: top;\n",
       "    }\n",
       "\n",
       "    .dataframe thead th {\n",
       "        text-align: right;\n",
       "    }\n",
       "</style>\n",
       "<table border=\"1\" class=\"dataframe\">\n",
       "  <thead>\n",
       "    <tr style=\"text-align: right;\">\n",
       "      <th></th>\n",
       "      <th>id</th>\n",
       "      <th>overview</th>\n",
       "    </tr>\n",
       "  </thead>\n",
       "  <tbody>\n",
       "    <tr>\n",
       "      <th>2122</th>\n",
       "      <td>4912</td>\n",
       "      <td>2</td>\n",
       "    </tr>\n",
       "    <tr>\n",
       "      <th>4551</th>\n",
       "      <td>10991</td>\n",
       "      <td>2</td>\n",
       "    </tr>\n",
       "    <tr>\n",
       "      <th>5571</th>\n",
       "      <td>12600</td>\n",
       "      <td>2</td>\n",
       "    </tr>\n",
       "    <tr>\n",
       "      <th>5840</th>\n",
       "      <td>13209</td>\n",
       "      <td>2</td>\n",
       "    </tr>\n",
       "    <tr>\n",
       "      <th>6763</th>\n",
       "      <td>14788</td>\n",
       "      <td>2</td>\n",
       "    </tr>\n",
       "    <tr>\n",
       "      <th>6894</th>\n",
       "      <td>15028</td>\n",
       "      <td>2</td>\n",
       "    </tr>\n",
       "    <tr>\n",
       "      <th>9982</th>\n",
       "      <td>22649</td>\n",
       "      <td>2</td>\n",
       "    </tr>\n",
       "    <tr>\n",
       "      <th>24038</th>\n",
       "      <td>69234</td>\n",
       "      <td>2</td>\n",
       "    </tr>\n",
       "    <tr>\n",
       "      <th>25430</th>\n",
       "      <td>77221</td>\n",
       "      <td>2</td>\n",
       "    </tr>\n",
       "    <tr>\n",
       "      <th>26696</th>\n",
       "      <td>84198</td>\n",
       "      <td>2</td>\n",
       "    </tr>\n",
       "    <tr>\n",
       "      <th>29769</th>\n",
       "      <td>109962</td>\n",
       "      <td>2</td>\n",
       "    </tr>\n",
       "    <tr>\n",
       "      <th>29815</th>\n",
       "      <td>110428</td>\n",
       "      <td>2</td>\n",
       "    </tr>\n",
       "    <tr>\n",
       "      <th>31764</th>\n",
       "      <td>132641</td>\n",
       "      <td>2</td>\n",
       "    </tr>\n",
       "  </tbody>\n",
       "</table>\n",
       "</div>"
      ],
      "text/plain": [
       "           id  overview\n",
       "2122     4912         2\n",
       "4551    10991         2\n",
       "5571    12600         2\n",
       "5840    13209         2\n",
       "6763    14788         2\n",
       "6894    15028         2\n",
       "9982    22649         2\n",
       "24038   69234         2\n",
       "25430   77221         2\n",
       "26696   84198         2\n",
       "29769  109962         2\n",
       "29815  110428         2\n",
       "31764  132641         2"
      ]
     },
     "execution_count": 505,
     "metadata": {},
     "output_type": "execute_result"
    }
   ],
   "source": [
    "eval_df[eval_df[\"overview\"]>1]"
   ]
  },
  {
   "cell_type": "code",
   "execution_count": 506,
   "metadata": {},
   "outputs": [
    {
     "data": {
      "text/html": [
       "<div>\n",
       "<style scoped>\n",
       "    .dataframe tbody tr th:only-of-type {\n",
       "        vertical-align: middle;\n",
       "    }\n",
       "\n",
       "    .dataframe tbody tr th {\n",
       "        vertical-align: top;\n",
       "    }\n",
       "\n",
       "    .dataframe thead th {\n",
       "        text-align: right;\n",
       "    }\n",
       "</style>\n",
       "<table border=\"1\" class=\"dataframe\">\n",
       "  <thead>\n",
       "    <tr style=\"text-align: right;\">\n",
       "      <th></th>\n",
       "      <th>id</th>\n",
       "      <th>overview</th>\n",
       "      <th>release_year</th>\n",
       "      <th>vote_average</th>\n",
       "      <th>popularity_log</th>\n",
       "      <th>vote_count_log</th>\n",
       "      <th>title_collection</th>\n",
       "      <th>concat_country_language</th>\n",
       "      <th>genres</th>\n",
       "      <th>production_companies</th>\n",
       "    </tr>\n",
       "  </thead>\n",
       "  <tbody>\n",
       "    <tr>\n",
       "      <th>2122</th>\n",
       "      <td>4912</td>\n",
       "      <td>Television made him famous, but his biggest hi...</td>\n",
       "      <td>2002</td>\n",
       "      <td>6.6</td>\n",
       "      <td>2.157077</td>\n",
       "      <td>5.641907</td>\n",
       "      <td>Confessions of a Dangerous Mind</td>\n",
       "      <td>{en, us}</td>\n",
       "      <td>{Comedy, Drama, Crime, Romance, Thriller}</td>\n",
       "      <td>{Miramax Films, Mad Chance, Allied Filmmakers}</td>\n",
       "    </tr>\n",
       "    <tr>\n",
       "      <th>2123</th>\n",
       "      <td>4912</td>\n",
       "      <td>Television made him famous, but his biggest hi...</td>\n",
       "      <td>2002</td>\n",
       "      <td>6.6</td>\n",
       "      <td>2.512122</td>\n",
       "      <td>5.641907</td>\n",
       "      <td>Confessions of a Dangerous Mind</td>\n",
       "      <td>{en, us}</td>\n",
       "      <td>{Comedy, Drama, Crime, Romance, Thriller}</td>\n",
       "      <td>{Miramax Films, Mad Chance, Allied Filmmakers}</td>\n",
       "    </tr>\n",
       "  </tbody>\n",
       "</table>\n",
       "</div>"
      ],
      "text/plain": [
       "        id                                           overview  release_year  \\\n",
       "2122  4912  Television made him famous, but his biggest hi...          2002   \n",
       "2123  4912  Television made him famous, but his biggest hi...          2002   \n",
       "\n",
       "      vote_average  popularity_log  vote_count_log  \\\n",
       "2122           6.6        2.157077        5.641907   \n",
       "2123           6.6        2.512122        5.641907   \n",
       "\n",
       "                      title_collection concat_country_language  \\\n",
       "2122  Confessions of a Dangerous Mind                 {en, us}   \n",
       "2123  Confessions of a Dangerous Mind                 {en, us}   \n",
       "\n",
       "                                         genres  \\\n",
       "2122  {Comedy, Drama, Crime, Romance, Thriller}   \n",
       "2123  {Comedy, Drama, Crime, Romance, Thriller}   \n",
       "\n",
       "                                production_companies  \n",
       "2122  {Miramax Films, Mad Chance, Allied Filmmakers}  \n",
       "2123  {Miramax Films, Mad Chance, Allied Filmmakers}  "
      ]
     },
     "execution_count": 506,
     "metadata": {},
     "output_type": "execute_result"
    }
   ],
   "source": [
    "modified_df[modified_df[\"id\"]==4912]"
   ]
  },
  {
   "cell_type": "code",
   "execution_count": 507,
   "metadata": {},
   "outputs": [
    {
     "name": "stdout",
     "output_type": "stream",
     "text": [
      "unhashable type: 'set'\n"
     ]
    }
   ],
   "source": [
    "#No podemos usar drop_duplicates debido a que tenemos SETs, los cuales no son HASHABLES.\n",
    "try: \n",
    "    modified_df.drop_duplicates()\n",
    "except TypeError as e:\n",
    "    print(e)"
   ]
  },
  {
   "cell_type": "code",
   "execution_count": 508,
   "metadata": {},
   "outputs": [],
   "source": [
    "# Convertimos a tuplas, de esta manera se vuelven hashables.\n",
    "modified_df[\"genres\"]=modified_df[\"genres\"].apply(tuple)\n",
    "modified_df[\"production_companies\"] = modified_df[\"production_companies\"].apply(tuple)\n",
    "modified_df[\"concat_country_language\"] = modified_df[\"concat_country_language\"].apply(tuple)"
   ]
  },
  {
   "cell_type": "code",
   "execution_count": 509,
   "metadata": {},
   "outputs": [],
   "source": [
    "# removemos duplicados.\n",
    "modified_df=modified_df.drop_duplicates().reset_index(drop=True)"
   ]
  },
  {
   "cell_type": "code",
   "execution_count": 510,
   "metadata": {},
   "outputs": [
    {
     "name": "stdout",
     "output_type": "stream",
     "text": [
      "(44013, 10)\n"
     ]
    },
    {
     "data": {
      "text/html": [
       "<div>\n",
       "<style scoped>\n",
       "    .dataframe tbody tr th:only-of-type {\n",
       "        vertical-align: middle;\n",
       "    }\n",
       "\n",
       "    .dataframe tbody tr th {\n",
       "        vertical-align: top;\n",
       "    }\n",
       "\n",
       "    .dataframe thead th {\n",
       "        text-align: right;\n",
       "    }\n",
       "</style>\n",
       "<table border=\"1\" class=\"dataframe\">\n",
       "  <thead>\n",
       "    <tr style=\"text-align: right;\">\n",
       "      <th></th>\n",
       "      <th>id</th>\n",
       "      <th>overview</th>\n",
       "      <th>release_year</th>\n",
       "      <th>vote_average</th>\n",
       "      <th>popularity_log</th>\n",
       "      <th>vote_count_log</th>\n",
       "      <th>title_collection</th>\n",
       "      <th>concat_country_language</th>\n",
       "      <th>genres</th>\n",
       "      <th>production_companies</th>\n",
       "    </tr>\n",
       "  </thead>\n",
       "  <tbody>\n",
       "    <tr>\n",
       "      <th>0</th>\n",
       "      <td>2</td>\n",
       "      <td>Taisto Kasurinen is a Finnish coal miner whose...</td>\n",
       "      <td>1988</td>\n",
       "      <td>7.1</td>\n",
       "      <td>1.581139</td>\n",
       "      <td>3.806662</td>\n",
       "      <td>Ariel</td>\n",
       "      <td>(de, fi)</td>\n",
       "      <td>(Drama, Crime)</td>\n",
       "      <td>(Finnish Film Foundation, Villealfa Filmproduc...</td>\n",
       "    </tr>\n",
       "    <tr>\n",
       "      <th>1</th>\n",
       "      <td>3</td>\n",
       "      <td>An episode in the life of Nikander, a garbage ...</td>\n",
       "      <td>1986</td>\n",
       "      <td>7.1</td>\n",
       "      <td>1.191529</td>\n",
       "      <td>3.583519</td>\n",
       "      <td>Shadows in Paradise</td>\n",
       "      <td>(sv, en, fi)</td>\n",
       "      <td>(Comedy, Drama)</td>\n",
       "      <td>(Villealfa Filmproduction Oy,)</td>\n",
       "    </tr>\n",
       "    <tr>\n",
       "      <th>2</th>\n",
       "      <td>5</td>\n",
       "      <td>It's Ted the Bellhop's first night on the job....</td>\n",
       "      <td>1995</td>\n",
       "      <td>6.5</td>\n",
       "      <td>2.305240</td>\n",
       "      <td>6.291569</td>\n",
       "      <td>Four Rooms</td>\n",
       "      <td>(en, us)</td>\n",
       "      <td>(Comedy, Crime)</td>\n",
       "      <td>(Miramax Films, A Band Apart)</td>\n",
       "    </tr>\n",
       "    <tr>\n",
       "      <th>3</th>\n",
       "      <td>6</td>\n",
       "      <td>While racing to a boxing match, Frank, Mike, J...</td>\n",
       "      <td>1993</td>\n",
       "      <td>6.4</td>\n",
       "      <td>1.877734</td>\n",
       "      <td>4.382027</td>\n",
       "      <td>Judgment Night</td>\n",
       "      <td>(en, jp, us)</td>\n",
       "      <td>(Action, Crime, Thriller)</td>\n",
       "      <td>(Universal Pictures, Largo Entertainment, JVC ...</td>\n",
       "    </tr>\n",
       "    <tr>\n",
       "      <th>4</th>\n",
       "      <td>11</td>\n",
       "      <td>Princess Leia is captured and held hostage by ...</td>\n",
       "      <td>1977</td>\n",
       "      <td>8.1</td>\n",
       "      <td>3.764675</td>\n",
       "      <td>8.821585</td>\n",
       "      <td>Star Wars Star Wars Collection</td>\n",
       "      <td>(en, us)</td>\n",
       "      <td>(Action, Adventure, Science Fiction)</td>\n",
       "      <td>(Lucasfilm, Twentieth Century Fox Film Corpora...</td>\n",
       "    </tr>\n",
       "  </tbody>\n",
       "</table>\n",
       "</div>"
      ],
      "text/plain": [
       "   id                                           overview  release_year  \\\n",
       "0   2  Taisto Kasurinen is a Finnish coal miner whose...          1988   \n",
       "1   3  An episode in the life of Nikander, a garbage ...          1986   \n",
       "2   5  It's Ted the Bellhop's first night on the job....          1995   \n",
       "3   6  While racing to a boxing match, Frank, Mike, J...          1993   \n",
       "4  11  Princess Leia is captured and held hostage by ...          1977   \n",
       "\n",
       "   vote_average  popularity_log  vote_count_log  \\\n",
       "0           7.1        1.581139        3.806662   \n",
       "1           7.1        1.191529        3.583519   \n",
       "2           6.5        2.305240        6.291569   \n",
       "3           6.4        1.877734        4.382027   \n",
       "4           8.1        3.764675        8.821585   \n",
       "\n",
       "                 title_collection concat_country_language  \\\n",
       "0                          Ariel                 (de, fi)   \n",
       "1            Shadows in Paradise             (sv, en, fi)   \n",
       "2                     Four Rooms                 (en, us)   \n",
       "3                 Judgment Night             (en, jp, us)   \n",
       "4  Star Wars Star Wars Collection                (en, us)   \n",
       "\n",
       "                                 genres  \\\n",
       "0                        (Drama, Crime)   \n",
       "1                       (Comedy, Drama)   \n",
       "2                       (Comedy, Crime)   \n",
       "3             (Action, Crime, Thriller)   \n",
       "4  (Action, Adventure, Science Fiction)   \n",
       "\n",
       "                                production_companies  \n",
       "0  (Finnish Film Foundation, Villealfa Filmproduc...  \n",
       "1                     (Villealfa Filmproduction Oy,)  \n",
       "2                      (Miramax Films, A Band Apart)  \n",
       "3  (Universal Pictures, Largo Entertainment, JVC ...  \n",
       "4  (Lucasfilm, Twentieth Century Fox Film Corpora...  "
      ]
     },
     "execution_count": 510,
     "metadata": {},
     "output_type": "execute_result"
    }
   ],
   "source": [
    "print(modified_df.shape)\n",
    "modified_df.head()"
   ]
  },
  {
   "cell_type": "code",
   "execution_count": 511,
   "metadata": {},
   "outputs": [],
   "source": [
    "# Aplicacion de tratamiento a columnas de texto restante:\n",
    "# ponemos todo a minusculas, removemos caracteres especiales y usaremos nuestra funcion creada para lemmatizacion y stopwords. \n",
    "modified_df[\"overview\"]= modified_df[\"overview\"].str.lower()\n",
    "modified_df[\"overview\"] = modified_df[\"overview\"].str.replace(r'[^a-zA-Z0-9\\s]', '', regex=True)\n",
    "modified_df[\"overview\"]= modified_df[\"overview\"].apply(lenma_and_remove_stopwords)"
   ]
  },
  {
   "cell_type": "code",
   "execution_count": 512,
   "metadata": {},
   "outputs": [
    {
     "data": {
      "text/html": [
       "<div>\n",
       "<style scoped>\n",
       "    .dataframe tbody tr th:only-of-type {\n",
       "        vertical-align: middle;\n",
       "    }\n",
       "\n",
       "    .dataframe tbody tr th {\n",
       "        vertical-align: top;\n",
       "    }\n",
       "\n",
       "    .dataframe thead th {\n",
       "        text-align: right;\n",
       "    }\n",
       "</style>\n",
       "<table border=\"1\" class=\"dataframe\">\n",
       "  <thead>\n",
       "    <tr style=\"text-align: right;\">\n",
       "      <th></th>\n",
       "      <th>id</th>\n",
       "      <th>overview</th>\n",
       "      <th>release_year</th>\n",
       "      <th>vote_average</th>\n",
       "      <th>popularity_log</th>\n",
       "      <th>vote_count_log</th>\n",
       "      <th>title_collection</th>\n",
       "      <th>concat_country_language</th>\n",
       "      <th>genres</th>\n",
       "      <th>production_companies</th>\n",
       "    </tr>\n",
       "  </thead>\n",
       "  <tbody>\n",
       "    <tr>\n",
       "      <th>0</th>\n",
       "      <td>2</td>\n",
       "      <td>[taisto, kasurinen, finnish, coal, miner, fath...</td>\n",
       "      <td>1988</td>\n",
       "      <td>7.1</td>\n",
       "      <td>1.581139e+00</td>\n",
       "      <td>3.806662</td>\n",
       "      <td>Ariel</td>\n",
       "      <td>(de, fi)</td>\n",
       "      <td>(Drama, Crime)</td>\n",
       "      <td>(Finnish Film Foundation, Villealfa Filmproduc...</td>\n",
       "    </tr>\n",
       "    <tr>\n",
       "      <th>1</th>\n",
       "      <td>3</td>\n",
       "      <td>[episode, life, nikander, garbage, man, involv...</td>\n",
       "      <td>1986</td>\n",
       "      <td>7.1</td>\n",
       "      <td>1.191529e+00</td>\n",
       "      <td>3.583519</td>\n",
       "      <td>Shadows in Paradise</td>\n",
       "      <td>(sv, en, fi)</td>\n",
       "      <td>(Comedy, Drama)</td>\n",
       "      <td>(Villealfa Filmproduction Oy,)</td>\n",
       "    </tr>\n",
       "    <tr>\n",
       "      <th>2</th>\n",
       "      <td>5</td>\n",
       "      <td>[te, bellhop, night, joband, hotel, unusual, g...</td>\n",
       "      <td>1995</td>\n",
       "      <td>6.5</td>\n",
       "      <td>2.305240e+00</td>\n",
       "      <td>6.291569</td>\n",
       "      <td>Four Rooms</td>\n",
       "      <td>(en, us)</td>\n",
       "      <td>(Comedy, Crime)</td>\n",
       "      <td>(Miramax Films, A Band Apart)</td>\n",
       "    </tr>\n",
       "    <tr>\n",
       "      <th>3</th>\n",
       "      <td>6</td>\n",
       "      <td>[race, boxing, match, frank, mike, john, rey, ...</td>\n",
       "      <td>1993</td>\n",
       "      <td>6.4</td>\n",
       "      <td>1.877734e+00</td>\n",
       "      <td>4.382027</td>\n",
       "      <td>Judgment Night</td>\n",
       "      <td>(en, jp, us)</td>\n",
       "      <td>(Action, Crime, Thriller)</td>\n",
       "      <td>(Universal Pictures, Largo Entertainment, JVC ...</td>\n",
       "    </tr>\n",
       "    <tr>\n",
       "      <th>4</th>\n",
       "      <td>11</td>\n",
       "      <td>[princess, leia, capture, hold, hostage, evil,...</td>\n",
       "      <td>1977</td>\n",
       "      <td>8.1</td>\n",
       "      <td>3.764675e+00</td>\n",
       "      <td>8.821585</td>\n",
       "      <td>Star Wars Star Wars Collection</td>\n",
       "      <td>(en, us)</td>\n",
       "      <td>(Action, Adventure, Science Fiction)</td>\n",
       "      <td>(Lucasfilm, Twentieth Century Fox Film Corpora...</td>\n",
       "    </tr>\n",
       "    <tr>\n",
       "      <th>...</th>\n",
       "      <td>...</td>\n",
       "      <td>...</td>\n",
       "      <td>...</td>\n",
       "      <td>...</td>\n",
       "      <td>...</td>\n",
       "      <td>...</td>\n",
       "      <td>...</td>\n",
       "      <td>...</td>\n",
       "      <td>...</td>\n",
       "      <td>...</td>\n",
       "    </tr>\n",
       "    <tr>\n",
       "      <th>44008</th>\n",
       "      <td>464819</td>\n",
       "      <td>[interview, session, arnold, schwarzenegger, d...</td>\n",
       "      <td>1992</td>\n",
       "      <td>0.0</td>\n",
       "      <td>9.999995e-07</td>\n",
       "      <td>0.000000</td>\n",
       "      <td>The Making of 'The Terminator': A Retrospective</td>\n",
       "      <td>(en, us)</td>\n",
       "      <td>(Documentary,)</td>\n",
       "      <td>(Missing,)</td>\n",
       "    </tr>\n",
       "    <tr>\n",
       "      <th>44009</th>\n",
       "      <td>465044</td>\n",
       "      <td>[horror, comedy, spoof, conspiracy, theory, mo...</td>\n",
       "      <td>2017</td>\n",
       "      <td>0.0</td>\n",
       "      <td>2.476473e-01</td>\n",
       "      <td>0.000000</td>\n",
       "      <td>Abduction</td>\n",
       "      <td>(en, gb)</td>\n",
       "      <td>(Drama, Fantasy)</td>\n",
       "      <td>(Missing,)</td>\n",
       "    </tr>\n",
       "    <tr>\n",
       "      <th>44010</th>\n",
       "      <td>467731</td>\n",
       "      <td>[fifteenyearold, girl, dotty, fisher, assault,...</td>\n",
       "      <td>1956</td>\n",
       "      <td>0.0</td>\n",
       "      <td>1.188294e-03</td>\n",
       "      <td>0.000000</td>\n",
       "      <td>Tragedy in a Temporary Town</td>\n",
       "      <td>(en, us)</td>\n",
       "      <td>(Drama,)</td>\n",
       "      <td>(Missing,)</td>\n",
       "    </tr>\n",
       "    <tr>\n",
       "      <th>44011</th>\n",
       "      <td>468343</td>\n",
       "      <td>[1910s, beautiful, young, silja, lose, parent,...</td>\n",
       "      <td>1956</td>\n",
       "      <td>0.0</td>\n",
       "      <td>1.201278e-03</td>\n",
       "      <td>0.000000</td>\n",
       "      <td>Silja - nuorena nukkunut</td>\n",
       "      <td>()</td>\n",
       "      <td>(Drama, Romance)</td>\n",
       "      <td>(Missing,)</td>\n",
       "    </tr>\n",
       "    <tr>\n",
       "      <th>44012</th>\n",
       "      <td>469172</td>\n",
       "      <td>[manuel, young, boy, travel, long, ago, presen...</td>\n",
       "      <td>1984</td>\n",
       "      <td>0.0</td>\n",
       "      <td>1.096399e-03</td>\n",
       "      <td>0.000000</td>\n",
       "      <td>Manuel on the Island of Wonders</td>\n",
       "      <td>(fr, pt)</td>\n",
       "      <td>(Drama, Fantasy)</td>\n",
       "      <td>(Les Films du Passage, Institut National de l'...</td>\n",
       "    </tr>\n",
       "  </tbody>\n",
       "</table>\n",
       "<p>44013 rows × 10 columns</p>\n",
       "</div>"
      ],
      "text/plain": [
       "           id                                           overview  \\\n",
       "0           2  [taisto, kasurinen, finnish, coal, miner, fath...   \n",
       "1           3  [episode, life, nikander, garbage, man, involv...   \n",
       "2           5  [te, bellhop, night, joband, hotel, unusual, g...   \n",
       "3           6  [race, boxing, match, frank, mike, john, rey, ...   \n",
       "4          11  [princess, leia, capture, hold, hostage, evil,...   \n",
       "...       ...                                                ...   \n",
       "44008  464819  [interview, session, arnold, schwarzenegger, d...   \n",
       "44009  465044  [horror, comedy, spoof, conspiracy, theory, mo...   \n",
       "44010  467731  [fifteenyearold, girl, dotty, fisher, assault,...   \n",
       "44011  468343  [1910s, beautiful, young, silja, lose, parent,...   \n",
       "44012  469172  [manuel, young, boy, travel, long, ago, presen...   \n",
       "\n",
       "       release_year  vote_average  popularity_log  vote_count_log  \\\n",
       "0              1988           7.1    1.581139e+00        3.806662   \n",
       "1              1986           7.1    1.191529e+00        3.583519   \n",
       "2              1995           6.5    2.305240e+00        6.291569   \n",
       "3              1993           6.4    1.877734e+00        4.382027   \n",
       "4              1977           8.1    3.764675e+00        8.821585   \n",
       "...             ...           ...             ...             ...   \n",
       "44008          1992           0.0    9.999995e-07        0.000000   \n",
       "44009          2017           0.0    2.476473e-01        0.000000   \n",
       "44010          1956           0.0    1.188294e-03        0.000000   \n",
       "44011          1956           0.0    1.201278e-03        0.000000   \n",
       "44012          1984           0.0    1.096399e-03        0.000000   \n",
       "\n",
       "                                       title_collection  \\\n",
       "0                                                Ariel    \n",
       "1                                  Shadows in Paradise    \n",
       "2                                           Four Rooms    \n",
       "3                                       Judgment Night    \n",
       "4                        Star Wars Star Wars Collection   \n",
       "...                                                 ...   \n",
       "44008  The Making of 'The Terminator': A Retrospective    \n",
       "44009                                        Abduction    \n",
       "44010                      Tragedy in a Temporary Town    \n",
       "44011                         Silja - nuorena nukkunut    \n",
       "44012                  Manuel on the Island of Wonders    \n",
       "\n",
       "      concat_country_language                                genres  \\\n",
       "0                    (de, fi)                        (Drama, Crime)   \n",
       "1                (sv, en, fi)                       (Comedy, Drama)   \n",
       "2                    (en, us)                       (Comedy, Crime)   \n",
       "3                (en, jp, us)             (Action, Crime, Thriller)   \n",
       "4                    (en, us)  (Action, Adventure, Science Fiction)   \n",
       "...                       ...                                   ...   \n",
       "44008                (en, us)                        (Documentary,)   \n",
       "44009                (en, gb)                      (Drama, Fantasy)   \n",
       "44010                (en, us)                              (Drama,)   \n",
       "44011                      ()                      (Drama, Romance)   \n",
       "44012                (fr, pt)                      (Drama, Fantasy)   \n",
       "\n",
       "                                    production_companies  \n",
       "0      (Finnish Film Foundation, Villealfa Filmproduc...  \n",
       "1                         (Villealfa Filmproduction Oy,)  \n",
       "2                          (Miramax Films, A Band Apart)  \n",
       "3      (Universal Pictures, Largo Entertainment, JVC ...  \n",
       "4      (Lucasfilm, Twentieth Century Fox Film Corpora...  \n",
       "...                                                  ...  \n",
       "44008                                         (Missing,)  \n",
       "44009                                         (Missing,)  \n",
       "44010                                         (Missing,)  \n",
       "44011                                         (Missing,)  \n",
       "44012  (Les Films du Passage, Institut National de l'...  \n",
       "\n",
       "[44013 rows x 10 columns]"
      ]
     },
     "execution_count": 512,
     "metadata": {},
     "output_type": "execute_result"
    }
   ],
   "source": [
    "modified_df"
   ]
  },
  {
   "cell_type": "code",
   "execution_count": 513,
   "metadata": {},
   "outputs": [
    {
     "data": {
      "text/html": [
       "<div>\n",
       "<style scoped>\n",
       "    .dataframe tbody tr th:only-of-type {\n",
       "        vertical-align: middle;\n",
       "    }\n",
       "\n",
       "    .dataframe tbody tr th {\n",
       "        vertical-align: top;\n",
       "    }\n",
       "\n",
       "    .dataframe thead th {\n",
       "        text-align: right;\n",
       "    }\n",
       "</style>\n",
       "<table border=\"1\" class=\"dataframe\">\n",
       "  <thead>\n",
       "    <tr style=\"text-align: right;\">\n",
       "      <th></th>\n",
       "      <th>id</th>\n",
       "      <th>overview</th>\n",
       "      <th>release_year</th>\n",
       "      <th>vote_average</th>\n",
       "      <th>popularity_log</th>\n",
       "      <th>vote_count_log</th>\n",
       "      <th>title_collection</th>\n",
       "      <th>concat_country_language</th>\n",
       "      <th>genres</th>\n",
       "      <th>production_companies</th>\n",
       "    </tr>\n",
       "  </thead>\n",
       "  <tbody>\n",
       "    <tr>\n",
       "      <th>0</th>\n",
       "      <td>2</td>\n",
       "      <td>[taisto, kasurinen, finnish, coal, miner, fath...</td>\n",
       "      <td>1988</td>\n",
       "      <td>7.1</td>\n",
       "      <td>1.581139</td>\n",
       "      <td>3.806662</td>\n",
       "      <td>[ariel]</td>\n",
       "      <td>(de, fi)</td>\n",
       "      <td>(Drama, Crime)</td>\n",
       "      <td>(Finnish Film Foundation, Villealfa Filmproduc...</td>\n",
       "    </tr>\n",
       "    <tr>\n",
       "      <th>1</th>\n",
       "      <td>3</td>\n",
       "      <td>[episode, life, nikander, garbage, man, involv...</td>\n",
       "      <td>1986</td>\n",
       "      <td>7.1</td>\n",
       "      <td>1.191529</td>\n",
       "      <td>3.583519</td>\n",
       "      <td>[shadow, paradise]</td>\n",
       "      <td>(sv, en, fi)</td>\n",
       "      <td>(Comedy, Drama)</td>\n",
       "      <td>(Villealfa Filmproduction Oy,)</td>\n",
       "    </tr>\n",
       "    <tr>\n",
       "      <th>2</th>\n",
       "      <td>5</td>\n",
       "      <td>[te, bellhop, night, joband, hotel, unusual, g...</td>\n",
       "      <td>1995</td>\n",
       "      <td>6.5</td>\n",
       "      <td>2.305240</td>\n",
       "      <td>6.291569</td>\n",
       "      <td>[room]</td>\n",
       "      <td>(en, us)</td>\n",
       "      <td>(Comedy, Crime)</td>\n",
       "      <td>(Miramax Films, A Band Apart)</td>\n",
       "    </tr>\n",
       "    <tr>\n",
       "      <th>3</th>\n",
       "      <td>6</td>\n",
       "      <td>[race, boxing, match, frank, mike, john, rey, ...</td>\n",
       "      <td>1993</td>\n",
       "      <td>6.4</td>\n",
       "      <td>1.877734</td>\n",
       "      <td>4.382027</td>\n",
       "      <td>[judgment, night]</td>\n",
       "      <td>(en, jp, us)</td>\n",
       "      <td>(Action, Crime, Thriller)</td>\n",
       "      <td>(Universal Pictures, Largo Entertainment, JVC ...</td>\n",
       "    </tr>\n",
       "    <tr>\n",
       "      <th>4</th>\n",
       "      <td>11</td>\n",
       "      <td>[princess, leia, capture, hold, hostage, evil,...</td>\n",
       "      <td>1977</td>\n",
       "      <td>8.1</td>\n",
       "      <td>3.764675</td>\n",
       "      <td>8.821585</td>\n",
       "      <td>[star, war, star, war, collection]</td>\n",
       "      <td>(en, us)</td>\n",
       "      <td>(Action, Adventure, Science Fiction)</td>\n",
       "      <td>(Lucasfilm, Twentieth Century Fox Film Corpora...</td>\n",
       "    </tr>\n",
       "  </tbody>\n",
       "</table>\n",
       "</div>"
      ],
      "text/plain": [
       "   id                                           overview  release_year  \\\n",
       "0   2  [taisto, kasurinen, finnish, coal, miner, fath...          1988   \n",
       "1   3  [episode, life, nikander, garbage, man, involv...          1986   \n",
       "2   5  [te, bellhop, night, joband, hotel, unusual, g...          1995   \n",
       "3   6  [race, boxing, match, frank, mike, john, rey, ...          1993   \n",
       "4  11  [princess, leia, capture, hold, hostage, evil,...          1977   \n",
       "\n",
       "   vote_average  popularity_log  vote_count_log  \\\n",
       "0           7.1        1.581139        3.806662   \n",
       "1           7.1        1.191529        3.583519   \n",
       "2           6.5        2.305240        6.291569   \n",
       "3           6.4        1.877734        4.382027   \n",
       "4           8.1        3.764675        8.821585   \n",
       "\n",
       "                     title_collection concat_country_language  \\\n",
       "0                             [ariel]                (de, fi)   \n",
       "1                  [shadow, paradise]            (sv, en, fi)   \n",
       "2                              [room]                (en, us)   \n",
       "3                   [judgment, night]            (en, jp, us)   \n",
       "4  [star, war, star, war, collection]                (en, us)   \n",
       "\n",
       "                                 genres  \\\n",
       "0                        (Drama, Crime)   \n",
       "1                       (Comedy, Drama)   \n",
       "2                       (Comedy, Crime)   \n",
       "3             (Action, Crime, Thriller)   \n",
       "4  (Action, Adventure, Science Fiction)   \n",
       "\n",
       "                                production_companies  \n",
       "0  (Finnish Film Foundation, Villealfa Filmproduc...  \n",
       "1                     (Villealfa Filmproduction Oy,)  \n",
       "2                      (Miramax Films, A Band Apart)  \n",
       "3  (Universal Pictures, Largo Entertainment, JVC ...  \n",
       "4  (Lucasfilm, Twentieth Century Fox Film Corpora...  "
      ]
     },
     "execution_count": 513,
     "metadata": {},
     "output_type": "execute_result"
    }
   ],
   "source": [
    "# Aplicamos lo mismo para title_collection\n",
    "modified_df[\"title_collection\"]= modified_df[\"title_collection\"].str.lower()\n",
    "modified_df[\"title_collection\"] = modified_df[\"title_collection\"].str.replace(r'[^a-zA-Z0-9\\s]', '', regex=True)\n",
    "modified_df[\"title_collection\"]= modified_df[\"title_collection\"].apply(lenma_and_remove_stopwords)\n",
    "modified_df.head()"
   ]
  },
  {
   "cell_type": "code",
   "execution_count": 514,
   "metadata": {},
   "outputs": [],
   "source": [
    "# removemos duplicados de title_collection\n",
    "modified_df[\"title_collection\"] = modified_df[\"title_collection\"].apply(set).apply(tuple)"
   ]
  },
  {
   "cell_type": "code",
   "execution_count": null,
   "metadata": {},
   "outputs": [
    {
     "data": {
      "text/html": [
       "<div>\n",
       "<style scoped>\n",
       "    .dataframe tbody tr th:only-of-type {\n",
       "        vertical-align: middle;\n",
       "    }\n",
       "\n",
       "    .dataframe tbody tr th {\n",
       "        vertical-align: top;\n",
       "    }\n",
       "\n",
       "    .dataframe thead th {\n",
       "        text-align: right;\n",
       "    }\n",
       "</style>\n",
       "<table border=\"1\" class=\"dataframe\">\n",
       "  <thead>\n",
       "    <tr style=\"text-align: right;\">\n",
       "      <th></th>\n",
       "      <th>id</th>\n",
       "      <th>overview</th>\n",
       "      <th>release_year</th>\n",
       "      <th>vote_average</th>\n",
       "      <th>popularity_log</th>\n",
       "      <th>vote_count_log</th>\n",
       "      <th>title_collection</th>\n",
       "      <th>concat_country_language</th>\n",
       "      <th>genres</th>\n",
       "      <th>production_companies</th>\n",
       "    </tr>\n",
       "  </thead>\n",
       "  <tbody>\n",
       "    <tr>\n",
       "      <th>0</th>\n",
       "      <td>2</td>\n",
       "      <td>[taisto, kasurinen, finnish, coal, miner, fath...</td>\n",
       "      <td>1988</td>\n",
       "      <td>7.1</td>\n",
       "      <td>1.581139e+00</td>\n",
       "      <td>3.806662</td>\n",
       "      <td>(ariel,)</td>\n",
       "      <td>(de, fi)</td>\n",
       "      <td>(Drama, Crime)</td>\n",
       "      <td>(Finnish Film Foundation, Villealfa Filmproduc...</td>\n",
       "    </tr>\n",
       "    <tr>\n",
       "      <th>1</th>\n",
       "      <td>3</td>\n",
       "      <td>[episode, life, nikander, garbage, man, involv...</td>\n",
       "      <td>1986</td>\n",
       "      <td>7.1</td>\n",
       "      <td>1.191529e+00</td>\n",
       "      <td>3.583519</td>\n",
       "      <td>(shadow, paradise)</td>\n",
       "      <td>(sv, en, fi)</td>\n",
       "      <td>(Comedy, Drama)</td>\n",
       "      <td>(Villealfa Filmproduction Oy,)</td>\n",
       "    </tr>\n",
       "    <tr>\n",
       "      <th>2</th>\n",
       "      <td>5</td>\n",
       "      <td>[te, bellhop, night, joband, hotel, unusual, g...</td>\n",
       "      <td>1995</td>\n",
       "      <td>6.5</td>\n",
       "      <td>2.305240e+00</td>\n",
       "      <td>6.291569</td>\n",
       "      <td>(room,)</td>\n",
       "      <td>(en, us)</td>\n",
       "      <td>(Comedy, Crime)</td>\n",
       "      <td>(Miramax Films, A Band Apart)</td>\n",
       "    </tr>\n",
       "    <tr>\n",
       "      <th>3</th>\n",
       "      <td>6</td>\n",
       "      <td>[race, boxing, match, frank, mike, john, rey, ...</td>\n",
       "      <td>1993</td>\n",
       "      <td>6.4</td>\n",
       "      <td>1.877734e+00</td>\n",
       "      <td>4.382027</td>\n",
       "      <td>(night, judgment)</td>\n",
       "      <td>(en, jp, us)</td>\n",
       "      <td>(Action, Crime, Thriller)</td>\n",
       "      <td>(Universal Pictures, Largo Entertainment, JVC ...</td>\n",
       "    </tr>\n",
       "    <tr>\n",
       "      <th>4</th>\n",
       "      <td>11</td>\n",
       "      <td>[princess, leia, capture, hold, hostage, evil,...</td>\n",
       "      <td>1977</td>\n",
       "      <td>8.1</td>\n",
       "      <td>3.764675e+00</td>\n",
       "      <td>8.821585</td>\n",
       "      <td>(star, collection, war)</td>\n",
       "      <td>(en, us)</td>\n",
       "      <td>(Action, Adventure, Science Fiction)</td>\n",
       "      <td>(Lucasfilm, Twentieth Century Fox Film Corpora...</td>\n",
       "    </tr>\n",
       "    <tr>\n",
       "      <th>...</th>\n",
       "      <td>...</td>\n",
       "      <td>...</td>\n",
       "      <td>...</td>\n",
       "      <td>...</td>\n",
       "      <td>...</td>\n",
       "      <td>...</td>\n",
       "      <td>...</td>\n",
       "      <td>...</td>\n",
       "      <td>...</td>\n",
       "      <td>...</td>\n",
       "    </tr>\n",
       "    <tr>\n",
       "      <th>44008</th>\n",
       "      <td>464819</td>\n",
       "      <td>[interview, session, arnold, schwarzenegger, d...</td>\n",
       "      <td>1992</td>\n",
       "      <td>0.0</td>\n",
       "      <td>9.999995e-07</td>\n",
       "      <td>0.000000</td>\n",
       "      <td>(making, terminator, retrospective)</td>\n",
       "      <td>(en, us)</td>\n",
       "      <td>(Documentary,)</td>\n",
       "      <td>(Missing,)</td>\n",
       "    </tr>\n",
       "    <tr>\n",
       "      <th>44009</th>\n",
       "      <td>465044</td>\n",
       "      <td>[horror, comedy, spoof, conspiracy, theory, mo...</td>\n",
       "      <td>2017</td>\n",
       "      <td>0.0</td>\n",
       "      <td>2.476473e-01</td>\n",
       "      <td>0.000000</td>\n",
       "      <td>(abduction,)</td>\n",
       "      <td>(en, gb)</td>\n",
       "      <td>(Drama, Fantasy)</td>\n",
       "      <td>(Missing,)</td>\n",
       "    </tr>\n",
       "    <tr>\n",
       "      <th>44010</th>\n",
       "      <td>467731</td>\n",
       "      <td>[fifteenyearold, girl, dotty, fisher, assault,...</td>\n",
       "      <td>1956</td>\n",
       "      <td>0.0</td>\n",
       "      <td>1.188294e-03</td>\n",
       "      <td>0.000000</td>\n",
       "      <td>(temporary, town, tragedy)</td>\n",
       "      <td>(en, us)</td>\n",
       "      <td>(Drama,)</td>\n",
       "      <td>(Missing,)</td>\n",
       "    </tr>\n",
       "    <tr>\n",
       "      <th>44011</th>\n",
       "      <td>468343</td>\n",
       "      <td>[1910s, beautiful, young, silja, lose, parent,...</td>\n",
       "      <td>1956</td>\n",
       "      <td>0.0</td>\n",
       "      <td>1.201278e-03</td>\n",
       "      <td>0.000000</td>\n",
       "      <td>(silja, nuorena,  , nukkunut)</td>\n",
       "      <td>()</td>\n",
       "      <td>(Drama, Romance)</td>\n",
       "      <td>(Missing,)</td>\n",
       "    </tr>\n",
       "    <tr>\n",
       "      <th>44012</th>\n",
       "      <td>469172</td>\n",
       "      <td>[manuel, young, boy, travel, long, ago, presen...</td>\n",
       "      <td>1984</td>\n",
       "      <td>0.0</td>\n",
       "      <td>1.096399e-03</td>\n",
       "      <td>0.000000</td>\n",
       "      <td>(island, manuel, wonder)</td>\n",
       "      <td>(fr, pt)</td>\n",
       "      <td>(Drama, Fantasy)</td>\n",
       "      <td>(Les Films du Passage, Institut National de l'...</td>\n",
       "    </tr>\n",
       "  </tbody>\n",
       "</table>\n",
       "<p>44013 rows × 10 columns</p>\n",
       "</div>"
      ],
      "text/plain": [
       "           id                                           overview  \\\n",
       "0           2  [taisto, kasurinen, finnish, coal, miner, fath...   \n",
       "1           3  [episode, life, nikander, garbage, man, involv...   \n",
       "2           5  [te, bellhop, night, joband, hotel, unusual, g...   \n",
       "3           6  [race, boxing, match, frank, mike, john, rey, ...   \n",
       "4          11  [princess, leia, capture, hold, hostage, evil,...   \n",
       "...       ...                                                ...   \n",
       "44008  464819  [interview, session, arnold, schwarzenegger, d...   \n",
       "44009  465044  [horror, comedy, spoof, conspiracy, theory, mo...   \n",
       "44010  467731  [fifteenyearold, girl, dotty, fisher, assault,...   \n",
       "44011  468343  [1910s, beautiful, young, silja, lose, parent,...   \n",
       "44012  469172  [manuel, young, boy, travel, long, ago, presen...   \n",
       "\n",
       "       release_year  vote_average  popularity_log  vote_count_log  \\\n",
       "0              1988           7.1    1.581139e+00        3.806662   \n",
       "1              1986           7.1    1.191529e+00        3.583519   \n",
       "2              1995           6.5    2.305240e+00        6.291569   \n",
       "3              1993           6.4    1.877734e+00        4.382027   \n",
       "4              1977           8.1    3.764675e+00        8.821585   \n",
       "...             ...           ...             ...             ...   \n",
       "44008          1992           0.0    9.999995e-07        0.000000   \n",
       "44009          2017           0.0    2.476473e-01        0.000000   \n",
       "44010          1956           0.0    1.188294e-03        0.000000   \n",
       "44011          1956           0.0    1.201278e-03        0.000000   \n",
       "44012          1984           0.0    1.096399e-03        0.000000   \n",
       "\n",
       "                          title_collection concat_country_language  \\\n",
       "0                                 (ariel,)                (de, fi)   \n",
       "1                       (shadow, paradise)            (sv, en, fi)   \n",
       "2                                  (room,)                (en, us)   \n",
       "3                        (night, judgment)            (en, jp, us)   \n",
       "4                  (star, collection, war)                (en, us)   \n",
       "...                                    ...                     ...   \n",
       "44008  (making, terminator, retrospective)                (en, us)   \n",
       "44009                         (abduction,)                (en, gb)   \n",
       "44010           (temporary, town, tragedy)                (en, us)   \n",
       "44011        (silja, nuorena,  , nukkunut)                      ()   \n",
       "44012             (island, manuel, wonder)                (fr, pt)   \n",
       "\n",
       "                                     genres  \\\n",
       "0                            (Drama, Crime)   \n",
       "1                           (Comedy, Drama)   \n",
       "2                           (Comedy, Crime)   \n",
       "3                 (Action, Crime, Thriller)   \n",
       "4      (Action, Adventure, Science Fiction)   \n",
       "...                                     ...   \n",
       "44008                        (Documentary,)   \n",
       "44009                      (Drama, Fantasy)   \n",
       "44010                              (Drama,)   \n",
       "44011                      (Drama, Romance)   \n",
       "44012                      (Drama, Fantasy)   \n",
       "\n",
       "                                    production_companies  \n",
       "0      (Finnish Film Foundation, Villealfa Filmproduc...  \n",
       "1                         (Villealfa Filmproduction Oy,)  \n",
       "2                          (Miramax Films, A Band Apart)  \n",
       "3      (Universal Pictures, Largo Entertainment, JVC ...  \n",
       "4      (Lucasfilm, Twentieth Century Fox Film Corpora...  \n",
       "...                                                  ...  \n",
       "44008                                         (Missing,)  \n",
       "44009                                         (Missing,)  \n",
       "44010                                         (Missing,)  \n",
       "44011                                         (Missing,)  \n",
       "44012  (Les Films du Passage, Institut National de l'...  \n",
       "\n",
       "[44013 rows x 10 columns]"
      ]
     },
     "execution_count": 515,
     "metadata": {},
     "output_type": "execute_result"
    }
   ],
   "source": [
    "modified_df"
   ]
  },
  {
   "cell_type": "code",
   "execution_count": null,
   "metadata": {},
   "outputs": [
    {
     "name": "stdout",
     "output_type": "stream",
     "text": [
      "<class 'pandas.core.frame.DataFrame'>\n",
      "RangeIndex: 44013 entries, 0 to 44012\n",
      "Data columns (total 10 columns):\n",
      " #   Column                   Non-Null Count  Dtype  \n",
      "---  ------                   --------------  -----  \n",
      " 0   id                       44013 non-null  int64  \n",
      " 1   overview                 44013 non-null  object \n",
      " 2   release_year             44013 non-null  int64  \n",
      " 3   vote_average             44013 non-null  float64\n",
      " 4   popularity_log           44013 non-null  float64\n",
      " 5   vote_count_log           44013 non-null  float64\n",
      " 6   title_collection         44013 non-null  object \n",
      " 7   concat_country_language  44013 non-null  object \n",
      " 8   genres                   44013 non-null  object \n",
      " 9   production_companies     44013 non-null  object \n",
      "dtypes: float64(3), int64(2), object(5)\n",
      "memory usage: 3.4+ MB\n"
     ]
    }
   ],
   "source": [
    "#Vemos que la memoria ocupada por este dataframe es de 3,4Megas\n",
    "modified_df.info()"
   ]
  },
  {
   "cell_type": "code",
   "execution_count": 518,
   "metadata": {},
   "outputs": [],
   "source": [
    "#guardamos nuestro avance.\n",
    "modified_df.to_csv(\"transformed/movies_eda.csv\", index=False)"
   ]
  },
  {
   "cell_type": "markdown",
   "metadata": {},
   "source": [
    "# Preparación para algoritmo de Machine Learning"
   ]
  },
  {
   "cell_type": "markdown",
   "metadata": {},
   "source": [
    "## Tratamiento Overview"
   ]
  },
  {
   "cell_type": "markdown",
   "metadata": {},
   "source": [
    "### Reduccion del max size."
   ]
  },
  {
   "cell_type": "code",
   "execution_count": 521,
   "metadata": {},
   "outputs": [
    {
     "data": {
      "text/plain": [
       "count    44013.000000\n",
       "mean        29.450912\n",
       "std         18.542717\n",
       "min          0.000000\n",
       "25%         15.000000\n",
       "50%         26.000000\n",
       "75%         39.000000\n",
       "max        146.000000\n",
       "Name: overview, dtype: float64"
      ]
     },
     "execution_count": 521,
     "metadata": {},
     "output_type": "execute_result"
    }
   ],
   "source": [
    "# vemos las distribución de palabras de esta columna. hay unos outliers.\n",
    "eval_df = modified_df[\"overview\"].apply(len)\n",
    "eval_df.describe()"
   ]
  },
  {
   "cell_type": "code",
   "execution_count": 523,
   "metadata": {},
   "outputs": [
    {
     "data": {
      "text/plain": [
       "<Axes: xlabel='overview', ylabel='Count'>"
      ]
     },
     "execution_count": 523,
     "metadata": {},
     "output_type": "execute_result"
    },
    {
     "data": {
      "image/png": "[encoded data removed]",
      "text/plain": [
       "<Figure size 640x480 with 1 Axes>"
      ]
     },
     "metadata": {},
     "output_type": "display_data"
    }
   ],
   "source": [
    "sns.histplot(eval_df, bins=20)"
   ]
  },
  {
   "cell_type": "code",
   "execution_count": 524,
   "metadata": {},
   "outputs": [],
   "source": [
    "# Creamos esta funcion. Lo que queremos hacer es eliminar palabras de los Overview con mucho texto\n",
    "def remove_items(word_list: list):\n",
    "    while len(word_list)>50:\n",
    "        word_list.pop()\n",
    "    return word_list"
   ]
  },
  {
   "cell_type": "code",
   "execution_count": null,
   "metadata": {},
   "outputs": [],
   "source": [
    "# creamos un dataset de prueba\n",
    "eval_df = modified_df[\"overview\"].head(1000)"
   ]
  },
  {
   "cell_type": "code",
   "execution_count": null,
   "metadata": {},
   "outputs": [
    {
     "data": {
      "text/plain": [
       "count    1000.000000\n",
       "mean       27.233000\n",
       "std        12.860642\n",
       "min         2.000000\n",
       "25%        17.000000\n",
       "50%        26.000000\n",
       "75%        35.000000\n",
       "max       102.000000\n",
       "Name: overview, dtype: float64"
      ]
     },
     "execution_count": 532,
     "metadata": {},
     "output_type": "execute_result"
    }
   ],
   "source": [
    "# verificamos las estadisticas previas a la aplicacion\n",
    "eval_df.apply(len).describe()"
   ]
  },
  {
   "cell_type": "code",
   "execution_count": null,
   "metadata": {},
   "outputs": [
    {
     "data": {
      "text/plain": [
       "count    1000.00000\n",
       "mean       26.68300\n",
       "std        11.19669\n",
       "min         2.00000\n",
       "25%        17.00000\n",
       "50%        26.00000\n",
       "75%        35.00000\n",
       "max        50.00000\n",
       "Name: overview, dtype: float64"
      ]
     },
     "execution_count": 533,
     "metadata": {},
     "output_type": "execute_result"
    }
   ],
   "source": [
    "# observamos el max en 50, lo que indica que se logró reducir las palabras correctamente.\n",
    "eval_df.apply(remove_items).apply(len).describe()"
   ]
  },
  {
   "cell_type": "code",
   "execution_count": 535,
   "metadata": {},
   "outputs": [],
   "source": [
    "# Aplicamos el tratamiento al dataset.\n",
    "movies_df = modified_df.copy()\n",
    "movies_df[\"overview\"] = movies_df[\"overview\"].apply(remove_items)"
   ]
  },
  {
   "cell_type": "markdown",
   "metadata": {},
   "source": [
    "### Aplicacion TF-IDF"
   ]
  },
  {
   "cell_type": "code",
   "execution_count": null,
   "metadata": {},
   "outputs": [],
   "source": [
    "#importamos nuestro modelo TFIDFVectorizer\n",
    "from sklearn.feature_extraction.text import TfidfVectorizer"
   ]
  },
  {
   "cell_type": "code",
   "execution_count": null,
   "metadata": {},
   "outputs": [],
   "source": [
    "# hacemos una prueba de 1000 filas.\n",
    "tfidf_vectorizer = TfidfVectorizer(max_features=50)\n",
    "tfidf_matrix = tfidf_vectorizer.fit_transform(movies_df['overview'].apply(\" \".join).head(1000))\n",
    "tfidf_df = pd.DataFrame(tfidf_matrix.toarray(), columns=tfidf_vectorizer.get_feature_names_out())"
   ]
  },
  {
   "cell_type": "code",
   "execution_count": null,
   "metadata": {},
   "outputs": [
    {
     "data": {
      "text/html": [
       "<div>\n",
       "<style scoped>\n",
       "    .dataframe tbody tr th:only-of-type {\n",
       "        vertical-align: middle;\n",
       "    }\n",
       "\n",
       "    .dataframe tbody tr th {\n",
       "        vertical-align: top;\n",
       "    }\n",
       "\n",
       "    .dataframe thead th {\n",
       "        text-align: right;\n",
       "    }\n",
       "</style>\n",
       "<table border=\"1\" class=\"dataframe\">\n",
       "  <thead>\n",
       "    <tr style=\"text-align: right;\">\n",
       "      <th></th>\n",
       "      <th>american</th>\n",
       "      <th>begin</th>\n",
       "      <th>city</th>\n",
       "      <th>come</th>\n",
       "      <th>day</th>\n",
       "      <th>death</th>\n",
       "      <th>director</th>\n",
       "      <th>discover</th>\n",
       "      <th>fall</th>\n",
       "      <th>family</th>\n",
       "      <th>...</th>\n",
       "      <th>town</th>\n",
       "      <th>try</th>\n",
       "      <th>war</th>\n",
       "      <th>way</th>\n",
       "      <th>wife</th>\n",
       "      <th>woman</th>\n",
       "      <th>work</th>\n",
       "      <th>world</th>\n",
       "      <th>year</th>\n",
       "      <th>young</th>\n",
       "    </tr>\n",
       "  </thead>\n",
       "  <tbody>\n",
       "    <tr>\n",
       "      <th>0</th>\n",
       "      <td>0.0</td>\n",
       "      <td>0.0</td>\n",
       "      <td>0.0</td>\n",
       "      <td>0.000000</td>\n",
       "      <td>0.000000</td>\n",
       "      <td>0.000000</td>\n",
       "      <td>0.0</td>\n",
       "      <td>0.0</td>\n",
       "      <td>0.0</td>\n",
       "      <td>0.0</td>\n",
       "      <td>...</td>\n",
       "      <td>0.0</td>\n",
       "      <td>0.000000</td>\n",
       "      <td>0.0</td>\n",
       "      <td>0.0</td>\n",
       "      <td>0.0</td>\n",
       "      <td>0.000000</td>\n",
       "      <td>0.000000</td>\n",
       "      <td>0.000000</td>\n",
       "      <td>0.000000</td>\n",
       "      <td>0.000000</td>\n",
       "    </tr>\n",
       "    <tr>\n",
       "      <th>1</th>\n",
       "      <td>0.0</td>\n",
       "      <td>0.0</td>\n",
       "      <td>0.0</td>\n",
       "      <td>0.000000</td>\n",
       "      <td>0.000000</td>\n",
       "      <td>0.705739</td>\n",
       "      <td>0.0</td>\n",
       "      <td>0.0</td>\n",
       "      <td>0.0</td>\n",
       "      <td>0.0</td>\n",
       "      <td>...</td>\n",
       "      <td>0.0</td>\n",
       "      <td>0.000000</td>\n",
       "      <td>0.0</td>\n",
       "      <td>0.0</td>\n",
       "      <td>0.0</td>\n",
       "      <td>0.000000</td>\n",
       "      <td>0.000000</td>\n",
       "      <td>0.000000</td>\n",
       "      <td>0.000000</td>\n",
       "      <td>0.000000</td>\n",
       "    </tr>\n",
       "    <tr>\n",
       "      <th>2</th>\n",
       "      <td>0.0</td>\n",
       "      <td>0.0</td>\n",
       "      <td>0.0</td>\n",
       "      <td>0.000000</td>\n",
       "      <td>0.000000</td>\n",
       "      <td>0.000000</td>\n",
       "      <td>0.0</td>\n",
       "      <td>0.0</td>\n",
       "      <td>0.0</td>\n",
       "      <td>0.0</td>\n",
       "      <td>...</td>\n",
       "      <td>0.0</td>\n",
       "      <td>0.000000</td>\n",
       "      <td>0.0</td>\n",
       "      <td>0.0</td>\n",
       "      <td>0.0</td>\n",
       "      <td>0.000000</td>\n",
       "      <td>0.000000</td>\n",
       "      <td>0.000000</td>\n",
       "      <td>0.000000</td>\n",
       "      <td>0.000000</td>\n",
       "    </tr>\n",
       "    <tr>\n",
       "      <th>3</th>\n",
       "      <td>0.0</td>\n",
       "      <td>0.0</td>\n",
       "      <td>0.0</td>\n",
       "      <td>0.000000</td>\n",
       "      <td>0.000000</td>\n",
       "      <td>0.000000</td>\n",
       "      <td>0.0</td>\n",
       "      <td>0.0</td>\n",
       "      <td>0.0</td>\n",
       "      <td>0.0</td>\n",
       "      <td>...</td>\n",
       "      <td>0.0</td>\n",
       "      <td>0.000000</td>\n",
       "      <td>0.0</td>\n",
       "      <td>0.0</td>\n",
       "      <td>0.0</td>\n",
       "      <td>0.000000</td>\n",
       "      <td>0.000000</td>\n",
       "      <td>0.000000</td>\n",
       "      <td>0.000000</td>\n",
       "      <td>0.000000</td>\n",
       "    </tr>\n",
       "    <tr>\n",
       "      <th>4</th>\n",
       "      <td>0.0</td>\n",
       "      <td>0.0</td>\n",
       "      <td>0.0</td>\n",
       "      <td>0.000000</td>\n",
       "      <td>0.000000</td>\n",
       "      <td>0.000000</td>\n",
       "      <td>0.0</td>\n",
       "      <td>0.0</td>\n",
       "      <td>0.0</td>\n",
       "      <td>0.0</td>\n",
       "      <td>...</td>\n",
       "      <td>0.0</td>\n",
       "      <td>0.000000</td>\n",
       "      <td>0.0</td>\n",
       "      <td>0.0</td>\n",
       "      <td>0.0</td>\n",
       "      <td>0.000000</td>\n",
       "      <td>0.000000</td>\n",
       "      <td>0.000000</td>\n",
       "      <td>0.000000</td>\n",
       "      <td>0.000000</td>\n",
       "    </tr>\n",
       "    <tr>\n",
       "      <th>...</th>\n",
       "      <td>...</td>\n",
       "      <td>...</td>\n",
       "      <td>...</td>\n",
       "      <td>...</td>\n",
       "      <td>...</td>\n",
       "      <td>...</td>\n",
       "      <td>...</td>\n",
       "      <td>...</td>\n",
       "      <td>...</td>\n",
       "      <td>...</td>\n",
       "      <td>...</td>\n",
       "      <td>...</td>\n",
       "      <td>...</td>\n",
       "      <td>...</td>\n",
       "      <td>...</td>\n",
       "      <td>...</td>\n",
       "      <td>...</td>\n",
       "      <td>...</td>\n",
       "      <td>...</td>\n",
       "      <td>...</td>\n",
       "      <td>...</td>\n",
       "    </tr>\n",
       "    <tr>\n",
       "      <th>995</th>\n",
       "      <td>0.0</td>\n",
       "      <td>0.0</td>\n",
       "      <td>0.0</td>\n",
       "      <td>0.000000</td>\n",
       "      <td>0.000000</td>\n",
       "      <td>0.000000</td>\n",
       "      <td>0.0</td>\n",
       "      <td>0.0</td>\n",
       "      <td>0.0</td>\n",
       "      <td>0.0</td>\n",
       "      <td>...</td>\n",
       "      <td>0.0</td>\n",
       "      <td>0.000000</td>\n",
       "      <td>0.0</td>\n",
       "      <td>0.0</td>\n",
       "      <td>0.0</td>\n",
       "      <td>0.000000</td>\n",
       "      <td>0.000000</td>\n",
       "      <td>0.000000</td>\n",
       "      <td>0.000000</td>\n",
       "      <td>0.000000</td>\n",
       "    </tr>\n",
       "    <tr>\n",
       "      <th>996</th>\n",
       "      <td>0.0</td>\n",
       "      <td>0.0</td>\n",
       "      <td>0.0</td>\n",
       "      <td>0.345017</td>\n",
       "      <td>0.341939</td>\n",
       "      <td>0.000000</td>\n",
       "      <td>0.0</td>\n",
       "      <td>0.0</td>\n",
       "      <td>0.0</td>\n",
       "      <td>0.0</td>\n",
       "      <td>...</td>\n",
       "      <td>0.0</td>\n",
       "      <td>0.000000</td>\n",
       "      <td>0.0</td>\n",
       "      <td>0.0</td>\n",
       "      <td>0.0</td>\n",
       "      <td>0.309352</td>\n",
       "      <td>0.346597</td>\n",
       "      <td>0.000000</td>\n",
       "      <td>0.320523</td>\n",
       "      <td>0.274932</td>\n",
       "    </tr>\n",
       "    <tr>\n",
       "      <th>997</th>\n",
       "      <td>0.0</td>\n",
       "      <td>0.0</td>\n",
       "      <td>0.0</td>\n",
       "      <td>0.000000</td>\n",
       "      <td>0.000000</td>\n",
       "      <td>0.000000</td>\n",
       "      <td>0.0</td>\n",
       "      <td>0.0</td>\n",
       "      <td>0.0</td>\n",
       "      <td>0.0</td>\n",
       "      <td>...</td>\n",
       "      <td>0.0</td>\n",
       "      <td>0.000000</td>\n",
       "      <td>0.0</td>\n",
       "      <td>0.0</td>\n",
       "      <td>0.0</td>\n",
       "      <td>0.275431</td>\n",
       "      <td>0.000000</td>\n",
       "      <td>0.256401</td>\n",
       "      <td>0.000000</td>\n",
       "      <td>0.000000</td>\n",
       "    </tr>\n",
       "    <tr>\n",
       "      <th>998</th>\n",
       "      <td>0.0</td>\n",
       "      <td>0.0</td>\n",
       "      <td>0.0</td>\n",
       "      <td>0.000000</td>\n",
       "      <td>0.000000</td>\n",
       "      <td>0.000000</td>\n",
       "      <td>0.0</td>\n",
       "      <td>0.0</td>\n",
       "      <td>0.0</td>\n",
       "      <td>0.0</td>\n",
       "      <td>...</td>\n",
       "      <td>0.0</td>\n",
       "      <td>0.000000</td>\n",
       "      <td>0.0</td>\n",
       "      <td>0.0</td>\n",
       "      <td>0.0</td>\n",
       "      <td>0.000000</td>\n",
       "      <td>0.000000</td>\n",
       "      <td>0.000000</td>\n",
       "      <td>0.000000</td>\n",
       "      <td>0.000000</td>\n",
       "    </tr>\n",
       "    <tr>\n",
       "      <th>999</th>\n",
       "      <td>0.0</td>\n",
       "      <td>0.0</td>\n",
       "      <td>0.0</td>\n",
       "      <td>0.733887</td>\n",
       "      <td>0.000000</td>\n",
       "      <td>0.000000</td>\n",
       "      <td>0.0</td>\n",
       "      <td>0.0</td>\n",
       "      <td>0.0</td>\n",
       "      <td>0.0</td>\n",
       "      <td>...</td>\n",
       "      <td>0.0</td>\n",
       "      <td>0.679272</td>\n",
       "      <td>0.0</td>\n",
       "      <td>0.0</td>\n",
       "      <td>0.0</td>\n",
       "      <td>0.000000</td>\n",
       "      <td>0.000000</td>\n",
       "      <td>0.000000</td>\n",
       "      <td>0.000000</td>\n",
       "      <td>0.000000</td>\n",
       "    </tr>\n",
       "  </tbody>\n",
       "</table>\n",
       "<p>1000 rows × 50 columns</p>\n",
       "</div>"
      ],
      "text/plain": [
       "     american  begin  city      come       day     death  director  discover  \\\n",
       "0         0.0    0.0   0.0  0.000000  0.000000  0.000000       0.0       0.0   \n",
       "1         0.0    0.0   0.0  0.000000  0.000000  0.705739       0.0       0.0   \n",
       "2         0.0    0.0   0.0  0.000000  0.000000  0.000000       0.0       0.0   \n",
       "3         0.0    0.0   0.0  0.000000  0.000000  0.000000       0.0       0.0   \n",
       "4         0.0    0.0   0.0  0.000000  0.000000  0.000000       0.0       0.0   \n",
       "..        ...    ...   ...       ...       ...       ...       ...       ...   \n",
       "995       0.0    0.0   0.0  0.000000  0.000000  0.000000       0.0       0.0   \n",
       "996       0.0    0.0   0.0  0.345017  0.341939  0.000000       0.0       0.0   \n",
       "997       0.0    0.0   0.0  0.000000  0.000000  0.000000       0.0       0.0   \n",
       "998       0.0    0.0   0.0  0.000000  0.000000  0.000000       0.0       0.0   \n",
       "999       0.0    0.0   0.0  0.733887  0.000000  0.000000       0.0       0.0   \n",
       "\n",
       "     fall  family  ...  town       try  war  way  wife     woman      work  \\\n",
       "0     0.0     0.0  ...   0.0  0.000000  0.0  0.0   0.0  0.000000  0.000000   \n",
       "1     0.0     0.0  ...   0.0  0.000000  0.0  0.0   0.0  0.000000  0.000000   \n",
       "2     0.0     0.0  ...   0.0  0.000000  0.0  0.0   0.0  0.000000  0.000000   \n",
       "3     0.0     0.0  ...   0.0  0.000000  0.0  0.0   0.0  0.000000  0.000000   \n",
       "4     0.0     0.0  ...   0.0  0.000000  0.0  0.0   0.0  0.000000  0.000000   \n",
       "..    ...     ...  ...   ...       ...  ...  ...   ...       ...       ...   \n",
       "995   0.0     0.0  ...   0.0  0.000000  0.0  0.0   0.0  0.000000  0.000000   \n",
       "996   0.0     0.0  ...   0.0  0.000000  0.0  0.0   0.0  0.309352  0.346597   \n",
       "997   0.0     0.0  ...   0.0  0.000000  0.0  0.0   0.0  0.275431  0.000000   \n",
       "998   0.0     0.0  ...   0.0  0.000000  0.0  0.0   0.0  0.000000  0.000000   \n",
       "999   0.0     0.0  ...   0.0  0.679272  0.0  0.0   0.0  0.000000  0.000000   \n",
       "\n",
       "        world      year     young  \n",
       "0    0.000000  0.000000  0.000000  \n",
       "1    0.000000  0.000000  0.000000  \n",
       "2    0.000000  0.000000  0.000000  \n",
       "3    0.000000  0.000000  0.000000  \n",
       "4    0.000000  0.000000  0.000000  \n",
       "..        ...       ...       ...  \n",
       "995  0.000000  0.000000  0.000000  \n",
       "996  0.000000  0.320523  0.274932  \n",
       "997  0.256401  0.000000  0.000000  \n",
       "998  0.000000  0.000000  0.000000  \n",
       "999  0.000000  0.000000  0.000000  \n",
       "\n",
       "[1000 rows x 50 columns]"
      ]
     },
     "execution_count": 554,
     "metadata": {},
     "output_type": "execute_result"
    }
   ],
   "source": [
    "# El resultado se obtuvo rapidamente. 0.0s \n",
    "tfidf_df"
   ]
  },
  {
   "cell_type": "code",
   "execution_count": null,
   "metadata": {},
   "outputs": [
    {
     "data": {
      "text/html": [
       "<div>\n",
       "<style scoped>\n",
       "    .dataframe tbody tr th:only-of-type {\n",
       "        vertical-align: middle;\n",
       "    }\n",
       "\n",
       "    .dataframe tbody tr th {\n",
       "        vertical-align: top;\n",
       "    }\n",
       "\n",
       "    .dataframe thead th {\n",
       "        text-align: right;\n",
       "    }\n",
       "</style>\n",
       "<table border=\"1\" class=\"dataframe\">\n",
       "  <thead>\n",
       "    <tr style=\"text-align: right;\">\n",
       "      <th></th>\n",
       "      <th>begin</th>\n",
       "      <th>boy</th>\n",
       "      <th>come</th>\n",
       "      <th>daughter</th>\n",
       "      <th>day</th>\n",
       "      <th>discover</th>\n",
       "      <th>fall</th>\n",
       "      <th>family</th>\n",
       "      <th>father</th>\n",
       "      <th>film</th>\n",
       "      <th>...</th>\n",
       "      <th>try</th>\n",
       "      <th>turn</th>\n",
       "      <th>war</th>\n",
       "      <th>way</th>\n",
       "      <th>wife</th>\n",
       "      <th>woman</th>\n",
       "      <th>work</th>\n",
       "      <th>world</th>\n",
       "      <th>year</th>\n",
       "      <th>young</th>\n",
       "    </tr>\n",
       "  </thead>\n",
       "  <tbody>\n",
       "    <tr>\n",
       "      <th>0</th>\n",
       "      <td>0.0</td>\n",
       "      <td>0.000000</td>\n",
       "      <td>0.0</td>\n",
       "      <td>0.0</td>\n",
       "      <td>0.0</td>\n",
       "      <td>0.0</td>\n",
       "      <td>0.0</td>\n",
       "      <td>0.0</td>\n",
       "      <td>0.477451</td>\n",
       "      <td>0.000000</td>\n",
       "      <td>...</td>\n",
       "      <td>0.000000</td>\n",
       "      <td>0.000000</td>\n",
       "      <td>0.00000</td>\n",
       "      <td>0.0</td>\n",
       "      <td>0.0</td>\n",
       "      <td>0.000000</td>\n",
       "      <td>0.000000</td>\n",
       "      <td>0.0</td>\n",
       "      <td>0.0</td>\n",
       "      <td>0.000000</td>\n",
       "    </tr>\n",
       "    <tr>\n",
       "      <th>1</th>\n",
       "      <td>0.0</td>\n",
       "      <td>0.000000</td>\n",
       "      <td>0.0</td>\n",
       "      <td>0.0</td>\n",
       "      <td>0.0</td>\n",
       "      <td>0.0</td>\n",
       "      <td>0.0</td>\n",
       "      <td>0.0</td>\n",
       "      <td>0.000000</td>\n",
       "      <td>0.000000</td>\n",
       "      <td>...</td>\n",
       "      <td>0.000000</td>\n",
       "      <td>0.000000</td>\n",
       "      <td>0.00000</td>\n",
       "      <td>0.0</td>\n",
       "      <td>0.0</td>\n",
       "      <td>0.000000</td>\n",
       "      <td>0.000000</td>\n",
       "      <td>0.0</td>\n",
       "      <td>0.0</td>\n",
       "      <td>0.000000</td>\n",
       "    </tr>\n",
       "    <tr>\n",
       "      <th>2</th>\n",
       "      <td>0.0</td>\n",
       "      <td>0.000000</td>\n",
       "      <td>0.0</td>\n",
       "      <td>0.0</td>\n",
       "      <td>0.0</td>\n",
       "      <td>0.0</td>\n",
       "      <td>0.0</td>\n",
       "      <td>0.0</td>\n",
       "      <td>0.000000</td>\n",
       "      <td>0.000000</td>\n",
       "      <td>...</td>\n",
       "      <td>0.000000</td>\n",
       "      <td>0.000000</td>\n",
       "      <td>0.00000</td>\n",
       "      <td>0.0</td>\n",
       "      <td>0.0</td>\n",
       "      <td>0.000000</td>\n",
       "      <td>0.000000</td>\n",
       "      <td>0.0</td>\n",
       "      <td>0.0</td>\n",
       "      <td>0.000000</td>\n",
       "    </tr>\n",
       "    <tr>\n",
       "      <th>3</th>\n",
       "      <td>0.0</td>\n",
       "      <td>0.000000</td>\n",
       "      <td>0.0</td>\n",
       "      <td>0.0</td>\n",
       "      <td>0.0</td>\n",
       "      <td>0.0</td>\n",
       "      <td>0.0</td>\n",
       "      <td>0.0</td>\n",
       "      <td>0.000000</td>\n",
       "      <td>0.000000</td>\n",
       "      <td>...</td>\n",
       "      <td>0.000000</td>\n",
       "      <td>0.700502</td>\n",
       "      <td>0.00000</td>\n",
       "      <td>0.0</td>\n",
       "      <td>0.0</td>\n",
       "      <td>0.000000</td>\n",
       "      <td>0.000000</td>\n",
       "      <td>0.0</td>\n",
       "      <td>0.0</td>\n",
       "      <td>0.000000</td>\n",
       "    </tr>\n",
       "    <tr>\n",
       "      <th>4</th>\n",
       "      <td>0.0</td>\n",
       "      <td>0.000000</td>\n",
       "      <td>0.0</td>\n",
       "      <td>0.0</td>\n",
       "      <td>0.0</td>\n",
       "      <td>0.0</td>\n",
       "      <td>0.0</td>\n",
       "      <td>0.0</td>\n",
       "      <td>0.000000</td>\n",
       "      <td>0.000000</td>\n",
       "      <td>...</td>\n",
       "      <td>0.000000</td>\n",
       "      <td>0.000000</td>\n",
       "      <td>0.00000</td>\n",
       "      <td>0.0</td>\n",
       "      <td>0.0</td>\n",
       "      <td>0.000000</td>\n",
       "      <td>0.000000</td>\n",
       "      <td>0.0</td>\n",
       "      <td>0.0</td>\n",
       "      <td>0.000000</td>\n",
       "    </tr>\n",
       "    <tr>\n",
       "      <th>...</th>\n",
       "      <td>...</td>\n",
       "      <td>...</td>\n",
       "      <td>...</td>\n",
       "      <td>...</td>\n",
       "      <td>...</td>\n",
       "      <td>...</td>\n",
       "      <td>...</td>\n",
       "      <td>...</td>\n",
       "      <td>...</td>\n",
       "      <td>...</td>\n",
       "      <td>...</td>\n",
       "      <td>...</td>\n",
       "      <td>...</td>\n",
       "      <td>...</td>\n",
       "      <td>...</td>\n",
       "      <td>...</td>\n",
       "      <td>...</td>\n",
       "      <td>...</td>\n",
       "      <td>...</td>\n",
       "      <td>...</td>\n",
       "      <td>...</td>\n",
       "    </tr>\n",
       "    <tr>\n",
       "      <th>44008</th>\n",
       "      <td>0.0</td>\n",
       "      <td>0.000000</td>\n",
       "      <td>0.0</td>\n",
       "      <td>0.0</td>\n",
       "      <td>0.0</td>\n",
       "      <td>0.0</td>\n",
       "      <td>0.0</td>\n",
       "      <td>0.0</td>\n",
       "      <td>0.000000</td>\n",
       "      <td>0.703399</td>\n",
       "      <td>...</td>\n",
       "      <td>0.000000</td>\n",
       "      <td>0.000000</td>\n",
       "      <td>0.00000</td>\n",
       "      <td>0.0</td>\n",
       "      <td>0.0</td>\n",
       "      <td>0.000000</td>\n",
       "      <td>0.000000</td>\n",
       "      <td>0.0</td>\n",
       "      <td>0.0</td>\n",
       "      <td>0.000000</td>\n",
       "    </tr>\n",
       "    <tr>\n",
       "      <th>44009</th>\n",
       "      <td>0.0</td>\n",
       "      <td>0.000000</td>\n",
       "      <td>0.0</td>\n",
       "      <td>0.0</td>\n",
       "      <td>0.0</td>\n",
       "      <td>0.0</td>\n",
       "      <td>0.0</td>\n",
       "      <td>0.0</td>\n",
       "      <td>0.000000</td>\n",
       "      <td>0.387097</td>\n",
       "      <td>...</td>\n",
       "      <td>0.433464</td>\n",
       "      <td>0.000000</td>\n",
       "      <td>0.00000</td>\n",
       "      <td>0.0</td>\n",
       "      <td>0.0</td>\n",
       "      <td>0.401822</td>\n",
       "      <td>0.000000</td>\n",
       "      <td>0.0</td>\n",
       "      <td>0.0</td>\n",
       "      <td>0.352589</td>\n",
       "    </tr>\n",
       "    <tr>\n",
       "      <th>44010</th>\n",
       "      <td>0.0</td>\n",
       "      <td>0.000000</td>\n",
       "      <td>0.0</td>\n",
       "      <td>0.0</td>\n",
       "      <td>0.0</td>\n",
       "      <td>0.0</td>\n",
       "      <td>0.0</td>\n",
       "      <td>0.0</td>\n",
       "      <td>0.000000</td>\n",
       "      <td>0.000000</td>\n",
       "      <td>...</td>\n",
       "      <td>0.000000</td>\n",
       "      <td>0.000000</td>\n",
       "      <td>0.00000</td>\n",
       "      <td>0.0</td>\n",
       "      <td>0.0</td>\n",
       "      <td>0.000000</td>\n",
       "      <td>0.000000</td>\n",
       "      <td>0.0</td>\n",
       "      <td>0.0</td>\n",
       "      <td>0.000000</td>\n",
       "    </tr>\n",
       "    <tr>\n",
       "      <th>44011</th>\n",
       "      <td>0.0</td>\n",
       "      <td>0.000000</td>\n",
       "      <td>0.0</td>\n",
       "      <td>0.0</td>\n",
       "      <td>0.0</td>\n",
       "      <td>0.0</td>\n",
       "      <td>0.0</td>\n",
       "      <td>0.0</td>\n",
       "      <td>0.000000</td>\n",
       "      <td>0.000000</td>\n",
       "      <td>...</td>\n",
       "      <td>0.000000</td>\n",
       "      <td>0.000000</td>\n",
       "      <td>0.34081</td>\n",
       "      <td>0.0</td>\n",
       "      <td>0.0</td>\n",
       "      <td>0.000000</td>\n",
       "      <td>0.643292</td>\n",
       "      <td>0.0</td>\n",
       "      <td>0.0</td>\n",
       "      <td>0.508444</td>\n",
       "    </tr>\n",
       "    <tr>\n",
       "      <th>44012</th>\n",
       "      <td>0.0</td>\n",
       "      <td>0.814094</td>\n",
       "      <td>0.0</td>\n",
       "      <td>0.0</td>\n",
       "      <td>0.0</td>\n",
       "      <td>0.0</td>\n",
       "      <td>0.0</td>\n",
       "      <td>0.0</td>\n",
       "      <td>0.000000</td>\n",
       "      <td>0.000000</td>\n",
       "      <td>...</td>\n",
       "      <td>0.000000</td>\n",
       "      <td>0.000000</td>\n",
       "      <td>0.00000</td>\n",
       "      <td>0.0</td>\n",
       "      <td>0.0</td>\n",
       "      <td>0.000000</td>\n",
       "      <td>0.000000</td>\n",
       "      <td>0.0</td>\n",
       "      <td>0.0</td>\n",
       "      <td>0.580733</td>\n",
       "    </tr>\n",
       "  </tbody>\n",
       "</table>\n",
       "<p>44013 rows × 50 columns</p>\n",
       "</div>"
      ],
      "text/plain": [
       "       begin       boy  come  daughter  day  discover  fall  family    father  \\\n",
       "0        0.0  0.000000   0.0       0.0  0.0       0.0   0.0     0.0  0.477451   \n",
       "1        0.0  0.000000   0.0       0.0  0.0       0.0   0.0     0.0  0.000000   \n",
       "2        0.0  0.000000   0.0       0.0  0.0       0.0   0.0     0.0  0.000000   \n",
       "3        0.0  0.000000   0.0       0.0  0.0       0.0   0.0     0.0  0.000000   \n",
       "4        0.0  0.000000   0.0       0.0  0.0       0.0   0.0     0.0  0.000000   \n",
       "...      ...       ...   ...       ...  ...       ...   ...     ...       ...   \n",
       "44008    0.0  0.000000   0.0       0.0  0.0       0.0   0.0     0.0  0.000000   \n",
       "44009    0.0  0.000000   0.0       0.0  0.0       0.0   0.0     0.0  0.000000   \n",
       "44010    0.0  0.000000   0.0       0.0  0.0       0.0   0.0     0.0  0.000000   \n",
       "44011    0.0  0.000000   0.0       0.0  0.0       0.0   0.0     0.0  0.000000   \n",
       "44012    0.0  0.814094   0.0       0.0  0.0       0.0   0.0     0.0  0.000000   \n",
       "\n",
       "           film  ...       try      turn      war  way  wife     woman  \\\n",
       "0      0.000000  ...  0.000000  0.000000  0.00000  0.0   0.0  0.000000   \n",
       "1      0.000000  ...  0.000000  0.000000  0.00000  0.0   0.0  0.000000   \n",
       "2      0.000000  ...  0.000000  0.000000  0.00000  0.0   0.0  0.000000   \n",
       "3      0.000000  ...  0.000000  0.700502  0.00000  0.0   0.0  0.000000   \n",
       "4      0.000000  ...  0.000000  0.000000  0.00000  0.0   0.0  0.000000   \n",
       "...         ...  ...       ...       ...      ...  ...   ...       ...   \n",
       "44008  0.703399  ...  0.000000  0.000000  0.00000  0.0   0.0  0.000000   \n",
       "44009  0.387097  ...  0.433464  0.000000  0.00000  0.0   0.0  0.401822   \n",
       "44010  0.000000  ...  0.000000  0.000000  0.00000  0.0   0.0  0.000000   \n",
       "44011  0.000000  ...  0.000000  0.000000  0.34081  0.0   0.0  0.000000   \n",
       "44012  0.000000  ...  0.000000  0.000000  0.00000  0.0   0.0  0.000000   \n",
       "\n",
       "           work  world  year     young  \n",
       "0      0.000000    0.0   0.0  0.000000  \n",
       "1      0.000000    0.0   0.0  0.000000  \n",
       "2      0.000000    0.0   0.0  0.000000  \n",
       "3      0.000000    0.0   0.0  0.000000  \n",
       "4      0.000000    0.0   0.0  0.000000  \n",
       "...         ...    ...   ...       ...  \n",
       "44008  0.000000    0.0   0.0  0.000000  \n",
       "44009  0.000000    0.0   0.0  0.352589  \n",
       "44010  0.000000    0.0   0.0  0.000000  \n",
       "44011  0.643292    0.0   0.0  0.508444  \n",
       "44012  0.000000    0.0   0.0  0.580733  \n",
       "\n",
       "[44013 rows x 50 columns]"
      ]
     },
     "execution_count": 558,
     "metadata": {},
     "output_type": "execute_result"
    }
   ],
   "source": [
    "#Creamos una matrix a partir de nuestro dataframe entero.\n",
    "tfidf_matrix = tfidf_vectorizer.fit_transform(movies_df['overview'].apply(\" \".join))\n",
    "movies_overview_vectorized = pd.DataFrame(tfidf_matrix.toarray(), columns=tfidf_vectorizer.get_feature_names_out())\n",
    "movies_overview_vectorized\n",
    "#Tiempo de ejecución de 1s."
   ]
  },
  {
   "cell_type": "code",
   "execution_count": null,
   "metadata": {},
   "outputs": [
    {
     "name": "stdout",
     "output_type": "stream",
     "text": [
      "<class 'pandas.core.frame.DataFrame'>\n",
      "RangeIndex: 44013 entries, 0 to 44012\n",
      "Data columns (total 50 columns):\n",
      " #   Column    Non-Null Count  Dtype  \n",
      "---  ------    --------------  -----  \n",
      " 0   begin     44013 non-null  float64\n",
      " 1   boy       44013 non-null  float64\n",
      " 2   come      44013 non-null  float64\n",
      " 3   daughter  44013 non-null  float64\n",
      " 4   day       44013 non-null  float64\n",
      " 5   discover  44013 non-null  float64\n",
      " 6   fall      44013 non-null  float64\n",
      " 7   family    44013 non-null  float64\n",
      " 8   father    44013 non-null  float64\n",
      " 9   film      44013 non-null  float64\n",
      " 10  find      44013 non-null  float64\n",
      " 11  force     44013 non-null  float64\n",
      " 12  friend    44013 non-null  float64\n",
      " 13  get       44013 non-null  float64\n",
      " 14  girl      44013 non-null  float64\n",
      " 15  go        44013 non-null  float64\n",
      " 16  good      44013 non-null  float64\n",
      " 17  help      44013 non-null  float64\n",
      " 18  home      44013 non-null  float64\n",
      " 19  kill      44013 non-null  float64\n",
      " 20  lead      44013 non-null  float64\n",
      " 21  leave     44013 non-null  float64\n",
      " 22  life      44013 non-null  float64\n",
      " 23  live      44013 non-null  float64\n",
      " 24  love      44013 non-null  float64\n",
      " 25  man       44013 non-null  float64\n",
      " 26  meet      44013 non-null  float64\n",
      " 27  mother    44013 non-null  float64\n",
      " 28  murder    44013 non-null  float64\n",
      " 29  new       44013 non-null  float64\n",
      " 30  not       44013 non-null  float64\n",
      " 31  old       44013 non-null  float64\n",
      " 32  people    44013 non-null  float64\n",
      " 33  school    44013 non-null  float64\n",
      " 34  set       44013 non-null  float64\n",
      " 35  son       44013 non-null  float64\n",
      " 36  story     44013 non-null  float64\n",
      " 37  take      44013 non-null  float64\n",
      " 38  time      44013 non-null  float64\n",
      " 39  town      44013 non-null  float64\n",
      " 40  try       44013 non-null  float64\n",
      " 41  turn      44013 non-null  float64\n",
      " 42  war       44013 non-null  float64\n",
      " 43  way       44013 non-null  float64\n",
      " 44  wife      44013 non-null  float64\n",
      " 45  woman     44013 non-null  float64\n",
      " 46  work      44013 non-null  float64\n",
      " 47  world     44013 non-null  float64\n",
      " 48  year      44013 non-null  float64\n",
      " 49  young     44013 non-null  float64\n",
      "dtypes: float64(50)\n",
      "memory usage: 16.8 MB\n"
     ]
    }
   ],
   "source": [
    "# El downside es que incrementa el peso a 16.8Megas. Talvez queramos reducir la dimensionalidad con PCA\n",
    "movies_overview_vectorized.info()"
   ]
  },
  {
   "cell_type": "markdown",
   "metadata": {},
   "source": [
    "### Aplicacion PCA"
   ]
  },
  {
   "cell_type": "code",
   "execution_count": 560,
   "metadata": {},
   "outputs": [],
   "source": [
    "from sklearn.decomposition import PCA"
   ]
  },
  {
   "cell_type": "code",
   "execution_count": 561,
   "metadata": {},
   "outputs": [],
   "source": [
    "# Definimos 10 componentes / Numero aleatorio, en un entorno real, deberiamos probar varios valores y resultados.\n",
    "pca = PCA(n_components=10)\n",
    "movies_overview_vectorized_reduced = pca.fit_transform(movies_overview_vectorized)"
   ]
  },
  {
   "cell_type": "code",
   "execution_count": null,
   "metadata": {},
   "outputs": [
    {
     "data": {
      "text/plain": [
       "array([[-0.05924496,  0.28794567, -0.12954664, ...,  0.2766786 ,\n",
       "        -0.02154161,  0.01492404],\n",
       "       [-0.07005963,  0.48784599,  0.37333743, ...,  0.01667425,\n",
       "         0.05293167,  0.0381219 ],\n",
       "       [-0.00396277, -0.0333207 , -0.02492836, ..., -0.04065877,\n",
       "        -0.0019588 , -0.04129712],\n",
       "       ...,\n",
       "       [-0.16590506, -0.21352687,  0.02286791, ..., -0.00112684,\n",
       "         0.03079892,  0.04951495],\n",
       "       [-0.0898872 , -0.07900334,  0.20141284, ..., -0.00488828,\n",
       "        -0.11807203, -0.0028048 ],\n",
       "       [-0.09193355, -0.09097795,  0.24242028, ...,  0.0234973 ,\n",
       "        -0.22580389,  0.00868521]])"
      ]
     },
     "execution_count": 564,
     "metadata": {},
     "output_type": "execute_result"
    }
   ],
   "source": [
    "movies_overview_vectorized_reduced"
   ]
  },
  {
   "cell_type": "code",
   "execution_count": 570,
   "metadata": {},
   "outputs": [
    {
     "data": {
      "text/html": [
       "<div>\n",
       "<style scoped>\n",
       "    .dataframe tbody tr th:only-of-type {\n",
       "        vertical-align: middle;\n",
       "    }\n",
       "\n",
       "    .dataframe tbody tr th {\n",
       "        vertical-align: top;\n",
       "    }\n",
       "\n",
       "    .dataframe thead th {\n",
       "        text-align: right;\n",
       "    }\n",
       "</style>\n",
       "<table border=\"1\" class=\"dataframe\">\n",
       "  <thead>\n",
       "    <tr style=\"text-align: right;\">\n",
       "      <th></th>\n",
       "      <th>Overview_pca_1</th>\n",
       "      <th>Overview_pca_2</th>\n",
       "      <th>Overview_pca_3</th>\n",
       "      <th>Overview_pca_4</th>\n",
       "      <th>Overview_pca_5</th>\n",
       "      <th>Overview_pca_6</th>\n",
       "      <th>Overview_pca_7</th>\n",
       "      <th>Overview_pca_8</th>\n",
       "      <th>Overview_pca_9</th>\n",
       "      <th>Overview_pca_10</th>\n",
       "    </tr>\n",
       "  </thead>\n",
       "  <tbody>\n",
       "    <tr>\n",
       "      <th>0</th>\n",
       "      <td>-0.059245</td>\n",
       "      <td>0.287946</td>\n",
       "      <td>-0.129547</td>\n",
       "      <td>-0.008717</td>\n",
       "      <td>-0.191959</td>\n",
       "      <td>0.032205</td>\n",
       "      <td>-0.046159</td>\n",
       "      <td>0.276679</td>\n",
       "      <td>-0.021542</td>\n",
       "      <td>0.014924</td>\n",
       "    </tr>\n",
       "    <tr>\n",
       "      <th>1</th>\n",
       "      <td>-0.070060</td>\n",
       "      <td>0.487846</td>\n",
       "      <td>0.373337</td>\n",
       "      <td>0.431613</td>\n",
       "      <td>-0.056732</td>\n",
       "      <td>0.472987</td>\n",
       "      <td>-0.241054</td>\n",
       "      <td>0.016674</td>\n",
       "      <td>0.052932</td>\n",
       "      <td>0.038122</td>\n",
       "    </tr>\n",
       "    <tr>\n",
       "      <th>2</th>\n",
       "      <td>-0.003963</td>\n",
       "      <td>-0.033321</td>\n",
       "      <td>-0.024928</td>\n",
       "      <td>-0.062604</td>\n",
       "      <td>-0.013472</td>\n",
       "      <td>0.006061</td>\n",
       "      <td>-0.011053</td>\n",
       "      <td>-0.040659</td>\n",
       "      <td>-0.001959</td>\n",
       "      <td>-0.041297</td>\n",
       "    </tr>\n",
       "    <tr>\n",
       "      <th>3</th>\n",
       "      <td>-0.053165</td>\n",
       "      <td>-0.077903</td>\n",
       "      <td>-0.042561</td>\n",
       "      <td>-0.071470</td>\n",
       "      <td>-0.045343</td>\n",
       "      <td>0.025141</td>\n",
       "      <td>-0.054225</td>\n",
       "      <td>-0.101491</td>\n",
       "      <td>-0.045622</td>\n",
       "      <td>-0.188094</td>\n",
       "    </tr>\n",
       "    <tr>\n",
       "      <th>4</th>\n",
       "      <td>-0.026597</td>\n",
       "      <td>-0.053522</td>\n",
       "      <td>-0.041591</td>\n",
       "      <td>-0.089935</td>\n",
       "      <td>-0.019957</td>\n",
       "      <td>0.038030</td>\n",
       "      <td>0.007911</td>\n",
       "      <td>-0.063810</td>\n",
       "      <td>-0.025875</td>\n",
       "      <td>-0.053301</td>\n",
       "    </tr>\n",
       "  </tbody>\n",
       "</table>\n",
       "</div>"
      ],
      "text/plain": [
       "   Overview_pca_1  Overview_pca_2  Overview_pca_3  Overview_pca_4  \\\n",
       "0       -0.059245        0.287946       -0.129547       -0.008717   \n",
       "1       -0.070060        0.487846        0.373337        0.431613   \n",
       "2       -0.003963       -0.033321       -0.024928       -0.062604   \n",
       "3       -0.053165       -0.077903       -0.042561       -0.071470   \n",
       "4       -0.026597       -0.053522       -0.041591       -0.089935   \n",
       "\n",
       "   Overview_pca_5  Overview_pca_6  Overview_pca_7  Overview_pca_8  \\\n",
       "0       -0.191959        0.032205       -0.046159        0.276679   \n",
       "1       -0.056732        0.472987       -0.241054        0.016674   \n",
       "2       -0.013472        0.006061       -0.011053       -0.040659   \n",
       "3       -0.045343        0.025141       -0.054225       -0.101491   \n",
       "4       -0.019957        0.038030        0.007911       -0.063810   \n",
       "\n",
       "   Overview_pca_9  Overview_pca_10  \n",
       "0       -0.021542         0.014924  \n",
       "1        0.052932         0.038122  \n",
       "2       -0.001959        -0.041297  \n",
       "3       -0.045622        -0.188094  \n",
       "4       -0.025875        -0.053301  "
      ]
     },
     "execution_count": 570,
     "metadata": {},
     "output_type": "execute_result"
    }
   ],
   "source": [
    "#Convertimos a pandas dataframe.\n",
    "movies_overview_vectorized_reduced_df = pd.DataFrame(movies_overview_vectorized_reduced, columns=[f'Overview_pca_{i+1}' for i in range (movies_overview_vectorized_reduced.shape[1])])\n",
    "movies_overview_vectorized_reduced_df.head(5)"
   ]
  },
  {
   "cell_type": "code",
   "execution_count": 574,
   "metadata": {},
   "outputs": [
    {
     "data": {
      "text/html": [
       "<div>\n",
       "<style scoped>\n",
       "    .dataframe tbody tr th:only-of-type {\n",
       "        vertical-align: middle;\n",
       "    }\n",
       "\n",
       "    .dataframe tbody tr th {\n",
       "        vertical-align: top;\n",
       "    }\n",
       "\n",
       "    .dataframe thead th {\n",
       "        text-align: right;\n",
       "    }\n",
       "</style>\n",
       "<table border=\"1\" class=\"dataframe\">\n",
       "  <thead>\n",
       "    <tr style=\"text-align: right;\">\n",
       "      <th></th>\n",
       "      <th>id</th>\n",
       "      <th>release_year</th>\n",
       "      <th>vote_average</th>\n",
       "      <th>popularity_log</th>\n",
       "      <th>vote_count_log</th>\n",
       "      <th>title_collection</th>\n",
       "      <th>concat_country_language</th>\n",
       "      <th>genres</th>\n",
       "      <th>production_companies</th>\n",
       "      <th>Overview_pca_1</th>\n",
       "      <th>Overview_pca_2</th>\n",
       "      <th>Overview_pca_3</th>\n",
       "      <th>Overview_pca_4</th>\n",
       "      <th>Overview_pca_5</th>\n",
       "      <th>Overview_pca_6</th>\n",
       "      <th>Overview_pca_7</th>\n",
       "      <th>Overview_pca_8</th>\n",
       "      <th>Overview_pca_9</th>\n",
       "      <th>Overview_pca_10</th>\n",
       "    </tr>\n",
       "  </thead>\n",
       "  <tbody>\n",
       "    <tr>\n",
       "      <th>0</th>\n",
       "      <td>2</td>\n",
       "      <td>1988</td>\n",
       "      <td>7.1</td>\n",
       "      <td>1.581139</td>\n",
       "      <td>3.806662</td>\n",
       "      <td>(ariel,)</td>\n",
       "      <td>(de, fi)</td>\n",
       "      <td>(Drama, Crime)</td>\n",
       "      <td>(Finnish Film Foundation, Villealfa Filmproduc...</td>\n",
       "      <td>-0.059245</td>\n",
       "      <td>0.287946</td>\n",
       "      <td>-0.129547</td>\n",
       "      <td>-0.008717</td>\n",
       "      <td>-0.191959</td>\n",
       "      <td>0.032205</td>\n",
       "      <td>-0.046159</td>\n",
       "      <td>0.276679</td>\n",
       "      <td>-0.021542</td>\n",
       "      <td>0.014924</td>\n",
       "    </tr>\n",
       "    <tr>\n",
       "      <th>1</th>\n",
       "      <td>3</td>\n",
       "      <td>1986</td>\n",
       "      <td>7.1</td>\n",
       "      <td>1.191529</td>\n",
       "      <td>3.583519</td>\n",
       "      <td>(shadow, paradise)</td>\n",
       "      <td>(sv, en, fi)</td>\n",
       "      <td>(Comedy, Drama)</td>\n",
       "      <td>(Villealfa Filmproduction Oy,)</td>\n",
       "      <td>-0.070060</td>\n",
       "      <td>0.487846</td>\n",
       "      <td>0.373337</td>\n",
       "      <td>0.431613</td>\n",
       "      <td>-0.056732</td>\n",
       "      <td>0.472987</td>\n",
       "      <td>-0.241054</td>\n",
       "      <td>0.016674</td>\n",
       "      <td>0.052932</td>\n",
       "      <td>0.038122</td>\n",
       "    </tr>\n",
       "    <tr>\n",
       "      <th>2</th>\n",
       "      <td>5</td>\n",
       "      <td>1995</td>\n",
       "      <td>6.5</td>\n",
       "      <td>2.305240</td>\n",
       "      <td>6.291569</td>\n",
       "      <td>(room,)</td>\n",
       "      <td>(en, us)</td>\n",
       "      <td>(Comedy, Crime)</td>\n",
       "      <td>(Miramax Films, A Band Apart)</td>\n",
       "      <td>-0.003963</td>\n",
       "      <td>-0.033321</td>\n",
       "      <td>-0.024928</td>\n",
       "      <td>-0.062604</td>\n",
       "      <td>-0.013472</td>\n",
       "      <td>0.006061</td>\n",
       "      <td>-0.011053</td>\n",
       "      <td>-0.040659</td>\n",
       "      <td>-0.001959</td>\n",
       "      <td>-0.041297</td>\n",
       "    </tr>\n",
       "    <tr>\n",
       "      <th>3</th>\n",
       "      <td>6</td>\n",
       "      <td>1993</td>\n",
       "      <td>6.4</td>\n",
       "      <td>1.877734</td>\n",
       "      <td>4.382027</td>\n",
       "      <td>(night, judgment)</td>\n",
       "      <td>(en, jp, us)</td>\n",
       "      <td>(Action, Crime, Thriller)</td>\n",
       "      <td>(Universal Pictures, Largo Entertainment, JVC ...</td>\n",
       "      <td>-0.053165</td>\n",
       "      <td>-0.077903</td>\n",
       "      <td>-0.042561</td>\n",
       "      <td>-0.071470</td>\n",
       "      <td>-0.045343</td>\n",
       "      <td>0.025141</td>\n",
       "      <td>-0.054225</td>\n",
       "      <td>-0.101491</td>\n",
       "      <td>-0.045622</td>\n",
       "      <td>-0.188094</td>\n",
       "    </tr>\n",
       "    <tr>\n",
       "      <th>4</th>\n",
       "      <td>11</td>\n",
       "      <td>1977</td>\n",
       "      <td>8.1</td>\n",
       "      <td>3.764675</td>\n",
       "      <td>8.821585</td>\n",
       "      <td>(star, collection, war)</td>\n",
       "      <td>(en, us)</td>\n",
       "      <td>(Action, Adventure, Science Fiction)</td>\n",
       "      <td>(Lucasfilm, Twentieth Century Fox Film Corpora...</td>\n",
       "      <td>-0.026597</td>\n",
       "      <td>-0.053522</td>\n",
       "      <td>-0.041591</td>\n",
       "      <td>-0.089935</td>\n",
       "      <td>-0.019957</td>\n",
       "      <td>0.038030</td>\n",
       "      <td>0.007911</td>\n",
       "      <td>-0.063810</td>\n",
       "      <td>-0.025875</td>\n",
       "      <td>-0.053301</td>\n",
       "    </tr>\n",
       "  </tbody>\n",
       "</table>\n",
       "</div>"
      ],
      "text/plain": [
       "   id  release_year  vote_average  popularity_log  vote_count_log  \\\n",
       "0   2          1988           7.1        1.581139        3.806662   \n",
       "1   3          1986           7.1        1.191529        3.583519   \n",
       "2   5          1995           6.5        2.305240        6.291569   \n",
       "3   6          1993           6.4        1.877734        4.382027   \n",
       "4  11          1977           8.1        3.764675        8.821585   \n",
       "\n",
       "          title_collection concat_country_language  \\\n",
       "0                 (ariel,)                (de, fi)   \n",
       "1       (shadow, paradise)            (sv, en, fi)   \n",
       "2                  (room,)                (en, us)   \n",
       "3        (night, judgment)            (en, jp, us)   \n",
       "4  (star, collection, war)                (en, us)   \n",
       "\n",
       "                                 genres  \\\n",
       "0                        (Drama, Crime)   \n",
       "1                       (Comedy, Drama)   \n",
       "2                       (Comedy, Crime)   \n",
       "3             (Action, Crime, Thriller)   \n",
       "4  (Action, Adventure, Science Fiction)   \n",
       "\n",
       "                                production_companies  Overview_pca_1  \\\n",
       "0  (Finnish Film Foundation, Villealfa Filmproduc...       -0.059245   \n",
       "1                     (Villealfa Filmproduction Oy,)       -0.070060   \n",
       "2                      (Miramax Films, A Band Apart)       -0.003963   \n",
       "3  (Universal Pictures, Largo Entertainment, JVC ...       -0.053165   \n",
       "4  (Lucasfilm, Twentieth Century Fox Film Corpora...       -0.026597   \n",
       "\n",
       "   Overview_pca_2  Overview_pca_3  Overview_pca_4  Overview_pca_5  \\\n",
       "0        0.287946       -0.129547       -0.008717       -0.191959   \n",
       "1        0.487846        0.373337        0.431613       -0.056732   \n",
       "2       -0.033321       -0.024928       -0.062604       -0.013472   \n",
       "3       -0.077903       -0.042561       -0.071470       -0.045343   \n",
       "4       -0.053522       -0.041591       -0.089935       -0.019957   \n",
       "\n",
       "   Overview_pca_6  Overview_pca_7  Overview_pca_8  Overview_pca_9  \\\n",
       "0        0.032205       -0.046159        0.276679       -0.021542   \n",
       "1        0.472987       -0.241054        0.016674        0.052932   \n",
       "2        0.006061       -0.011053       -0.040659       -0.001959   \n",
       "3        0.025141       -0.054225       -0.101491       -0.045622   \n",
       "4        0.038030        0.007911       -0.063810       -0.025875   \n",
       "\n",
       "   Overview_pca_10  \n",
       "0         0.014924  \n",
       "1         0.038122  \n",
       "2        -0.041297  \n",
       "3        -0.188094  \n",
       "4        -0.053301  "
      ]
     },
     "execution_count": 574,
     "metadata": {},
     "output_type": "execute_result"
    }
   ],
   "source": [
    "movies_ml_df = movies_df.merge(movies_overview_vectorized_reduced_df, left_index=True, right_index=True)\n",
    "movies_ml_df.drop(columns=[\"overview\"], inplace=True)\n",
    "movies_ml_df.head(5)"
   ]
  },
  {
   "cell_type": "code",
   "execution_count": null,
   "metadata": {},
   "outputs": [
    {
     "name": "stdout",
     "output_type": "stream",
     "text": [
      "<class 'pandas.core.frame.DataFrame'>\n",
      "RangeIndex: 44013 entries, 0 to 44012\n",
      "Data columns (total 19 columns):\n",
      " #   Column                   Non-Null Count  Dtype  \n",
      "---  ------                   --------------  -----  \n",
      " 0   id                       44013 non-null  int64  \n",
      " 1   release_year             44013 non-null  int64  \n",
      " 2   vote_average             44013 non-null  float64\n",
      " 3   popularity_log           44013 non-null  float64\n",
      " 4   vote_count_log           44013 non-null  float64\n",
      " 5   title_collection         44013 non-null  object \n",
      " 6   concat_country_language  44013 non-null  object \n",
      " 7   genres                   44013 non-null  object \n",
      " 8   production_companies     44013 non-null  object \n",
      " 9   Overview_pca_1           44013 non-null  float64\n",
      " 10  Overview_pca_2           44013 non-null  float64\n",
      " 11  Overview_pca_3           44013 non-null  float64\n",
      " 12  Overview_pca_4           44013 non-null  float64\n",
      " 13  Overview_pca_5           44013 non-null  float64\n",
      " 14  Overview_pca_6           44013 non-null  float64\n",
      " 15  Overview_pca_7           44013 non-null  float64\n",
      " 16  Overview_pca_8           44013 non-null  float64\n",
      " 17  Overview_pca_9           44013 non-null  float64\n",
      " 18  Overview_pca_10          44013 non-null  float64\n",
      "dtypes: float64(13), int64(2), object(4)\n",
      "memory usage: 6.4+ MB\n"
     ]
    }
   ],
   "source": [
    "#Peso en memoria de 6,4MB.\n",
    "movies_ml_df.info()"
   ]
  },
  {
   "cell_type": "code",
   "execution_count": 576,
   "metadata": {},
   "outputs": [],
   "source": [
    "movies_ml_df.to_csv(\"transformed_consultas/movies_ml_df.csv\")"
   ]
  },
  {
   "cell_type": "markdown",
   "metadata": {},
   "source": [
    "De esta manera finalizamos el tratamiento de datos de nuestra tabla."
   ]
  }
 ],
 "metadata": {
  "kernelspec": {
   "display_name": "henry_project_1",
   "language": "python",
   "name": "python3"
  },
  "language_info": {
   "codemirror_mode": {
    "name": "ipython",
    "version": 3
   },
   "file_extension": ".py",
   "mimetype": "text/x-python",
   "name": "python",
   "nbconvert_exporter": "python",
   "pygments_lexer": "ipython3",
   "version": "3.9.6"
  }
 },
 "nbformat": 4,
 "nbformat_minor": 2
}
